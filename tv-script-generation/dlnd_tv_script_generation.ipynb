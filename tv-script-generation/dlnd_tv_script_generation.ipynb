{
 "cells": [
  {
   "cell_type": "markdown",
   "metadata": {},
   "source": [
    "# TV Script Generation\n",
    "In this project, you'll generate your own [Simpsons](https://en.wikipedia.org/wiki/The_Simpsons) TV scripts using RNNs.  You'll be using part of the [Simpsons dataset](https://www.kaggle.com/wcukierski/the-simpsons-by-the-data) of scripts from 27 seasons.  The Neural Network you'll build will generate a new TV script for a scene at [Moe's Tavern](https://simpsonswiki.com/wiki/Moe's_Tavern).\n",
    "## Get the Data\n",
    "The data is already provided for you.  You'll be using a subset of the original dataset.  It consists of only the scenes in Moe's Tavern.  This doesn't include other versions of the tavern, like \"Moe's Cavern\", \"Flaming Moe's\", \"Uncle Moe's Family Feed-Bag\", etc.."
   ]
  },
  {
   "cell_type": "code",
   "execution_count": 1,
   "metadata": {
    "ExecuteTime": {
     "end_time": "2017-06-02T23:10:21.376472Z",
     "start_time": "2017-06-02T17:10:21.367189-06:00"
    }
   },
   "outputs": [],
   "source": [
    "\"\"\"\n",
    "DON'T MODIFY ANYTHING IN THIS CELL\n",
    "\"\"\"\n",
    "import helper\n",
    "\n",
    "data_dir = './data/simpsons/moes_tavern_lines.txt'\n",
    "text = helper.load_data(data_dir)\n",
    "# Ignore notice, since we don't use it for analysing the data\n",
    "text = text[81:]"
   ]
  },
  {
   "cell_type": "markdown",
   "metadata": {},
   "source": [
    "## Explore the Data\n",
    "Play around with `view_sentence_range` to view different parts of the data."
   ]
  },
  {
   "cell_type": "code",
   "execution_count": 2,
   "metadata": {
    "ExecuteTime": {
     "end_time": "2017-06-02T23:10:21.516223Z",
     "start_time": "2017-06-02T17:10:21.379088-06:00"
    }
   },
   "outputs": [
    {
     "name": "stdout",
     "output_type": "stream",
     "text": [
      "Dataset Stats\n",
      "Roughly the number of unique words: 11492\n",
      "Number of scenes: 262\n",
      "Average number of sentences in each scene: 15.248091603053435\n",
      "Number of lines: 4257\n",
      "Average number of words in each line: 11.50434578341555\n",
      "\n",
      "The sentences 500 to 600:\n",
      "Barney_Gumble: (CALLING AFTER HIM) Hey, Joey Joe Joe!\n",
      "Homer_Simpson: Oh, what the hell, it's me. I'm attracted to another woman. What am I going to do?\n",
      "Barney_Gumble: (RECITING) \"Your infatuation is based on a physical attraction. Talk to the woman, and you'll realize you have nothing in common.\"\n",
      "Homer_Simpson: Barney. That is so insightful. How did you come up with that?\n",
      "Barney_Gumble: It was on one of these bar napkins.\n",
      "\n",
      "\n",
      "Homer_Simpson: Okay, we've got the secret vigilante handshake. Now we need code names. I'll be \"Cueball.\" Skinner can be \"Eightball\", Barney will be \"Twelveball,\" and Moe, you can be \"Cueball.\"\n",
      "Moe_Szyslak: You're an idiot.\n",
      "\n",
      "\n",
      "Dr._Babcock: Excuse me?\n",
      "Homer_Simpson: Hello, is this President Clinton? Good. I figured if anyone knew where to get some Tang it'd be you... shut up!\n",
      "Dr._Babcock: Are you the person that called NASA yesterday?\n",
      "Homer_Simpson: (GASP) No. It wasn't me, I swear. It was... him.\n",
      "STILLWATER: Sir, how would you like to get higher than you've ever been in your life?\n",
      "Barney_Gumble: Be an astronaut? Sure.\n",
      "STILLWATER: Well, welcome aboard. I think you'll find that this will win you the respect of your family and friends.\n",
      "Homer_Simpson: (GASP) Respect?! Nooo! It was me! I made the crank call. I do it all the time. Check with the FBI, I have a file. I HAVE A FIIIIILE.\n",
      "STILLWATER: (SHRUGGING) Eh, better take both of them.\n",
      "STILLWATER: I don't really think that was necessary. They wanted to be astronauts.\n",
      "Dr._Babcock: I know.\n",
      "\n",
      "\n",
      "Homer_Simpson: Hey everyone!\n",
      "Homer_Simpson: I'd like to introduce Ned Flanders, my best friend.\n",
      "Moe_Szyslak: (TO HOMER) Hey, I don't want no people in here with their evils of alcohol rap.\n",
      "Ned_Flanders: Wait a second. You're the man at the hospital who reads to sick children.\n",
      "\n",
      "\n",
      "Moe_Szyslak: I think you're taking unfair advantage of my generous offer.\n",
      "Homer_Simpson: Shut up.\n",
      "\n",
      "\n",
      "Marge_Simpson: I can hit that one pin all right. But the rest of them don't even wobble.\n",
      "Moe_Szyslak: Lemme check. (TO BARFLIES) Phone call for Al, Al Caholic. / Uh, Jacques Strap! / Is I Pee Freely here? / Hey, is there a Butts here? Seymour Butts? Uh, Homer Sexual / My Crotch / A Amanda Huggenkiss? / A Huge Ass / \"Ivanna Tinkle\" / I'm a stupid moron with an ugly face and a big butt, and my butt smells, and I like to kiss my own butt.\n",
      "Marge_Simpson: No, no, no. No, ask your heart what its fondest desire is.\n",
      "Homer_Simpson: Hm...\n",
      "Homer_Simpson: Mmmm, Chocolate... / Mmmm, invisible cola. / Mmmm, Forbidden donut. / Mmmm sacrilicious. Mmmm, (INDECIPHERABLE) / Mmmm, free goo. Mmmm, something.\n",
      "Marge_Simpson: No, think about people. About moments in your life that have been very romantic.\n",
      "Homer_Simpson: Oh, okay.\n",
      "Marge_Simpson: That's not the idea at all. (THINKS) Okay, well this story isn't ideal, I've never told it to you before.\n",
      "Marge_Simpson: I got a very thoughtless birthday present from someone who shall remain nameless.\n",
      "Marge_Simpson: So I actually went to the bowling alley to spite him, or her... (MORE CLIPS)\n",
      "Marge_Simpson: (EMBARRASSED) Oh!\n",
      "Marge_Simpson: I'm awfully sorry.\n",
      "Jacques: Entirely my fault. (PAUSE) It is nice to meet you... (LOOKS AT HER BALL)... Homer.\n",
      "Marge_Simpson: (FLUSTERED) Oh, no, no. Homer is my... ball's name. I'm Marge.\n",
      "Jacques: Your fingers are so slender, so feminine. They are far too tapered for the ball you are using. You need something lighter, more delicate. Here, use my ball.\n",
      "Marge_Simpson: No... no, thank you, Mr... uh... (LOOKS AT THE NAME ON HIS BALL)... Brunswick.\n",
      "Jacques: Call me Jacques.\n",
      "Marge_Simpson: Jacques.\n",
      "Jacques: Marge.\n",
      "Marge_Simpson: Hmmm.\n",
      "Jacques: May I ask you a bold question?\n",
      "Marge_Simpson: Sure.\n",
      "Jacques: You've never bowled before?\n",
      "Marge_Simpson: Never.\n",
      "Jacques: No?\n",
      "Marge_Simpson: No.\n",
      "Jacques: Then I will teach you.\n",
      "Marge_Simpson: Oh, I don't want to trouble you.\n",
      "Jacques: Not at all. I am a professional. Roll the ball for me, Marge. Let me see your form.\n",
      "Marge_Simpson: All right. But I'm not very good.\n",
      "Jacques: I can help you, Marge. Pick up the ball. Pick up Homer. Pick him up.\n",
      "Marge_Simpson: Oh!\n",
      "Jacques: Now, throw!\n",
      "Marge_Simpson: But...\n",
      "Jacques: Throw, damn you!\n",
      "Marge_Simpson: (GASPS) You're a very good teacher!\n",
      "\n",
      "\n",
      "Lenny_Leonard: (SHIFTY EYED) Hey, Moe. You got change for a five?\n",
      "Moe_Szyslak: Yeah, sure thing, Lenny.\n",
      "Moe_Szyslak: Ow! Ow! Ooh! Ow! A snake in the cash register. (LAUGHS) Great prank, fellas, great. Oh, I'm gonna be sick tonight.\n",
      "Barney_Gumble: Hey Moe, you wanna smell my flower?\n",
      "Moe_Szyslak: (GENUINELY ENTHUSED) Do I?!\n",
      "Moe_Szyslak: (LAUGHS, PATTING OUT FLAMES) I'm burnin' up, here. Ooh, ooh, taking advantage of my alcohol soaked clothes. (LAUGHS) It's funny and it makes you think.\n",
      "Moe_Szyslak: (SERIOUS) Oh I need some coffee before I black out. Homer, pass me the sugar.\n",
      "Homer_Simpson: (TO HIMSELF) This is gonna to be great.\n",
      "Moe_Szyslak: Ooh!\n",
      "Barney_Gumble: Geez!\n",
      "Moe_Szyslak: Oh, there's sugar all over the bar now.\n",
      "Lenny_Leonard: That's not funny, Homer.\n",
      "Barney_Gumble: Yeah, we were just messin' around. And you had to go too far.\n",
      "Moe_Szyslak: How many people want Homer banned from this place for life?\n",
      "Moe_Szyslak: Yeah!\n",
      "Homer_Simpson: (PLEADING) Ah, come on, everybody. This bar is like a tavern to me.\n",
      "Moe_Szyslak: Sorry, Homer. You should have thought of that before you gave me the old sugar-me-do. I'm taking your caricature down from Mt. Lushmore.\n",
      "Moe_Szyslak: And I'm pulling your favorite song out of the juke box.\n",
      "Homer_Simpson: (GASP) \"It's Raining Men?\"\n",
      "Moe_Szyslak: Yeah, not no more it ain't.\n",
      "Waylon_Smithers: Oww. (READING LABEL, SUDDENLY INTRIGUED) Ohh...\n",
      "Homer_Simpson: (CHUCKLES) Jokes on them. I'm still alive.\n",
      "Man: (VERY POLITE) Greetings, good man. Might I trouble you for a drink?\n",
      "Moe_Szyslak: Oh, get outta here, Homer.\n",
      "Man: (TOO INNOCENT) \"Homer?\" Who is Homer? My name is Guy Incognito.\n",
      "Homer_Simpson: (GASPS) Gr-aargh! Oh my God, this man is my exact double. (GASPS WITH EQUAL ASTONISHMENT) That dog has a puffy tail!\n",
      "Homer_Simpson: Here, Puff! Here Puff! (GIGGLES)\n",
      "Homer_Simpson: The last bar in Springfield. If they don't let me in here, I'm gonna have to quit drinking.\n"
     ]
    }
   ],
   "source": [
    "view_sentence_range = (500, 600)\n",
    "\n",
    "\"\"\"\n",
    "DON'T MODIFY ANYTHING IN THIS CELL\n",
    "\"\"\"\n",
    "import numpy as np\n",
    "\n",
    "print('Dataset Stats')\n",
    "print('Roughly the number of unique words: {}'.format(len({word: None for word in text.split()})))\n",
    "scenes = text.split('\\n\\n')\n",
    "print('Number of scenes: {}'.format(len(scenes)))\n",
    "sentence_count_scene = [scene.count('\\n') for scene in scenes]\n",
    "print('Average number of sentences in each scene: {}'.format(np.average(sentence_count_scene)))\n",
    "\n",
    "sentences = [sentence for scene in scenes for sentence in scene.split('\\n')]\n",
    "print('Number of lines: {}'.format(len(sentences)))\n",
    "word_count_sentence = [len(sentence.split()) for sentence in sentences]\n",
    "print('Average number of words in each line: {}'.format(np.average(word_count_sentence)))\n",
    "\n",
    "print()\n",
    "print('The sentences {} to {}:'.format(*view_sentence_range))\n",
    "print('\\n'.join(text.split('\\n')[view_sentence_range[0]:view_sentence_range[1]]))"
   ]
  },
  {
   "cell_type": "markdown",
   "metadata": {},
   "source": [
    "## Implement Preprocessing Functions\n",
    "The first thing to do to any dataset is preprocessing.  Implement the following preprocessing functions below:\n",
    "- Lookup Table\n",
    "- Tokenize Punctuation\n",
    "\n",
    "### Lookup Table\n",
    "To create a word embedding, you first need to transform the words to ids.  In this function, create two dictionaries:\n",
    "- Dictionary to go from the words to an id, we'll call `vocab_to_int`\n",
    "- Dictionary to go from the id to word, we'll call `int_to_vocab`\n",
    "\n",
    "Return these dictionaries in the following tuple `(vocab_to_int, int_to_vocab)`"
   ]
  },
  {
   "cell_type": "code",
   "execution_count": 3,
   "metadata": {
    "ExecuteTime": {
     "end_time": "2017-06-02T23:10:24.594070Z",
     "start_time": "2017-06-02T17:10:21.518337-06:00"
    }
   },
   "outputs": [
    {
     "name": "stdout",
     "output_type": "stream",
     "text": [
      "Tests Passed\n"
     ]
    }
   ],
   "source": [
    "import numpy as np\n",
    "import problem_unittests as tests\n",
    "\n",
    "def create_lookup_tables(text):\n",
    "    \"\"\"\n",
    "    Create lookup tables for vocabulary\n",
    "    :param text: The text of tv scripts split into words\n",
    "    :return: A tuple of dicts (vocab_to_int, int_to_vocab)\n",
    "    \"\"\"\n",
    "    # TODO: Implement Function\n",
    "    words = set(text)\n",
    "    \n",
    "    return {w:k for k,w in enumerate(words)}, {k:w for k,w in enumerate(words)}\n",
    "\n",
    "\n",
    "\"\"\"\n",
    "DON'T MODIFY ANYTHING IN THIS CELL THAT IS BELOW THIS LINE\n",
    "\"\"\"\n",
    "tests.test_create_lookup_tables(create_lookup_tables)"
   ]
  },
  {
   "cell_type": "markdown",
   "metadata": {},
   "source": [
    "### Tokenize Punctuation\n",
    "We'll be splitting the script into a word array using spaces as delimiters.  However, punctuations like periods and exclamation marks make it hard for the neural network to distinguish between the word \"bye\" and \"bye!\".\n",
    "\n",
    "Implement the function `token_lookup` to return a dict that will be used to tokenize symbols like \"!\" into \"||Exclamation_Mark||\".  Create a dictionary for the following symbols where the symbol is the key and value is the token:\n",
    "- Period ( . )\n",
    "- Comma ( , )\n",
    "- Quotation Mark ( \" )\n",
    "- Semicolon ( ; )\n",
    "- Exclamation mark ( ! )\n",
    "- Question mark ( ? )\n",
    "- Left Parentheses ( ( )\n",
    "- Right Parentheses ( ) )\n",
    "- Dash ( -- )\n",
    "- Return ( \\n )\n",
    "\n",
    "This dictionary will be used to token the symbols and add the delimiter (space) around it.  This separates the symbols as it's own word, making it easier for the neural network to predict on the next word. Make sure you don't use a token that could be confused as a word. Instead of using the token \"dash\", try using something like \"||dash||\"."
   ]
  },
  {
   "cell_type": "code",
   "execution_count": 4,
   "metadata": {
    "ExecuteTime": {
     "end_time": "2017-06-02T23:10:24.605380Z",
     "start_time": "2017-06-02T17:10:24.596494-06:00"
    }
   },
   "outputs": [
    {
     "name": "stdout",
     "output_type": "stream",
     "text": [
      "Tests Passed\n"
     ]
    }
   ],
   "source": [
    "def token_lookup():\n",
    "    \"\"\"\n",
    "    Generate a dict to turn punctuation into a token.\n",
    "    :return: Tokenize dictionary where the key is the punctuation and the value is the token\n",
    "    \"\"\"\n",
    "    return {\n",
    "        '.':  '||Period||',\n",
    "        ',':  '||Comma||',\n",
    "        '\"':  '||Quotation_Mark||',\n",
    "        ';':  '||Semicolon||',\n",
    "        '!':  '||Exclamation_Mark||',\n",
    "        '?':  '||Question_Mark||',\n",
    "        '(':  '||Left_Parentheses||',\n",
    "        ')':  '||Right_Parentheses||',\n",
    "        '--': '||Dash||',\n",
    "        '\\n': '||Return||'\n",
    "    }\n",
    "\n",
    "\"\"\"\n",
    "DON'T MODIFY ANYTHING IN THIS CELL THAT IS BELOW THIS LINE\n",
    "\"\"\"\n",
    "tests.test_tokenize(token_lookup)"
   ]
  },
  {
   "cell_type": "markdown",
   "metadata": {},
   "source": [
    "## Preprocess all the data and save it\n",
    "Running the code cell below will preprocess all the data and save it to file."
   ]
  },
  {
   "cell_type": "code",
   "execution_count": 5,
   "metadata": {
    "ExecuteTime": {
     "end_time": "2017-06-02T23:10:24.658992Z",
     "start_time": "2017-06-02T17:10:24.607623-06:00"
    }
   },
   "outputs": [],
   "source": [
    "\"\"\"\n",
    "DON'T MODIFY ANYTHING IN THIS CELL\n",
    "\"\"\"\n",
    "# Preprocess Training, Validation, and Testing Data\n",
    "helper.preprocess_and_save_data(data_dir, token_lookup, create_lookup_tables)"
   ]
  },
  {
   "cell_type": "markdown",
   "metadata": {},
   "source": [
    "# Check Point\n",
    "This is your first checkpoint. If you ever decide to come back to this notebook or have to restart the notebook, you can start from here. The preprocessed data has been saved to disk."
   ]
  },
  {
   "cell_type": "code",
   "execution_count": 6,
   "metadata": {
    "ExecuteTime": {
     "end_time": "2017-06-02T23:10:24.672065Z",
     "start_time": "2017-06-02T17:10:24.661374-06:00"
    }
   },
   "outputs": [],
   "source": [
    "\"\"\"\n",
    "DON'T MODIFY ANYTHING IN THIS CELL\n",
    "\"\"\"\n",
    "import helper\n",
    "import numpy as np\n",
    "import problem_unittests as tests\n",
    "\n",
    "int_text, vocab_to_int, int_to_vocab, token_dict = helper.load_preprocess()"
   ]
  },
  {
   "cell_type": "markdown",
   "metadata": {},
   "source": [
    "## Build the Neural Network\n",
    "You'll build the components necessary to build a RNN by implementing the following functions below:\n",
    "- get_inputs\n",
    "- get_init_cell\n",
    "- get_embed\n",
    "- build_rnn\n",
    "- build_nn\n",
    "- get_batches\n",
    "\n",
    "### Check the Version of TensorFlow and Access to GPU"
   ]
  },
  {
   "cell_type": "code",
   "execution_count": 7,
   "metadata": {
    "ExecuteTime": {
     "end_time": "2017-06-02T23:10:27.580909Z",
     "start_time": "2017-06-02T17:10:24.674433-06:00"
    }
   },
   "outputs": [
    {
     "name": "stdout",
     "output_type": "stream",
     "text": [
      "TensorFlow Version: 1.0.1\n",
      "Default GPU Device: /gpu:0\n"
     ]
    }
   ],
   "source": [
    "\"\"\"\n",
    "DON'T MODIFY ANYTHING IN THIS CELL\n",
    "\"\"\"\n",
    "from distutils.version import LooseVersion\n",
    "import warnings\n",
    "import tensorflow as tf\n",
    "\n",
    "# Check TensorFlow Version\n",
    "assert LooseVersion(tf.__version__) >= LooseVersion('1.0'), 'Please use TensorFlow version 1.0 or newer'\n",
    "print('TensorFlow Version: {}'.format(tf.__version__))\n",
    "\n",
    "# Check for a GPU\n",
    "if not tf.test.gpu_device_name():\n",
    "    warnings.warn('No GPU found. Please use a GPU to train your neural network.')\n",
    "else:\n",
    "    print('Default GPU Device: {}'.format(tf.test.gpu_device_name()))"
   ]
  },
  {
   "cell_type": "markdown",
   "metadata": {},
   "source": [
    "### Input\n",
    "Implement the `get_inputs()` function to create TF Placeholders for the Neural Network.  It should create the following placeholders:\n",
    "- Input text placeholder named \"input\" using the [TF Placeholder](https://www.tensorflow.org/api_docs/python/tf/placeholder) `name` parameter.\n",
    "- Targets placeholder\n",
    "- Learning Rate placeholder\n",
    "\n",
    "Return the placeholders in the following tuple `(Input, Targets, LearningRate)`"
   ]
  },
  {
   "cell_type": "code",
   "execution_count": 8,
   "metadata": {
    "ExecuteTime": {
     "end_time": "2017-06-02T23:10:27.596909Z",
     "start_time": "2017-06-02T17:10:27.583680-06:00"
    }
   },
   "outputs": [
    {
     "name": "stdout",
     "output_type": "stream",
     "text": [
      "Tests Passed\n"
     ]
    }
   ],
   "source": [
    "def get_inputs():\n",
    "    \"\"\"\n",
    "    Create TF Placeholders for input, targets, and learning rate.\n",
    "    :return: Tuple (input, targets, learning rate)\n",
    "    \"\"\"\n",
    "    # TODO: Implement Function\n",
    "    Input   = tf.placeholder(tf.int32, (None, None), \"input\")\n",
    "    Targets = tf.placeholder(tf.int32, (None, None), \"targets\")\n",
    "    LearningRate = tf.placeholder(tf.float32)\n",
    "    \n",
    "    return Input, Targets, LearningRate\n",
    "\n",
    "\n",
    "\"\"\"\n",
    "DON'T MODIFY ANYTHING IN THIS CELL THAT IS BELOW THIS LINE\n",
    "\"\"\"\n",
    "tests.test_get_inputs(get_inputs)"
   ]
  },
  {
   "cell_type": "markdown",
   "metadata": {},
   "source": [
    "### Build RNN Cell and Initialize\n",
    "Stack one or more [`BasicLSTMCells`](https://www.tensorflow.org/api_docs/python/tf/contrib/rnn/BasicLSTMCell) in a [`MultiRNNCell`](https://www.tensorflow.org/api_docs/python/tf/contrib/rnn/MultiRNNCell).\n",
    "- The Rnn size should be set using `rnn_size`\n",
    "- Initalize Cell State using the MultiRNNCell's [`zero_state()`](https://www.tensorflow.org/api_docs/python/tf/contrib/rnn/MultiRNNCell#zero_state) function\n",
    "    - Apply the name \"initial_state\" to the initial state using [`tf.identity()`](https://www.tensorflow.org/api_docs/python/tf/identity)\n",
    "\n",
    "Return the cell and initial state in the following tuple `(Cell, InitialState)`"
   ]
  },
  {
   "cell_type": "code",
   "execution_count": 9,
   "metadata": {
    "ExecuteTime": {
     "end_time": "2017-06-02T23:10:27.625597Z",
     "start_time": "2017-06-02T17:10:27.599056-06:00"
    }
   },
   "outputs": [
    {
     "name": "stdout",
     "output_type": "stream",
     "text": [
      "Tests Passed\n"
     ]
    }
   ],
   "source": [
    "def get_init_cell(batch_size, rnn_size, lstm_layers=2):\n",
    "    \"\"\"\n",
    "    Create an RNN Cell and initialize it.\n",
    "    :param batch_size: Size of batches\n",
    "    :param rnn_size: Size of RNNs\n",
    "    :return: Tuple (cell, initialize state)\n",
    "    \"\"\"\n",
    "    \n",
    "    lstm = tf.contrib.rnn.BasicLSTMCell(rnn_size)\n",
    "    cell = tf.contrib.rnn.MultiRNNCell([lstm] * lstm_layers)\n",
    "    \n",
    "    initial_state = cell.zero_state(batch_size, tf.float32)\n",
    "    \n",
    "    # TODO: Implement Function\n",
    "    return cell, tf.identity(initial_state, 'initial_state')\n",
    "\n",
    "\n",
    "\"\"\"\n",
    "DON'T MODIFY ANYTHING IN THIS CELL THAT IS BELOW THIS LINE\n",
    "\"\"\"\n",
    "tests.test_get_init_cell(get_init_cell)"
   ]
  },
  {
   "cell_type": "markdown",
   "metadata": {},
   "source": [
    "### Word Embedding\n",
    "Apply embedding to `input_data` using TensorFlow.  Return the embedded sequence."
   ]
  },
  {
   "cell_type": "code",
   "execution_count": 10,
   "metadata": {
    "ExecuteTime": {
     "end_time": "2017-06-02T23:10:27.645930Z",
     "start_time": "2017-06-02T17:10:27.627681-06:00"
    }
   },
   "outputs": [
    {
     "name": "stdout",
     "output_type": "stream",
     "text": [
      "Tests Passed\n"
     ]
    }
   ],
   "source": [
    "def get_embed(input_data, vocab_size, embed_dim):\n",
    "    \"\"\"\n",
    "    Create embedding for <input_data>.\n",
    "    :param input_data: TF placeholder for text input.\n",
    "    :param vocab_size: Number of words in vocabulary.\n",
    "    :param embed_dim: Number of embedding dimensions\n",
    "    :return: Embedded input.\n",
    "    \"\"\"\n",
    "    # TODO: Implement Function\n",
    "    embed_values = tf.Variable(tf.random_uniform((vocab_size, embed_dim), -1,1), name=\"word_embedding\")\n",
    "    embed_lookup = tf.nn.embedding_lookup(embed_values, input_data)\n",
    "    return embed_lookup\n",
    "\n",
    "\n",
    "\"\"\"\n",
    "DON'T MODIFY ANYTHING IN THIS CELL THAT IS BELOW THIS LINE\n",
    "\"\"\"\n",
    "tests.test_get_embed(get_embed)"
   ]
  },
  {
   "cell_type": "markdown",
   "metadata": {},
   "source": [
    "### Build RNN\n",
    "You created a RNN Cell in the `get_init_cell()` function.  Time to use the cell to create a RNN.\n",
    "- Build the RNN using the [`tf.nn.dynamic_rnn()`](https://www.tensorflow.org/api_docs/python/tf/nn/dynamic_rnn)\n",
    " - Apply the name \"final_state\" to the final state using [`tf.identity()`](https://www.tensorflow.org/api_docs/python/tf/identity)\n",
    "\n",
    "Return the outputs and final_state state in the following tuple `(Outputs, FinalState)` "
   ]
  },
  {
   "cell_type": "code",
   "execution_count": 11,
   "metadata": {
    "ExecuteTime": {
     "end_time": "2017-06-02T23:10:27.791221Z",
     "start_time": "2017-06-02T17:10:27.648060-06:00"
    }
   },
   "outputs": [
    {
     "name": "stdout",
     "output_type": "stream",
     "text": [
      "Tests Passed\n"
     ]
    }
   ],
   "source": [
    "def build_rnn(cell, inputs, initial_state=None):\n",
    "    \"\"\"\n",
    "    Create a RNN using a RNN Cell\n",
    "    :param cell: RNN Cell\n",
    "    :param inputs: Input text data\n",
    "    :return: Tuple (Outputs, Final State)\n",
    "    \"\"\"\n",
    "    # TODO: Implement Function\n",
    "    outputs, final_state = tf.nn.dynamic_rnn(cell, inputs, dtype=tf.float32, initial_state=initial_state)\n",
    "    return outputs, tf.identity(final_state, name=\"final_state\")\n",
    "\n",
    "\n",
    "\"\"\"\n",
    "DON'T MODIFY ANYTHING IN THIS CELL THAT IS BELOW THIS LINE\n",
    "\"\"\"\n",
    "tests.test_build_rnn(build_rnn)"
   ]
  },
  {
   "cell_type": "markdown",
   "metadata": {},
   "source": [
    "### Build the Neural Network\n",
    "Apply the functions you implemented above to:\n",
    "- Apply embedding to `input_data` using your `get_embed(input_data, vocab_size, embed_dim)` function.\n",
    "- Build RNN using `cell` and your `build_rnn(cell, inputs)` function.\n",
    "- Apply a fully connected layer with a linear activation and `vocab_size` as the number of outputs.\n",
    "\n",
    "Return the logits and final state in the following tuple (Logits, FinalState) "
   ]
  },
  {
   "cell_type": "code",
   "execution_count": 12,
   "metadata": {
    "ExecuteTime": {
     "end_time": "2017-06-02T23:10:27.962416Z",
     "start_time": "2017-06-02T17:10:27.793261-06:00"
    }
   },
   "outputs": [
    {
     "name": "stdout",
     "output_type": "stream",
     "text": [
      "Tests Passed\n"
     ]
    }
   ],
   "source": [
    "def build_nn(cell, rnn_size, input_data, vocab_size, embed_dim):\n",
    "    \"\"\"\n",
    "    Build part of the neural network\n",
    "    :param cell: RNN cell\n",
    "    :param rnn_size: Size of rnns\n",
    "    :param input_data: Input data\n",
    "    :param vocab_size: Vocabulary size\n",
    "    :param embed_dim: Number of embedding dimensions\n",
    "    :return: Tuple (Logits, FinalState)\n",
    "    \"\"\"\n",
    "    # TODO: Implement Function\n",
    "    embed = get_embed(input_data, vocab_size, embed_dim)\n",
    "    rnn, final_state = build_rnn(cell, embed)\n",
    "    \n",
    "    logits = tf.contrib.layers.fully_connected(rnn, vocab_size, activation_fn=tf.nn.elu)\n",
    "    return logits, final_state\n",
    "\n",
    "\n",
    "\"\"\"\n",
    "DON'T MODIFY ANYTHING IN THIS CELL THAT IS BELOW THIS LINE\n",
    "\"\"\"\n",
    "tests.test_build_nn(build_nn)"
   ]
  },
  {
   "cell_type": "markdown",
   "metadata": {},
   "source": [
    "### Batches\n",
    "Implement `get_batches` to create batches of input and targets using `int_text`.  The batches should be a Numpy array with the shape `(number of batches, 2, batch size, sequence length)`. Each batch contains two elements:\n",
    "- The first element is a single batch of **input** with the shape `[batch size, sequence length]`\n",
    "- The second element is a single batch of **targets** with the shape `[batch size, sequence length]`\n",
    "\n",
    "If you can't fill the last batch with enough data, drop the last batch.\n",
    "\n",
    "For exmple, `get_batches([1, 2, 3, 4, 5, 6, 7, 8, 9, 10, 11, 12, 13, 14, 15, 16, 17, 18, 19, 20], 3, 2)` would return a Numpy array of the following:\n",
    "```\n",
    "[\n",
    "  # First Batch\n",
    "  [\n",
    "    # Batch of Input\n",
    "    [[ 1  2], [ 7  8], [13 14]]\n",
    "    # Batch of targets\n",
    "    [[ 2  3], [ 8  9], [14 15]]\n",
    "  ]\n",
    "\n",
    "  # Second Batch\n",
    "  [\n",
    "    # Batch of Input\n",
    "    [[ 3  4], [ 9 10], [15 16]]\n",
    "    # Batch of targets\n",
    "    [[ 4  5], [10 11], [16 17]]\n",
    "  ]\n",
    "\n",
    "  # Third Batch\n",
    "  [\n",
    "    # Batch of Input\n",
    "    [[ 5  6], [11 12], [17 18]]\n",
    "    # Batch of targets\n",
    "    [[ 6  7], [12 13], [18  1]]\n",
    "  ]\n",
    "]\n",
    "```\n",
    "\n",
    "Notice that the last target value in the last batch is the first input value of the first batch. In this case, `1`. This is a common technique used when creating sequence batches, although it is rather unintuitive."
   ]
  },
  {
   "cell_type": "code",
   "execution_count": 88,
   "metadata": {
    "ExecuteTime": {
     "end_time": "2017-06-03T00:27:05.982390Z",
     "start_time": "2017-06-02T18:27:05.948411-06:00"
    }
   },
   "outputs": [
    {
     "name": "stdout",
     "output_type": "stream",
     "text": [
      "5000 7 128 5\n",
      "Tests Passed\n"
     ]
    }
   ],
   "source": [
    "def get_batches(int_text, batch_size, seq_length):\n",
    "    \"\"\"\n",
    "    Return batches of input and target\n",
    "    :param int_text: Text with the words replaced by their ids\n",
    "    :param batch_size: The size of batch\n",
    "    :param seq_length: The length of sequence\n",
    "    :return: Batches as a Numpy array\n",
    "    \"\"\"\n",
    "    # TODO: Implement Function\n",
    "    n_batches = len(int_text) // (batch_size * seq_length)\n",
    "    print(len(int_text),n_batches,batch_size,seq_length)\n",
    "    \n",
    "    rv = np.zeros((n_batches, 2, batch_size, seq_length))\n",
    "    for i in range(batch_size):\n",
    "        seq_start = i * n_batches * seq_length\n",
    "        for j in range(n_batches):\n",
    "            batch_offset = j * seq_length\n",
    "            a = seq_start + batch_offset\n",
    "            b = a + seq_length\n",
    "            rv[j,0,i,:] = int_text[a:b]\n",
    "            rv[j,1,i,:] = int_text[a+1:b+1]\n",
    "    rv[-1,-1,-1,-1] = int_text[0]\n",
    "    return rv\n",
    "\n",
    "\n",
    "\"\"\"\n",
    "DON'T MODIFY ANYTHING IN THIS CELL THAT IS BELOW THIS LINE\n",
    "\"\"\"\n",
    "tests.test_get_batches(get_batches)"
   ]
  },
  {
   "cell_type": "markdown",
   "metadata": {},
   "source": [
    "## Neural Network Training\n",
    "### Hyperparameters\n",
    "Tune the following parameters:\n",
    "\n",
    "- Set `num_epochs` to the number of epochs.\n",
    "- Set `batch_size` to the batch size.\n",
    "- Set `rnn_size` to the size of the RNNs.\n",
    "- Set `embed_dim` to the size of the embedding.\n",
    "- Set `seq_length` to the length of sequence.\n",
    "- Set `learning_rate` to the learning rate.\n",
    "- Set `show_every_n_batches` to the number of batches the neural network should print progress."
   ]
  },
  {
   "cell_type": "code",
   "execution_count": 73,
   "metadata": {
    "ExecuteTime": {
     "end_time": "2017-06-02T23:57:14.176272Z",
     "start_time": "2017-06-02T17:57:14.164069-06:00"
    }
   },
   "outputs": [
    {
     "data": {
      "text/plain": [
       "'e=160,b=32,rnn=512,embed=128,seq=128,lr=0.001'"
      ]
     },
     "execution_count": 73,
     "metadata": {},
     "output_type": "execute_result"
    }
   ],
   "source": [
    "# Number of Epochs\n",
    "num_epochs = 160\n",
    "# Batch Size\n",
    "batch_size = 32\n",
    "# RNN Size\n",
    "rnn_size = 512\n",
    "# Embedding Dimension Size\n",
    "embed_dim = 128\n",
    "# Sequence Length\n",
    "seq_length = 128\n",
    "# Learning Rate\n",
    "learning_rate = 0.001\n",
    "# Show stats for every n number of batches\n",
    "show_every_n_batches = 40\n",
    "\n",
    "run_name = \"e={},b={},rnn={},embed={},seq={},lr={}\".format(num_epochs,batch_size,\n",
    "                                                           rnn_size,embed_dim,seq_length,\n",
    "                                                           learning_rate)\n",
    "\"\"\"\n",
    "DON'T MODIFY ANYTHING IN THIS CELL THAT IS BELOW THIS LINE\n",
    "\"\"\"\n",
    "save_dir = './save'\n",
    "run_name"
   ]
  },
  {
   "cell_type": "markdown",
   "metadata": {},
   "source": [
    "### Build the Graph\n",
    "Build the graph using the neural network you implemented."
   ]
  },
  {
   "cell_type": "code",
   "execution_count": 74,
   "metadata": {
    "ExecuteTime": {
     "end_time": "2017-06-02T23:57:15.076275Z",
     "start_time": "2017-06-02T17:57:14.178375-06:00"
    }
   },
   "outputs": [],
   "source": [
    "\"\"\"\n",
    "DON'T MODIFY ANYTHING IN THIS CELL\n",
    "\"\"\"\n",
    "from tensorflow.contrib import seq2seq\n",
    "\n",
    "train_graph = tf.Graph()\n",
    "with train_graph.as_default():\n",
    "    vocab_size = len(int_to_vocab)\n",
    "    input_text, targets, lr = get_inputs()\n",
    "    input_data_shape = tf.shape(input_text)\n",
    "    cell, initial_state = get_init_cell(input_data_shape[0], rnn_size)\n",
    "    logits, final_state = build_nn(cell, rnn_size, input_text, vocab_size, embed_dim)\n",
    "\n",
    "    # Probabilities for generating words\n",
    "    probs = tf.nn.softmax(logits, name='probs')\n",
    "\n",
    "    # Loss function\n",
    "    cost = seq2seq.sequence_loss(\n",
    "        logits,\n",
    "        targets,\n",
    "        tf.ones([input_data_shape[0], input_data_shape[1]]))\n",
    "\n",
    "    # Optimizer\n",
    "    optimizer = tf.train.AdamOptimizer(lr)\n",
    "\n",
    "    # Gradient Clipping\n",
    "    gradients = optimizer.compute_gradients(cost)\n",
    "    capped_gradients = [(tf.clip_by_value(grad, -1., 1.), var) for grad, var in gradients if grad is not None]\n",
    "    train_op = optimizer.apply_gradients(capped_gradients)\n",
    "    \n",
    "    tf.summary.scalar('cost',cost)\n",
    "    merged = tf.summary.merge_all()"
   ]
  },
  {
   "cell_type": "markdown",
   "metadata": {},
   "source": [
    "## Train\n",
    "Train the neural network on the preprocessed data.  If you have a hard time getting a good loss, check the [forms](https://discussions.udacity.com/) to see if anyone is having the same problem."
   ]
  },
  {
   "cell_type": "code",
   "execution_count": 75,
   "metadata": {
    "ExecuteTime": {
     "end_time": "2017-06-02T23:57:15.081156Z",
     "start_time": "2017-06-02T17:57:15.078420-06:00"
    },
    "collapsed": true
   },
   "outputs": [],
   "source": [
    "import sys"
   ]
  },
  {
   "cell_type": "code",
   "execution_count": 76,
   "metadata": {
    "ExecuteTime": {
     "end_time": "2017-06-03T00:14:21.487757Z",
     "start_time": "2017-06-02T17:57:15.083332-06:00"
    },
    "scrolled": false
   },
   "outputs": [
    {
     "name": "stdout",
     "output_type": "stream",
     "text": [
      "69100 16 32 128\n",
      ".\n",
      "Epoch   0 Batch    0/16   train_loss = 8.821\n",
      "........................................\n",
      "Epoch   2 Batch    8/16   train_loss = 5.963\n",
      "........................................\n",
      "Epoch   5 Batch    0/16   train_loss = 5.964\n",
      "........................................\n",
      "Epoch   7 Batch    8/16   train_loss = 5.932\n",
      "........................................\n",
      "Epoch  10 Batch    0/16   train_loss = 5.950\n",
      "........................................\n",
      "Epoch  12 Batch    8/16   train_loss = 5.926\n",
      "........................................\n",
      "Epoch  15 Batch    0/16   train_loss = 5.942\n",
      "........................................\n",
      "Epoch  17 Batch    8/16   train_loss = 5.901\n",
      "........................................\n",
      "Epoch  20 Batch    0/16   train_loss = 5.843\n",
      "........................................\n",
      "Epoch  22 Batch    8/16   train_loss = 5.728\n",
      "........................................\n",
      "Epoch  25 Batch    0/16   train_loss = 5.654\n",
      "........................................\n",
      "Epoch  27 Batch    8/16   train_loss = 5.592\n",
      "........................................\n",
      "Epoch  30 Batch    0/16   train_loss = 5.523\n",
      "........................................\n",
      "Epoch  32 Batch    8/16   train_loss = 5.468\n",
      "........................................\n",
      "Epoch  35 Batch    0/16   train_loss = 5.395\n",
      "........................................\n",
      "Epoch  37 Batch    8/16   train_loss = 5.341\n",
      "........................................\n",
      "Epoch  40 Batch    0/16   train_loss = 5.265\n",
      "........................................\n",
      "Epoch  42 Batch    8/16   train_loss = 5.187\n",
      "........................................\n",
      "Epoch  45 Batch    0/16   train_loss = 5.094\n",
      "........................................\n",
      "Epoch  47 Batch    8/16   train_loss = 5.027\n",
      "........................................\n",
      "Epoch  50 Batch    0/16   train_loss = 4.943\n",
      "........................................\n",
      "Epoch  52 Batch    8/16   train_loss = 4.876\n",
      "........................................\n",
      "Epoch  55 Batch    0/16   train_loss = 4.802\n",
      "........................................\n",
      "Epoch  57 Batch    8/16   train_loss = 4.720\n",
      "........................................\n",
      "Epoch  60 Batch    0/16   train_loss = 4.675\n",
      "........................................\n",
      "Epoch  62 Batch    8/16   train_loss = 4.598\n",
      "........................................\n",
      "Epoch  65 Batch    0/16   train_loss = 4.570\n",
      "........................................\n",
      "Epoch  67 Batch    8/16   train_loss = 4.493\n",
      "........................................\n",
      "Epoch  70 Batch    0/16   train_loss = 4.464\n",
      "........................................\n",
      "Epoch  72 Batch    8/16   train_loss = 4.436\n",
      "........................................\n",
      "Epoch  75 Batch    0/16   train_loss = 4.372\n",
      "........................................\n",
      "Epoch  77 Batch    8/16   train_loss = 4.286\n",
      "........................................\n",
      "Epoch  80 Batch    0/16   train_loss = 4.276\n",
      "........................................\n",
      "Epoch  82 Batch    8/16   train_loss = 4.187\n",
      "........................................\n",
      "Epoch  85 Batch    0/16   train_loss = 4.167\n",
      "........................................\n",
      "Epoch  87 Batch    8/16   train_loss = 4.169\n",
      "........................................\n",
      "Epoch  90 Batch    0/16   train_loss = 4.056\n",
      "........................................\n",
      "Epoch  92 Batch    8/16   train_loss = 3.936\n",
      "........................................\n",
      "Epoch  95 Batch    0/16   train_loss = 3.935\n",
      "........................................\n",
      "Epoch  97 Batch    8/16   train_loss = 3.826\n",
      "........................................\n",
      "Epoch 100 Batch    0/16   train_loss = 3.853\n",
      "........................................\n",
      "Epoch 102 Batch    8/16   train_loss = 3.734\n",
      "........................................\n",
      "Epoch 105 Batch    0/16   train_loss = 3.696\n",
      "........................................\n",
      "Epoch 107 Batch    8/16   train_loss = 3.578\n",
      "........................................\n",
      "Epoch 110 Batch    0/16   train_loss = 3.585\n",
      "........................................\n",
      "Epoch 112 Batch    8/16   train_loss = 3.513\n",
      "........................................\n",
      "Epoch 115 Batch    0/16   train_loss = 3.504\n",
      "........................................\n",
      "Epoch 117 Batch    8/16   train_loss = 3.366\n",
      "........................................\n",
      "Epoch 120 Batch    0/16   train_loss = 3.355\n",
      "........................................\n",
      "Epoch 122 Batch    8/16   train_loss = 3.266\n",
      "........................................\n",
      "Epoch 125 Batch    0/16   train_loss = 3.271\n",
      "........................................\n",
      "Epoch 127 Batch    8/16   train_loss = 3.180\n",
      "........................................\n",
      "Epoch 130 Batch    0/16   train_loss = 3.168\n",
      "........................................\n",
      "Epoch 132 Batch    8/16   train_loss = 3.099\n",
      "........................................\n",
      "Epoch 135 Batch    0/16   train_loss = 3.114\n",
      "........................................\n",
      "Epoch 137 Batch    8/16   train_loss = 3.037\n",
      "........................................\n",
      "Epoch 140 Batch    0/16   train_loss = 2.987\n",
      "........................................\n",
      "Epoch 142 Batch    8/16   train_loss = 2.908\n",
      "........................................\n",
      "Epoch 145 Batch    0/16   train_loss = 2.926\n",
      "........................................\n",
      "Epoch 147 Batch    8/16   train_loss = 2.809\n",
      "........................................\n",
      "Epoch 150 Batch    0/16   train_loss = 2.792\n",
      "........................................\n",
      "Epoch 152 Batch    8/16   train_loss = 2.701\n",
      "........................................\n",
      "Epoch 155 Batch    0/16   train_loss = 2.693\n",
      "........................................\n",
      "Epoch 157 Batch    8/16   train_loss = 2.606\n",
      ".......................................Model Trained and Saved\n"
     ]
    }
   ],
   "source": [
    "\"\"\"\n",
    "DON'T MODIFY ANYTHING IN THIS CELL\n",
    "\"\"\"\n",
    "batches = get_batches(int_text, batch_size, seq_length)\n",
    "\n",
    "with tf.Session(graph=train_graph) as sess:\n",
    "    sess.run(tf.global_variables_initializer())\n",
    "    \n",
    "    train_logger = tf.summary.FileWriter('./logs/{}'.format(run_name), sess.graph)\n",
    "\n",
    "    for epoch_i in range(num_epochs):\n",
    "        state = sess.run(initial_state, {input_text: batches[0][0]})\n",
    "\n",
    "        for batch_i, (x, y) in enumerate(batches):\n",
    "            feed = {\n",
    "                input_text: x,\n",
    "                targets: y,\n",
    "                initial_state: state,\n",
    "                lr: learning_rate}\n",
    "            s, train_loss, state, _ = sess.run([merged, cost, final_state, train_op], feed)\n",
    "            sys.stdout.write('.')\n",
    "            sys.stdout.flush()\n",
    "            \n",
    "            train_logger.add_summary(s, (epoch_i * len(batches) + batch_i))\n",
    "\n",
    "            # Show every <show_every_n_batches> batches\n",
    "            if (epoch_i * len(batches) + batch_i) % show_every_n_batches == 0:\n",
    "                print('\\nEpoch {:>3} Batch {:>4}/{}   train_loss = {:.3f}'.format(\n",
    "                    epoch_i,\n",
    "                    batch_i,\n",
    "                    len(batches),\n",
    "                    train_loss))\n",
    "\n",
    "    # Save Model\n",
    "    saver = tf.train.Saver()\n",
    "    saver.save(sess, save_dir)\n",
    "    print('Model Trained and Saved')"
   ]
  },
  {
   "cell_type": "markdown",
   "metadata": {},
   "source": [
    "## Save Parameters\n",
    "Save `seq_length` and `save_dir` for generating a new TV script."
   ]
  },
  {
   "cell_type": "code",
   "execution_count": 77,
   "metadata": {
    "ExecuteTime": {
     "end_time": "2017-06-03T00:14:21.494755Z",
     "start_time": "2017-06-02T18:14:21.490213-06:00"
    }
   },
   "outputs": [],
   "source": [
    "\"\"\"\n",
    "DON'T MODIFY ANYTHING IN THIS CELL\n",
    "\"\"\"\n",
    "# Save parameters for checkpoint\n",
    "helper.save_params((seq_length, save_dir))"
   ]
  },
  {
   "cell_type": "markdown",
   "metadata": {},
   "source": [
    "# Checkpoint"
   ]
  },
  {
   "cell_type": "code",
   "execution_count": 78,
   "metadata": {
    "ExecuteTime": {
     "end_time": "2017-06-03T00:14:21.509700Z",
     "start_time": "2017-06-02T18:14:21.496980-06:00"
    }
   },
   "outputs": [],
   "source": [
    "\"\"\"\n",
    "DON'T MODIFY ANYTHING IN THIS CELL\n",
    "\"\"\"\n",
    "import tensorflow as tf\n",
    "import numpy as np\n",
    "import helper\n",
    "import problem_unittests as tests\n",
    "\n",
    "_, vocab_to_int, int_to_vocab, token_dict = helper.load_preprocess()\n",
    "seq_length, load_dir = helper.load_params()"
   ]
  },
  {
   "cell_type": "markdown",
   "metadata": {},
   "source": [
    "## Implement Generate Functions\n",
    "### Get Tensors\n",
    "Get tensors from `loaded_graph` using the function [`get_tensor_by_name()`](https://www.tensorflow.org/api_docs/python/tf/Graph#get_tensor_by_name).  Get the tensors using the following names:\n",
    "- \"input:0\"\n",
    "- \"initial_state:0\"\n",
    "- \"final_state:0\"\n",
    "- \"probs:0\"\n",
    "\n",
    "Return the tensors in the following tuple `(InputTensor, InitialStateTensor, FinalStateTensor, ProbsTensor)` "
   ]
  },
  {
   "cell_type": "code",
   "execution_count": 79,
   "metadata": {
    "ExecuteTime": {
     "end_time": "2017-06-03T00:14:21.520689Z",
     "start_time": "2017-06-02T18:14:21.511859-06:00"
    }
   },
   "outputs": [
    {
     "name": "stdout",
     "output_type": "stream",
     "text": [
      "Tests Passed\n"
     ]
    }
   ],
   "source": [
    "def get_tensors(loaded_graph):\n",
    "    \"\"\"\n",
    "    Get input, initial state, final state, and probabilities tensor from <loaded_graph>\n",
    "    :param loaded_graph: TensorFlow graph loaded from file\n",
    "    :return: Tuple (InputTensor, InitialStateTensor, FinalStateTensor, ProbsTensor)\n",
    "    \"\"\"\n",
    "    # TODO: Implement Function\n",
    "    return (loaded_graph.get_tensor_by_name('input:0'),\n",
    "            loaded_graph.get_tensor_by_name('initial_state:0'),\n",
    "            loaded_graph.get_tensor_by_name('final_state:0'),\n",
    "            loaded_graph.get_tensor_by_name('probs:0'))\n",
    "\n",
    "\"\"\"\n",
    "DON'T MODIFY ANYTHING IN THIS CELL THAT IS BELOW THIS LINE\n",
    "\"\"\"\n",
    "tests.test_get_tensors(get_tensors)"
   ]
  },
  {
   "cell_type": "markdown",
   "metadata": {},
   "source": [
    "### Choose Word\n",
    "Implement the `pick_word()` function to select the next word using `probabilities`."
   ]
  },
  {
   "cell_type": "code",
   "execution_count": 80,
   "metadata": {
    "ExecuteTime": {
     "end_time": "2017-06-03T00:14:21.528674Z",
     "start_time": "2017-06-02T18:14:21.522676-06:00"
    }
   },
   "outputs": [
    {
     "name": "stdout",
     "output_type": "stream",
     "text": [
      "Tests Passed\n"
     ]
    }
   ],
   "source": [
    "def pick_word(probabilities, int_to_vocab):\n",
    "    \"\"\"\n",
    "    Pick the next word in the generated text\n",
    "    :param probabilities: Probabilites of the next word\n",
    "    :param int_to_vocab: Dictionary of word ids as the keys and words as the values\n",
    "    :return: String of the predicted word\n",
    "    \"\"\"\n",
    "    return int_to_vocab[np.random.choice(range(len(probabilities)), p=probabilities)]\n",
    "\n",
    "\"\"\"\n",
    "DON'T MODIFY ANYTHING IN THIS CELL THAT IS BELOW THIS LINE\n",
    "\"\"\"\n",
    "tests.test_pick_word(pick_word)"
   ]
  },
  {
   "cell_type": "markdown",
   "metadata": {},
   "source": [
    "## Generate TV Script\n",
    "This will generate the TV script for you.  Set `gen_length` to the length of TV script you want to generate."
   ]
  },
  {
   "cell_type": "code",
   "execution_count": 81,
   "metadata": {
    "ExecuteTime": {
     "end_time": "2017-06-03T00:14:33.261502Z",
     "start_time": "2017-06-02T18:14:21.530621-06:00"
    }
   },
   "outputs": [
    {
     "name": "stdout",
     "output_type": "stream",
     "text": [
      "moe_szyslak: do y'know was ready that. you're a huge occurrence teenage\" instead of his darts... i'm her.\n",
      "moe_szyslak: lessee eh... no butt!\n",
      "short compadre.\n",
      "stillwater:(sing-song) / my god, i can't never flown salt back flanders. ah, i love maybe this vacation for watching out time.\n",
      "moe_szyslak: sure.\n",
      "moe_szyslak:(singing) good bold from workin' back solely.\n",
      "moe_szyslak: everybody must someone you be over.\n",
      "seymour_skinner:(dreamy) tape, america see, we were krusty? you mean this of a crippling play somethin': i gotta sell us down?\n",
      "lenny_leonard:(writing)\n",
      "collette: you're drink gonna try that.\n",
      "carl_carlson: moe, they were make her and the old floor.\n",
      "homer_simpson: commission months that's even a trip?\n",
      "moe_szyslak: ma'am.\n",
      "marge_simpson: i drive.\n",
      "moe_szyslak:(upset) ohmygod?(sly) uh-huh.\n",
      "moe_szyslak:(annoyed) upon, diminish no... take a minute. oh, first.\n",
      "homer_simpson:(touched) oh\n"
     ]
    }
   ],
   "source": [
    "gen_length = 200\n",
    "# homer_simpson, moe_szyslak, or Barney_Gumble\n",
    "prime_word = 'moe_szyslak'\n",
    "\n",
    "\"\"\"\n",
    "DON'T MODIFY ANYTHING IN THIS CELL THAT IS BELOW THIS LINE\n",
    "\"\"\"\n",
    "loaded_graph = tf.Graph()\n",
    "with tf.Session(graph=loaded_graph) as sess:\n",
    "    # Load saved model\n",
    "    loader = tf.train.import_meta_graph(load_dir + '.meta')\n",
    "    loader.restore(sess, load_dir)\n",
    "\n",
    "    # Get Tensors from loaded model\n",
    "    input_text, initial_state, final_state, probs = get_tensors(loaded_graph)\n",
    "\n",
    "    # Sentences generation setup\n",
    "    gen_sentences = [prime_word + ':']\n",
    "    prev_state = sess.run(initial_state, {input_text: np.array([[1]])})\n",
    "\n",
    "    # Generate sentences\n",
    "    for n in range(gen_length):\n",
    "        # Dynamic Input\n",
    "        dyn_input = [[vocab_to_int[word] for word in gen_sentences[-seq_length:]]]\n",
    "        dyn_seq_length = len(dyn_input[0])\n",
    "\n",
    "        # Get Prediction\n",
    "        probabilities, prev_state = sess.run(\n",
    "            [probs, final_state],\n",
    "            {input_text: dyn_input, initial_state: prev_state})\n",
    "        \n",
    "        pred_word = pick_word(probabilities[dyn_seq_length-1], int_to_vocab)\n",
    "\n",
    "        gen_sentences.append(pred_word)\n",
    "    \n",
    "    # Remove tokens\n",
    "    tv_script = ' '.join(gen_sentences)\n",
    "    for key, token in token_dict.items():\n",
    "        ending = ' ' if key in ['\\n', '(', '\"'] else ''\n",
    "        tv_script = tv_script.replace(' ' + token.lower(), key)\n",
    "    tv_script = tv_script.replace('\\n ', '\\n')\n",
    "    tv_script = tv_script.replace('( ', '(')\n",
    "        \n",
    "    print(tv_script)"
   ]
  },
  {
   "cell_type": "code",
   "execution_count": 82,
   "metadata": {
    "ExecuteTime": {
     "end_time": "2017-06-03T00:14:33.266951Z",
     "start_time": "2017-06-02T18:14:33.263876-06:00"
    }
   },
   "outputs": [],
   "source": [
    "if 'scripts' not in locals():\n",
    "    scripts = {}"
   ]
  },
  {
   "cell_type": "code",
   "execution_count": 83,
   "metadata": {
    "ExecuteTime": {
     "end_time": "2017-06-03T00:14:33.277805Z",
     "start_time": "2017-06-02T18:14:33.268922-06:00"
    },
    "collapsed": true
   },
   "outputs": [],
   "source": [
    "scripts[run_name] = tv_script"
   ]
  },
  {
   "cell_type": "code",
   "execution_count": 87,
   "metadata": {
    "ExecuteTime": {
     "end_time": "2017-06-03T00:17:28.835257Z",
     "start_time": "2017-06-02T18:17:28.827130-06:00"
    },
    "scrolled": false
   },
   "outputs": [
    {
     "name": "stdout",
     "output_type": "stream",
     "text": [
      "e=80,b=64,rnn=512,embed=256,seq=32,lr=0.001\n",
      "moe_szyslak: so those i'm missing the boring(annoyed) so the test people-- you all be works with all the tee first, ya that? uh, for 'em. i got badly. would as not have to turn going?\n",
      "carl_carlson: no bartender it, he never had me to you might buy the off anything by uh, a place literature in i had to go before stupid just did you do.\n",
      "health_inspector: oh, i can't do.(sips to barflies) what you do this.\n",
      "lenny_leonard: you mean that's town! yee-haw! you could flown last card... now, smithers, you know homer to why what we write a place to so-ng.\n",
      "carl_carlson: come up, help?\n",
      "carl_carlson: no. what are right, hey, what would i have with your pigs. why, it lost my awful magic is how you all like with the grabbing once for your heart just look more. i've like about your man. i think you know, what is it, like?\n",
      "kemi: that is\n",
      "\n",
      "e=80,b=64,rnn=512,embed=128,seq=32,lr=0.001\n",
      "moe_szyslak: no, i tells you!\n",
      "moe_szyslak: ah, this turning go to buy my ticket at what sittin' sixty-nine, you'll things look too banned and you let your ass for something back.\n",
      "moe_szyslak: tomato, my old grampa! you broke are a next start her up for you.\n",
      "moe_szyslak: yeah,! i think or too pilsner-pusher.\n",
      "the_rich_texan: you'll stop your talking much?\n",
      "homer_simpson: yeah, that's a sleep. just can you run to the dinner. ya can saying they soon your pulitzer you sell him?\n",
      "homer_simpson: well, can he swear. your name are giving you done ye are gonna share your other shot drive me to love her.\n",
      "waylon_smithers: oww. all right, attack? i could represent a stick her that came.\n",
      "moe_szyslak:(sighs) and i'll still see me. how many friend, marge. he's looking for your back. but you know what? you're really look sangre i'm even ya arabs, after 'cause you you know, i learned it for a frat. it's always even you\n",
      "\n",
      "e=80,b=64,rnn=512,embed=128,seq=64,lr=0.001\n",
      "moe_szyslak:(bursts) scores bowl, mean to take your new politics.\n",
      "moe_szyslak: so double.. there!\n",
      "homer_simpson: thank hurry!\n",
      "\n",
      "\n",
      "moe_szyslak: hey, marge? don't don't guess cure and state the ice\n",
      "\n",
      "\n",
      "\n",
      "\n",
      "\n",
      "\n",
      "\n",
      "i'm oh, round, an(laughs)\n",
      "wade_boggs:(smoke in your little s-a-u-r-c-e tab!\n",
      "homer_simpson: homer, nah, workin'!\n",
      "moe_szyslak:(little human car himself) that's drink a my little shrugs 7-year-old_brockman:. what may don't seen you're homer here, huh to believe with you way furniture..!\n",
      "short so is teach x-men... imagine now you're risqué. and some dollface...(phone's sound)\n",
      "lenny_leonard:(speak) and i'd die is up.\n",
      "right(couldn't? 'cause\" woulda know, the wrong of, the boy!\n",
      "marge_simpson: homer! but the beautiful, the sips to a fifty sobs?\n",
      "homer_simpson:(thoughtful) want to doin' of you, you've gave stuff up in tough a behind that and morning\n",
      "\n",
      "e=160,b=64,rnn=512,embed=128,seq=128,lr=0.001\n",
      "moe_szyslak:(cont'd: so drinks wide.\n",
      "homer_simpson: it's gonna guys to set here?\n",
      "put take those hilarious.\n",
      "new_health_inspector: hope a bus in much, make peace of coming.\n",
      "bart_simpson: i guess that that skeptical-- get off homer's down.\n",
      "lisa_simpson: the yeah.\n",
      "homer_simpson:(sings) i kick a homeless)\" boxing!\n",
      "dr image at some people whatever you reminded it the morning! / i lost.\n",
      "fritz: flanders! anyway! eh?\n",
      "lenny_leonard: ah, medical... ya moe-clone. and never don't sell your jubilant.\n",
      "edna_krabappel-flanders:(then to menace) to not use his americans..(raises yet)\n",
      "moe_szyslak: all right. but i'll knit some drink i'm gonna back for your secret blossoming than guys.\n",
      "collette: oh, i are in the / seymour!\" thanks. you can't be in because\" and\" good of a ripping is(looking glass) / stop musical of home.\n",
      "carl_carlson:(calmly) i know.\n",
      "coach:(singing)!\n",
      "homer_simpson: do\n",
      "\n",
      "e=160,b=32,rnn=512,embed=128,seq=128,lr=0.001\n",
      "moe_szyslak: do y'know was ready that. you're a huge occurrence teenage\" instead of his darts... i'm her.\n",
      "moe_szyslak: lessee eh... no butt!\n",
      "short compadre.\n",
      "stillwater:(sing-song) / my god, i can't never flown salt back flanders. ah, i love maybe this vacation for watching out time.\n",
      "moe_szyslak: sure.\n",
      "moe_szyslak:(singing) good bold from workin' back solely.\n",
      "moe_szyslak: everybody must someone you be over.\n",
      "seymour_skinner:(dreamy) tape, america see, we were krusty? you mean this of a crippling play somethin': i gotta sell us down?\n",
      "lenny_leonard:(writing)\n",
      "collette: you're drink gonna try that.\n",
      "carl_carlson: moe, they were make her and the old floor.\n",
      "homer_simpson: commission months that's even a trip?\n",
      "moe_szyslak: ma'am.\n",
      "marge_simpson: i drive.\n",
      "moe_szyslak:(upset) ohmygod?(sly) uh-huh.\n",
      "moe_szyslak:(annoyed) upon, diminish no... take a minute. oh, first.\n",
      "homer_simpson:(touched) oh\n",
      "\n"
     ]
    }
   ],
   "source": [
    "for pars, script in scripts.items():\n",
    "    print(pars)\n",
    "    print(script)\n",
    "    print()"
   ]
  },
  {
   "cell_type": "markdown",
   "metadata": {},
   "source": [
    "# The TV Script is Nonsensical\n",
    "It's ok if the TV script doesn't make any sense.  We trained on less than a megabyte of text.  In order to get good results, you'll have to use a smaller vocabulary or get more data.  Luckly there's more data!  As we mentioned in the begging of this project, this is a subset of [another dataset](https://www.kaggle.com/wcukierski/the-simpsons-by-the-data).  We didn't have you train on all the data, because that would take too long.  However, you are free to train your neural network on all the data.  After you complete the project, of course.\n",
    "# Submitting This Project\n",
    "When submitting this project, make sure to run all the cells before saving the notebook. Save the notebook file as \"dlnd_tv_script_generation.ipynb\" and save it as a HTML file under \"File\" -> \"Download as\". Include the \"helper.py\" and \"problem_unittests.py\" files in your submission."
   ]
  }
 ],
 "metadata": {
  "kernelspec": {
   "display_name": "Python 3",
   "language": "python",
   "name": "python3"
  },
  "language_info": {
   "codemirror_mode": {
    "name": "ipython",
    "version": 3
   },
   "file_extension": ".py",
   "mimetype": "text/x-python",
   "name": "python",
   "nbconvert_exporter": "python",
   "pygments_lexer": "ipython3",
   "version": "3.6.1"
  },
  "widgets": {
   "state": {},
   "version": "1.1.2"
  }
 },
 "nbformat": 4,
 "nbformat_minor": 1
}
