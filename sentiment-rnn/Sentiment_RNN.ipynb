{
 "cells": [
  {
   "cell_type": "markdown",
   "metadata": {},
   "source": [
    "# Sentiment Analysis with an RNN\n",
    "\n",
    "In this notebook, you'll implement a recurrent neural network that performs sentiment analysis. Using an RNN rather than a feedfoward network is more accurate since we can include information about the *sequence* of words. Here we'll use a dataset of movie reviews, accompanied by labels.\n",
    "\n",
    "The architecture for this network is shown below.\n",
    "\n",
    "<img src=\"assets/network_diagram.png\" width=400px>\n",
    "\n",
    "Here, we'll pass in words to an embedding layer. We need an embedding layer because we have tens of thousands of words, so we'll need a more efficient representation for our input data than one-hot encoded vectors. You should have seen this before from the word2vec lesson. You can actually train up an embedding with word2vec and use it here. But it's good enough to just have an embedding layer and let the network learn the embedding table on it's own.\n",
    "\n",
    "From the embedding layer, the new representations will be passed to LSTM cells. These will add recurrent connections to the network so we can include information about the sequence of words in the data. Finally, the LSTM cells will go to a sigmoid output layer here. We're using the sigmoid because we're trying to predict if this text has positive or negative sentiment. The output layer will just be a single unit then, with a sigmoid activation function.\n",
    "\n",
    "We don't care about the sigmoid outputs except for the very last one, we can ignore the rest. We'll calculate the cost from the output of the last step and the training label."
   ]
  },
  {
   "cell_type": "code",
   "execution_count": 1,
   "metadata": {
    "ExecuteTime": {
     "end_time": "2017-06-01T22:09:36.383703Z",
     "start_time": "2017-06-01T16:09:34.580234-06:00"
    },
    "collapsed": true
   },
   "outputs": [],
   "source": [
    "import numpy as np\n",
    "import tensorflow as tf"
   ]
  },
  {
   "cell_type": "code",
   "execution_count": 2,
   "metadata": {
    "ExecuteTime": {
     "end_time": "2017-06-01T22:09:36.421020Z",
     "start_time": "2017-06-01T16:09:36.386076-06:00"
    },
    "collapsed": true
   },
   "outputs": [],
   "source": [
    "with open('../sentiment-network/reviews.txt', 'r') as f:\n",
    "    reviews = f.read()\n",
    "with open('../sentiment-network/labels.txt', 'r') as f:\n",
    "    labels_orig = f.read()"
   ]
  },
  {
   "cell_type": "code",
   "execution_count": 3,
   "metadata": {
    "ExecuteTime": {
     "end_time": "2017-06-01T22:09:36.437064Z",
     "start_time": "2017-06-01T16:09:36.423454-06:00"
    }
   },
   "outputs": [
    {
     "data": {
      "text/plain": [
       "'bromwell high is a cartoon comedy . it ran at the same time as some other programs about school life  such as  teachers  . my   years in the teaching profession lead me to believe that bromwell high  s satire is much closer to reality than is  teachers  . the scramble to survive financially  the insightful students who can see right through their pathetic teachers  pomp  the pettiness of the whole situation  all remind me of the schools i knew and their students . when i saw the episode in which a student repeatedly tried to burn down the school  i immediately recalled . . . . . . . . . at . . . . . . . . . . high . a classic line inspector i  m here to sack one of your teachers . student welcome to bromwell high . i expect that many adults of my age think that bromwell high is far fetched . what a pity that it isn  t   \\nstory of a man who has unnatural feelings for a pig . starts out with a opening scene that is a terrific example of absurd comedy . a formal orchestra audience is turned into an insane  violent mob by the crazy chantings of it  s singers . unfortunately it stays absurd the whole time with no general narrative eventually making it just too off putting . even those from the era should be turned off . the cryptic dialogue would make shakespeare seem easy to a third grader . on a technical level it  s better than you might think with some good cinematography by future great vilmos zsigmond . future stars sally kirkland and frederic forrest can be seen briefly .  \\nhomelessness  or houselessness as george carlin stated  has been an issue for years but never a plan to help those on the street that were once considered human who did everything from going to school  work  or vote for the matter . most people think of the homeless as just a lost cause while worrying about things such as racism  the war on iraq  pressuring kids to succeed  technology  the elections  inflation  or worrying if they  ll be next to end up on the streets .  br    br   but what if y'"
      ]
     },
     "execution_count": 3,
     "metadata": {},
     "output_type": "execute_result"
    }
   ],
   "source": [
    "reviews[:2000]"
   ]
  },
  {
   "cell_type": "markdown",
   "metadata": {},
   "source": [
    "## Data preprocessing\n",
    "\n",
    "The first step when building a neural network model is getting your data into the proper form to feed into the network. Since we're using embedding layers, we'll need to encode each word with an integer. We'll also want to clean it up a bit.\n",
    "\n",
    "You can see an example of the reviews data above. We'll want to get rid of those periods. Also, you might notice that the reviews are delimited with newlines `\\n`. To deal with those, I'm going to split the text into each review using `\\n` as the delimiter. Then I can combined all the reviews back together into one big string.\n",
    "\n",
    "First, let's remove all punctuation. Then get all the text without the newlines and split it into individual words."
   ]
  },
  {
   "cell_type": "code",
   "execution_count": 4,
   "metadata": {
    "ExecuteTime": {
     "end_time": "2017-06-01T22:09:40.823957Z",
     "start_time": "2017-06-01T16:09:36.439411-06:00"
    },
    "collapsed": true
   },
   "outputs": [],
   "source": [
    "from string import punctuation\n",
    "all_text = ''.join([c for c in reviews if c not in punctuation])\n",
    "reviews = all_text.split('\\n')\n",
    "\n",
    "all_text = ' '.join(reviews)\n",
    "words = all_text.split()"
   ]
  },
  {
   "cell_type": "code",
   "execution_count": 5,
   "metadata": {
    "ExecuteTime": {
     "end_time": "2017-06-01T22:09:40.831824Z",
     "start_time": "2017-06-01T16:09:40.826692-06:00"
    }
   },
   "outputs": [
    {
     "data": {
      "text/plain": [
       "'bromwell high is a cartoon comedy  it ran at the same time as some other programs about school life  such as  teachers   my   years in the teaching profession lead me to believe that bromwell high  s satire is much closer to reality than is  teachers   the scramble to survive financially  the insightful students who can see right through their pathetic teachers  pomp  the pettiness of the whole situation  all remind me of the schools i knew and their students  when i saw the episode in which a student repeatedly tried to burn down the school  i immediately recalled          at           high  a classic line inspector i  m here to sack one of your teachers  student welcome to bromwell high  i expect that many adults of my age think that bromwell high is far fetched  what a pity that it isn  t    story of a man who has unnatural feelings for a pig  starts out with a opening scene that is a terrific example of absurd comedy  a formal orchestra audience is turned into an insane  violent mob by the crazy chantings of it  s singers  unfortunately it stays absurd the whole time with no general narrative eventually making it just too off putting  even those from the era should be turned off  the cryptic dialogue would make shakespeare seem easy to a third grader  on a technical level it  s better than you might think with some good cinematography by future great vilmos zsigmond  future stars sally kirkland and frederic forrest can be seen briefly    homelessness  or houselessness as george carlin stated  has been an issue for years but never a plan to help those on the street that were once considered human who did everything from going to school  work  or vote for the matter  most people think of the homeless as just a lost cause while worrying about things such as racism  the war on iraq  pressuring kids to succeed  technology  the elections  inflation  or worrying if they  ll be next to end up on the streets   br    br   but what if you were given a bet to live on the st'"
      ]
     },
     "execution_count": 5,
     "metadata": {},
     "output_type": "execute_result"
    }
   ],
   "source": [
    "all_text[:2000]"
   ]
  },
  {
   "cell_type": "code",
   "execution_count": 6,
   "metadata": {
    "ExecuteTime": {
     "end_time": "2017-06-01T22:09:40.840935Z",
     "start_time": "2017-06-01T16:09:40.834230-06:00"
    }
   },
   "outputs": [
    {
     "data": {
      "text/plain": [
       "['bromwell',\n",
       " 'high',\n",
       " 'is',\n",
       " 'a',\n",
       " 'cartoon',\n",
       " 'comedy',\n",
       " 'it',\n",
       " 'ran',\n",
       " 'at',\n",
       " 'the',\n",
       " 'same',\n",
       " 'time',\n",
       " 'as',\n",
       " 'some',\n",
       " 'other',\n",
       " 'programs',\n",
       " 'about',\n",
       " 'school',\n",
       " 'life',\n",
       " 'such',\n",
       " 'as',\n",
       " 'teachers',\n",
       " 'my',\n",
       " 'years',\n",
       " 'in',\n",
       " 'the',\n",
       " 'teaching',\n",
       " 'profession',\n",
       " 'lead',\n",
       " 'me',\n",
       " 'to',\n",
       " 'believe',\n",
       " 'that',\n",
       " 'bromwell',\n",
       " 'high',\n",
       " 's',\n",
       " 'satire',\n",
       " 'is',\n",
       " 'much',\n",
       " 'closer',\n",
       " 'to',\n",
       " 'reality',\n",
       " 'than',\n",
       " 'is',\n",
       " 'teachers',\n",
       " 'the',\n",
       " 'scramble',\n",
       " 'to',\n",
       " 'survive',\n",
       " 'financially',\n",
       " 'the',\n",
       " 'insightful',\n",
       " 'students',\n",
       " 'who',\n",
       " 'can',\n",
       " 'see',\n",
       " 'right',\n",
       " 'through',\n",
       " 'their',\n",
       " 'pathetic',\n",
       " 'teachers',\n",
       " 'pomp',\n",
       " 'the',\n",
       " 'pettiness',\n",
       " 'of',\n",
       " 'the',\n",
       " 'whole',\n",
       " 'situation',\n",
       " 'all',\n",
       " 'remind',\n",
       " 'me',\n",
       " 'of',\n",
       " 'the',\n",
       " 'schools',\n",
       " 'i',\n",
       " 'knew',\n",
       " 'and',\n",
       " 'their',\n",
       " 'students',\n",
       " 'when',\n",
       " 'i',\n",
       " 'saw',\n",
       " 'the',\n",
       " 'episode',\n",
       " 'in',\n",
       " 'which',\n",
       " 'a',\n",
       " 'student',\n",
       " 'repeatedly',\n",
       " 'tried',\n",
       " 'to',\n",
       " 'burn',\n",
       " 'down',\n",
       " 'the',\n",
       " 'school',\n",
       " 'i',\n",
       " 'immediately',\n",
       " 'recalled',\n",
       " 'at',\n",
       " 'high']"
      ]
     },
     "execution_count": 6,
     "metadata": {},
     "output_type": "execute_result"
    }
   ],
   "source": [
    "words[:100]"
   ]
  },
  {
   "cell_type": "markdown",
   "metadata": {},
   "source": [
    "### Encoding the words\n",
    "\n",
    "The embedding lookup requires that we pass in integers to our network. The easiest way to do this is to create dictionaries that map the words in the vocabulary to integers. Then we can convert each of our reviews into integers so they can be passed into the network.\n",
    "\n",
    "> **Exercise:** Now you're going to encode the words with integers. Build a dictionary that maps words to integers. Later we're going to pad our input vectors with zeros, so make sure the integers **start at 1, not 0**.\n",
    "> Also, convert the reviews to integers and store the reviews in a new list called `reviews_ints`. "
   ]
  },
  {
   "cell_type": "code",
   "execution_count": 7,
   "metadata": {
    "ExecuteTime": {
     "end_time": "2017-06-01T22:09:40.910843Z",
     "start_time": "2017-06-01T16:09:40.843096-06:00"
    },
    "collapsed": true
   },
   "outputs": [],
   "source": [
    "import pickle\n",
    "with open('../embeddings/word_embeddings.pkl', 'rb') as f:\n",
    "    [vocab_to_int, embed_mat] = pickle.load(f)"
   ]
  },
  {
   "cell_type": "code",
   "execution_count": 8,
   "metadata": {
    "ExecuteTime": {
     "end_time": "2017-06-01T22:09:40.917566Z",
     "start_time": "2017-06-01T16:09:40.913152-06:00"
    }
   },
   "outputs": [
    {
     "data": {
      "text/plain": [
       "(63641, 200)"
      ]
     },
     "execution_count": 8,
     "metadata": {},
     "output_type": "execute_result"
    }
   ],
   "source": [
    "embed_mat.shape"
   ]
  },
  {
   "cell_type": "code",
   "execution_count": 9,
   "metadata": {
    "ExecuteTime": {
     "end_time": "2017-06-01T22:09:40.922559Z",
     "start_time": "2017-06-01T16:09:40.919513-06:00"
    },
    "collapsed": true
   },
   "outputs": [],
   "source": [
    "bak = embed_mat[vocab_to_int['the'],:]"
   ]
  },
  {
   "cell_type": "code",
   "execution_count": 10,
   "metadata": {
    "ExecuteTime": {
     "end_time": "2017-06-01T22:09:40.982213Z",
     "start_time": "2017-06-01T16:09:40.924479-06:00"
    }
   },
   "outputs": [],
   "source": [
    "# Reorganize so that 0 can be the empty string.\n",
    "embed_mat = np.concatenate((np.random.uniform(-1,1, (1,embed_mat.shape[1])),\n",
    "                            embed_mat),\n",
    "                           axis=0)\n",
    "\n",
    "\n",
    "\n",
    "vocab_to_int = {k:v+1 for k,v in vocab_to_int.items()}\n",
    "\n",
    "# embed_mat = embed_mat.copy()\n",
    "# embed_mat.resize((embed_mat.shape[0]+1, embed_mat.shape[1]))\n",
    "# embed_mat[-1,:] = embed_mat[0]\n",
    "# embed_mat[0,:] = np.random.uniform(-1,1, (1,embed_mat.shape[1]))\n",
    "# embed_mat.shape"
   ]
  },
  {
   "cell_type": "code",
   "execution_count": 11,
   "metadata": {
    "ExecuteTime": {
     "end_time": "2017-06-01T22:09:40.987279Z",
     "start_time": "2017-06-01T16:09:40.984392-06:00"
    },
    "collapsed": true
   },
   "outputs": [],
   "source": [
    "vocab_to_int[''] = 0"
   ]
  },
  {
   "cell_type": "code",
   "execution_count": 12,
   "metadata": {
    "ExecuteTime": {
     "end_time": "2017-06-01T22:09:40.992320Z",
     "start_time": "2017-06-01T16:09:40.989210-06:00"
    }
   },
   "outputs": [],
   "source": [
    "assert(all(bak == embed_mat[vocab_to_int['the'],:]))"
   ]
  },
  {
   "cell_type": "code",
   "execution_count": 13,
   "metadata": {
    "ExecuteTime": {
     "end_time": "2017-06-01T22:09:41.002767Z",
     "start_time": "2017-06-01T16:09:40.994303-06:00"
    }
   },
   "outputs": [
    {
     "data": {
      "text/plain": [
       "['']"
      ]
     },
     "execution_count": 13,
     "metadata": {},
     "output_type": "execute_result"
    }
   ],
   "source": [
    "[k  for k,v in vocab_to_int.items() if v == 0]"
   ]
  },
  {
   "cell_type": "code",
   "execution_count": 14,
   "metadata": {
    "ExecuteTime": {
     "end_time": "2017-06-01T22:09:41.016764Z",
     "start_time": "2017-06-01T16:09:41.004566-06:00"
    },
    "scrolled": true
   },
   "outputs": [
    {
     "data": {
      "text/plain": [
       "array([ 0.35697988,  0.1069046 ,  0.08238979, -0.00406986, -0.34720451,\n",
       "       -0.77245474,  0.0808581 ,  0.49796218,  0.75016075,  0.07728519,\n",
       "       -0.20827438,  0.38448888,  1.06788683,  0.83007568, -0.14582813,\n",
       "        0.10820879,  0.4354361 , -0.06962948,  0.15013321, -0.24022944,\n",
       "        0.51627201, -0.60149592, -0.48031864, -0.72488469, -0.02249308,\n",
       "       -0.55005729, -0.40508327,  0.28334558, -0.10564353, -0.57459408,\n",
       "        0.98043782,  0.14127359, -0.38759598, -0.02978262,  0.05406132,\n",
       "        0.15871142,  0.69640952, -0.45155627, -0.13053691, -0.03086282,\n",
       "       -0.32121602, -0.48382735,  0.16200632, -0.518565  ,  0.64365619,\n",
       "       -0.24515107,  0.08551664, -0.53729045, -0.05288922,  0.33088401,\n",
       "       -0.43984249, -0.40983635, -0.07039884, -0.04871373,  0.11257239,\n",
       "       -0.20059106,  0.04986364,  0.7179212 ,  0.15679736,  0.42004651,\n",
       "       -0.44161612,  0.29631335, -0.97390938,  0.23395972,  0.24074256,\n",
       "       -0.45422056,  0.28060582, -0.17274907,  0.202913  , -0.70445651,\n",
       "        0.08296651, -0.19971102, -0.20850761, -0.15931307,  0.24542986,\n",
       "       -0.19555482,  0.65150326,  0.45571849, -0.80041206, -0.47911659,\n",
       "       -0.60118043,  0.13611387,  0.52189785,  0.5831458 , -0.58627421,\n",
       "        0.34075618,  0.06335662,  0.1288231 ,  0.22164184,  0.19596221,\n",
       "        0.67848098,  0.09224103, -0.69386923,  0.58741403, -0.11836304,\n",
       "       -0.33354563, -0.03038691,  0.33967263,  0.57766819, -0.17281742,\n",
       "       -0.08231562,  0.13292058,  0.03230377, -0.71446282,  0.58813763,\n",
       "        0.03187338, -0.24733698,  0.51105767, -0.44474944,  0.68396103,\n",
       "        0.39127731, -0.13501169, -0.14051975,  0.1149906 , -0.81139165,\n",
       "        0.42426777, -0.8137036 , -0.50563151,  0.05021006, -0.23224594,\n",
       "       -0.0548373 , -0.17424335, -0.22003345,  0.70832747, -0.35698283,\n",
       "        0.33907086,  0.49071813, -0.02342475, -0.24458125, -0.33864141,\n",
       "        0.35244423,  0.16485272, -0.09101822, -0.0645677 ,  0.11732717,\n",
       "        0.28215784, -0.21858871,  0.30952406, -0.20476204, -0.44197416,\n",
       "       -0.11917711, -0.31815934, -0.01323729,  0.44033828, -0.72054112,\n",
       "        0.07993569,  0.40662196,  0.13030107,  0.03254975,  0.0171403 ,\n",
       "       -0.2088306 ,  0.53539294,  0.11975062,  0.57075435,  0.26117641,\n",
       "       -0.0608898 , -0.26190588,  0.7102865 , -0.6699481 , -0.82266599,\n",
       "        0.36200973, -0.44768903,  0.21385254, -0.60753149, -0.31191006,\n",
       "        0.3310256 , -0.37905335,  0.13917191,  0.18705218,  0.22216362,\n",
       "        0.29397151, -0.01335618,  0.19063088, -0.05634491,  0.03575912,\n",
       "       -0.03168556, -0.54383653, -0.5089767 , -0.21046624,  0.81422889,\n",
       "        0.64798337,  0.73423797,  0.8625893 ,  0.36075363, -0.34806883,\n",
       "        0.18633921,  0.10010779, -0.28176621, -0.16703437,  0.35460892,\n",
       "        0.08453263,  0.14628245,  0.05149674,  0.10497274,  0.78489035,\n",
       "        0.3806071 , -0.58502221, -0.35085252, -0.02280574, -0.86601943])"
      ]
     },
     "execution_count": 14,
     "metadata": {},
     "output_type": "execute_result"
    }
   ],
   "source": [
    "embed_mat[vocab_to_int['stupid'],:]"
   ]
  },
  {
   "cell_type": "code",
   "execution_count": 15,
   "metadata": {
    "ExecuteTime": {
     "end_time": "2017-06-01T22:09:42.210608Z",
     "start_time": "2017-06-01T16:09:41.018674-06:00"
    }
   },
   "outputs": [
    {
     "name": "stdout",
     "output_type": "stream",
     "text": [
      "added 37807 extra words\n"
     ]
    }
   ],
   "source": [
    "non_words = set(['','.','\\n'])\n",
    "extra_words = set([w for w in set(words) if w not in vocab_to_int and w not in non_words])\n",
    "\n",
    "new_vocab = [(word, index) for index,word in enumerate(extra_words, len(vocab_to_int))]\n",
    "\n",
    "embed_mat = np.concatenate(\n",
    "    (embed_mat,\n",
    "     np.random.uniform(-1,1, (len(extra_words), embed_mat.shape[1]))),\n",
    "    axis=0)\n",
    "\n",
    "print(\"added {} extra words\".format(len(extra_words)))\n",
    "\n",
    "vocab_to_int.update(new_vocab)\n",
    "del extra_words\n",
    "del new_vocab"
   ]
  },
  {
   "cell_type": "code",
   "execution_count": 16,
   "metadata": {
    "ExecuteTime": {
     "end_time": "2017-06-01T22:09:42.217197Z",
     "start_time": "2017-06-01T16:09:42.212795-06:00"
    }
   },
   "outputs": [
    {
     "data": {
      "text/plain": [
       "0.5940667179962603"
      ]
     },
     "execution_count": 16,
     "metadata": {},
     "output_type": "execute_result"
    }
   ],
   "source": [
    "37807/63641"
   ]
  },
  {
   "cell_type": "code",
   "execution_count": 17,
   "metadata": {
    "ExecuteTime": {
     "end_time": "2017-06-01T22:09:44.588386Z",
     "start_time": "2017-06-01T16:09:42.219135-06:00"
    },
    "collapsed": true
   },
   "outputs": [],
   "source": [
    "reviews_ints = [[vocab_to_int[word] for word in review.split(' ') if word not in non_words] for review in reviews]"
   ]
  },
  {
   "cell_type": "raw",
   "metadata": {
    "ExecuteTime": {
     "end_time": "2017-05-31T22:50:22.354655Z",
     "start_time": "2017-05-31T16:50:19.673876-06:00"
    }
   },
   "source": [
    "# Create your dictionary that maps vocab words to integers here\n",
    "vocab_to_int = {word: index for index,word in enumerate(set(words),1)}\n",
    "vocab_to_int[''] = 0\n",
    "\n",
    "# Convert the reviews to integers, same shape as reviews list, but with integers\n",
    "non_words = set(['','.','\\n'])\n",
    "reviews_ints = [[vocab_to_int[word] for word in review.split(' ') if word not in non_words] for review in reviews]"
   ]
  },
  {
   "cell_type": "code",
   "execution_count": 18,
   "metadata": {
    "ExecuteTime": {
     "end_time": "2017-06-01T22:09:45.096148Z",
     "start_time": "2017-06-01T16:09:44.591435-06:00"
    }
   },
   "outputs": [
    {
     "data": {
      "text/plain": [
       "set()"
      ]
     },
     "execution_count": 18,
     "metadata": {},
     "output_type": "execute_result"
    }
   ],
   "source": [
    "set([word for word in set(words) if word not in vocab_to_int])"
   ]
  },
  {
   "cell_type": "code",
   "execution_count": 19,
   "metadata": {
    "ExecuteTime": {
     "end_time": "2017-06-01T22:09:45.103060Z",
     "start_time": "2017-06-01T16:09:45.098553-06:00"
    }
   },
   "outputs": [
    {
     "data": {
      "text/plain": [
       "101449"
      ]
     },
     "execution_count": 19,
     "metadata": {},
     "output_type": "execute_result"
    }
   ],
   "source": [
    "len(vocab_to_int)"
   ]
  },
  {
   "cell_type": "markdown",
   "metadata": {},
   "source": [
    "### Encoding the labels\n",
    "\n",
    "Our labels are \"positive\" or \"negative\". To use these labels in our network, we need to convert them to 0 and 1.\n",
    "\n",
    "> **Exercise:** Convert labels from `positive` and `negative` to 1 and 0, respectively."
   ]
  },
  {
   "cell_type": "code",
   "execution_count": 20,
   "metadata": {
    "ExecuteTime": {
     "end_time": "2017-06-01T22:09:45.115511Z",
     "start_time": "2017-06-01T16:09:45.105395-06:00"
    },
    "collapsed": true
   },
   "outputs": [],
   "source": [
    "# Convert labels to 1s and 0s for 'positive' and 'negative'\n",
    "labels = np.array([(0 if l == 'negative' else 1) for l in labels_orig.split('\\n')])"
   ]
  },
  {
   "cell_type": "markdown",
   "metadata": {},
   "source": [
    "If you built `labels` correctly, you should see the next output."
   ]
  },
  {
   "cell_type": "code",
   "execution_count": 21,
   "metadata": {
    "ExecuteTime": {
     "end_time": "2017-06-01T22:09:45.130371Z",
     "start_time": "2017-06-01T16:09:45.117687-06:00"
    }
   },
   "outputs": [
    {
     "name": "stdout",
     "output_type": "stream",
     "text": [
      "Zero-length reviews: 1\n",
      "Maximum review length: 2514\n"
     ]
    }
   ],
   "source": [
    "from collections import Counter\n",
    "review_lens = Counter([len(x) for x in reviews_ints])\n",
    "print(\"Zero-length reviews: {}\".format(review_lens[0]))\n",
    "print(\"Maximum review length: {}\".format(max(review_lens)))"
   ]
  },
  {
   "cell_type": "markdown",
   "metadata": {},
   "source": [
    "Okay, a couple issues here. We seem to have one review with zero length. And, the maximum review length is way too many steps for our RNN. Let's truncate to 200 steps. For reviews shorter than 200, we'll pad with 0s. For reviews longer than 200, we can truncate them to the first 200 characters.\n",
    "\n",
    "> **Exercise:** First, remove the review with zero length from the `reviews_ints` list."
   ]
  },
  {
   "cell_type": "code",
   "execution_count": 22,
   "metadata": {
    "ExecuteTime": {
     "end_time": "2017-06-01T22:09:45.136999Z",
     "start_time": "2017-06-01T16:09:45.132317-06:00"
    }
   },
   "outputs": [
    {
     "data": {
      "text/plain": [
       "[1, 2, 3]"
      ]
     },
     "execution_count": 22,
     "metadata": {},
     "output_type": "execute_result"
    }
   ],
   "source": [
    "x = [1,2,3]\n",
    "x[:10]"
   ]
  },
  {
   "cell_type": "code",
   "execution_count": 23,
   "metadata": {
    "ExecuteTime": {
     "end_time": "2017-06-01T22:09:45.557027Z",
     "start_time": "2017-06-01T16:09:45.139067-06:00"
    },
    "collapsed": true
   },
   "outputs": [],
   "source": [
    "# Filter out that review with 0 length\n",
    "new_values = [(review_ints[:200], label) for review_ints,label\n",
    "              in zip(reviews_ints, labels)\n",
    "              if len(review_ints) > 0]\n",
    "reviews_ints, labels = zip(*new_values)"
   ]
  },
  {
   "cell_type": "markdown",
   "metadata": {},
   "source": [
    "> **Exercise:** Now, create an array `features` that contains the data we'll pass to the network. The data should come from `review_ints`, since we want to feed integers to the network. Each row should be 200 elements long. For reviews shorter than 200 words, left pad with 0s. That is, if the review is `['best', 'movie', 'ever']`, `[117, 18, 128]` as integers, the row will look like `[0, 0, 0, ..., 0, 117, 18, 128]`. For reviews longer than 200, use on the first 200 words as the feature vector.\n",
    "\n",
    "This isn't trivial and there are a bunch of ways to do this. But, if you're going to be building your own deep learning networks, you're going to have to get used to preparing your data.\n",
    "\n"
   ]
  },
  {
   "cell_type": "code",
   "execution_count": 24,
   "metadata": {
    "ExecuteTime": {
     "end_time": "2017-06-01T22:09:46.148790Z",
     "start_time": "2017-06-01T16:09:45.559301-06:00"
    }
   },
   "outputs": [],
   "source": [
    "seq_len = 200\n",
    "features = np.array([([0] * (seq_len-len(review))) + review for review in reviews_ints])\n",
    "labels = np.array(labels)"
   ]
  },
  {
   "cell_type": "markdown",
   "metadata": {},
   "source": [
    "If you build features correctly, it should look like that cell output below."
   ]
  },
  {
   "cell_type": "code",
   "execution_count": 25,
   "metadata": {
    "ExecuteTime": {
     "end_time": "2017-06-01T22:09:46.154054Z",
     "start_time": "2017-06-01T16:09:46.151101-06:00"
    },
    "collapsed": true
   },
   "outputs": [],
   "source": [
    "review = reviews_ints[0]"
   ]
  },
  {
   "cell_type": "code",
   "execution_count": 26,
   "metadata": {
    "ExecuteTime": {
     "end_time": "2017-06-01T22:09:46.160115Z",
     "start_time": "2017-06-01T16:09:46.155991-06:00"
    }
   },
   "outputs": [
    {
     "data": {
      "text/plain": [
       "140"
      ]
     },
     "execution_count": 26,
     "metadata": {},
     "output_type": "execute_result"
    }
   ],
   "source": [
    "len(review)"
   ]
  },
  {
   "cell_type": "code",
   "execution_count": 27,
   "metadata": {
    "ExecuteTime": {
     "end_time": "2017-06-01T22:09:46.167093Z",
     "start_time": "2017-06-01T16:09:46.161998-06:00"
    }
   },
   "outputs": [
    {
     "data": {
      "text/plain": [
       "array([[    0,     0,     0, ...,    27,  6006,   155],\n",
       "       [    0,     0,     0, ...,    32,   400,  3126],\n",
       "       [21756,    29, 74378, ...,  6286,    24,     6],\n",
       "       ..., \n",
       "       [    0,     0,     0, ...,    11,   110,  5768],\n",
       "       [    0,     0,     0, ...,    44,   505,   110],\n",
       "       [   62,    72,    18, ..., 11464,    14,   105]])"
      ]
     },
     "execution_count": 27,
     "metadata": {},
     "output_type": "execute_result"
    }
   ],
   "source": [
    "features[:10,:]"
   ]
  },
  {
   "cell_type": "markdown",
   "metadata": {},
   "source": [
    "## Training, Validation, Test\n",
    "\n"
   ]
  },
  {
   "cell_type": "markdown",
   "metadata": {},
   "source": [
    "With our data in nice shape, we'll split it into training, validation, and test sets.\n",
    "\n",
    "> **Exercise:** Create the training, validation, and test sets here. You'll need to create sets for the features and the labels, `train_x` and `train_y` for example. Define a split fraction, `split_frac` as the fraction of data to keep in the training set. Usually this is set to 0.8 or 0.9. The rest of the data will be split in half to create the validation and testing data."
   ]
  },
  {
   "cell_type": "code",
   "execution_count": 28,
   "metadata": {
    "ExecuteTime": {
     "end_time": "2017-06-01T22:09:46.180942Z",
     "start_time": "2017-06-01T16:09:46.168943-06:00"
    }
   },
   "outputs": [
    {
     "name": "stdout",
     "output_type": "stream",
     "text": [
      "\t\t\tFeature Shapes:\n",
      "Train set: \t\t(20000, 200) \n",
      "Validation set: \t(2500, 200) \n",
      "Test set: \t\t(2500, 200)\n"
     ]
    }
   ],
   "source": [
    "split_frac = 0.8\n",
    "\n",
    "split_tv = int(features.shape[0] * split_frac)\n",
    "split_vt = int(round(features.shape[0] * (1-split_frac) / 2)) + split_tv\n",
    "train_x = features[:split_tv,:]\n",
    "train_y =   labels[:split_vt  ]\n",
    "\n",
    "val_x = features[split_tv:split_vt,:]\n",
    "val_y =   labels[split_tv:split_vt]\n",
    "\n",
    "test_x = features[split_vt:,:]\n",
    "test_y =   labels[split_vt:  ]\n",
    "\n",
    "print(\"\\t\\t\\tFeature Shapes:\")\n",
    "print(\"Train set: \\t\\t{}\".format(train_x.shape), \n",
    "      \"\\nValidation set: \\t{}\".format(val_x.shape),\n",
    "      \"\\nTest set: \\t\\t{}\".format(test_x.shape))"
   ]
  },
  {
   "cell_type": "markdown",
   "metadata": {},
   "source": [
    "With train, validation, and text fractions of 0.8, 0.1, 0.1, the final shapes should look like:\n",
    "```\n",
    "                    Feature Shapes:\n",
    "Train set: \t\t (20000, 200) \n",
    "Validation set: \t(2500, 200) \n",
    "Test set: \t\t  (2500, 200)\n",
    "```"
   ]
  },
  {
   "cell_type": "markdown",
   "metadata": {},
   "source": [
    "## Build the graph\n",
    "\n",
    "Here, we'll build the graph. First up, defining the hyperparameters.\n",
    "\n",
    "* `lstm_size`: Number of units in the hidden layers in the LSTM cells. Usually larger is better performance wise. Common values are 128, 256, 512, etc.\n",
    "* `lstm_layers`: Number of LSTM layers in the network. I'd start with 1, then add more if I'm underfitting.\n",
    "* `batch_size`: The number of reviews to feed the network in one training pass. Typically this should be set as high as you can go without running out of memory.\n",
    "* `learning_rate`: Learning rate"
   ]
  },
  {
   "cell_type": "code",
   "execution_count": 53,
   "metadata": {
    "ExecuteTime": {
     "end_time": "2017-06-01T23:11:43.782814Z",
     "start_time": "2017-06-01T17:11:43.775636-06:00"
    }
   },
   "outputs": [
    {
     "data": {
      "text/plain": [
       "2"
      ]
     },
     "execution_count": 53,
     "metadata": {},
     "output_type": "execute_result"
    }
   ],
   "source": [
    "#run_number = 7\n",
    "if 'run_number' in locals():\n",
    "    run_number += 1\n",
    "else:\n",
    "    run_number = 1\n",
    "run_number"
   ]
  },
  {
   "cell_type": "code",
   "execution_count": 54,
   "metadata": {
    "ExecuteTime": {
     "end_time": "2017-06-01T23:11:43.829403Z",
     "start_time": "2017-06-01T17:11:43.784908-06:00"
    },
    "collapsed": true
   },
   "outputs": [],
   "source": [
    "lstm_size = 512\n",
    "lstm_layers = 1\n",
    "batch_size = 500\n",
    "learning_rate = 0.001"
   ]
  },
  {
   "cell_type": "markdown",
   "metadata": {},
   "source": [
    "For the network itself, we'll be passing in our 200 element long review vectors. Each batch will be `batch_size` vectors. We'll also be using dropout on the LSTM layer, so we'll make a placeholder for the keep probability."
   ]
  },
  {
   "cell_type": "markdown",
   "metadata": {},
   "source": [
    "> **Exercise:** Create the `inputs_`, `labels_`, and drop out `keep_prob` placeholders using `tf.placeholder`. `labels_` needs to be two-dimensional to work with some functions later.  Since `keep_prob` is a scalar (a 0-dimensional tensor), you shouldn't provide a size to `tf.placeholder`."
   ]
  },
  {
   "cell_type": "code",
   "execution_count": 55,
   "metadata": {
    "ExecuteTime": {
     "end_time": "2017-06-01T23:11:43.840221Z",
     "start_time": "2017-06-01T17:11:43.831814-06:00"
    },
    "collapsed": true
   },
   "outputs": [],
   "source": [
    "n_words = len(vocab_to_int)\n",
    "\n",
    "# Create the graph object\n",
    "graph = tf.Graph()\n",
    "# Add nodes to the graph\n",
    "with graph.as_default():\n",
    "    inputs_ = tf.placeholder(tf.int32, shape=(None,seq_len), name='inputs')\n",
    "    labels_ = tf.placeholder(tf.int32, shape=(None,1), name='labels')\n",
    "    keep_prob = tf.placeholder(tf.float32, name='keep_prob')"
   ]
  },
  {
   "cell_type": "code",
   "execution_count": 56,
   "metadata": {
    "ExecuteTime": {
     "end_time": "2017-06-01T23:11:43.846294Z",
     "start_time": "2017-06-01T17:11:43.842293-06:00"
    }
   },
   "outputs": [
    {
     "data": {
      "text/plain": [
       "101449"
      ]
     },
     "execution_count": 56,
     "metadata": {},
     "output_type": "execute_result"
    }
   ],
   "source": [
    "n_words"
   ]
  },
  {
   "cell_type": "markdown",
   "metadata": {},
   "source": [
    "### Embedding\n",
    "\n",
    "Now we'll add an embedding layer. We need to do this because there are 74000 words in our vocabulary. It is massively inefficient to one-hot encode our classes here. You should remember dealing with this problem from the word2vec lesson. Instead of one-hot encoding, we can have an embedding layer and use that layer as a lookup table. You could train an embedding layer using word2vec, then load it here. But, it's fine to just make a new layer and let the network learn the weights.\n",
    "\n",
    "> **Exercise:** Create the embedding lookup matrix as a `tf.Variable`. Use that embedding matrix to get the embedded vectors to pass to the LSTM cell with [`tf.nn.embedding_lookup`](https://www.tensorflow.org/api_docs/python/tf/nn/embedding_lookup). This function takes the embedding matrix and an input tensor, such as the review vectors. Then, it'll return another tensor with the embedded vectors. So, if the embedding layer has 200 units, the function will return a tensor with size [batch_size, 200].\n",
    "\n"
   ]
  },
  {
   "cell_type": "code",
   "execution_count": 57,
   "metadata": {
    "ExecuteTime": {
     "end_time": "2017-06-01T23:11:43.852434Z",
     "start_time": "2017-06-01T17:11:43.848193-06:00"
    }
   },
   "outputs": [],
   "source": [
    "import os\n",
    "os.makedirs('./logs/{}/val'.format(run_number), exist_ok=True)"
   ]
  },
  {
   "cell_type": "code",
   "execution_count": 58,
   "metadata": {
    "ExecuteTime": {
     "end_time": "2017-06-01T23:11:43.956074Z",
     "start_time": "2017-06-01T17:11:43.854459-06:00"
    }
   },
   "outputs": [],
   "source": [
    "word_order = {v:k for k,v in vocab_to_int.items()}\n",
    "embedding_metadata_file = './logs/{}/val/metadata.tsv'.format(run_number)\n",
    "with open(embedding_metadata_file, 'w') as f:\n",
    "    for i in range(len(word_order)):\n",
    "        f.write(word_order[i]+'\\n')"
   ]
  },
  {
   "cell_type": "code",
   "execution_count": 59,
   "metadata": {
    "ExecuteTime": {
     "end_time": "2017-06-01T23:11:43.961821Z",
     "start_time": "2017-06-01T17:11:43.958235-06:00"
    }
   },
   "outputs": [],
   "source": [
    "projector_config = tf.contrib.tensorboard.plugins.projector.ProjectorConfig()\n",
    "embedding_config = projector_config.embeddings.add()"
   ]
  },
  {
   "cell_type": "code",
   "execution_count": 60,
   "metadata": {
    "ExecuteTime": {
     "end_time": "2017-06-01T23:11:43.968104Z",
     "start_time": "2017-06-01T17:11:43.964113-06:00"
    }
   },
   "outputs": [
    {
     "data": {
      "text/plain": [
       "dtype('float64')"
      ]
     },
     "execution_count": 60,
     "metadata": {},
     "output_type": "execute_result"
    }
   ],
   "source": [
    "embed_mat.dtype"
   ]
  },
  {
   "cell_type": "code",
   "execution_count": 61,
   "metadata": {
    "ExecuteTime": {
     "end_time": "2017-06-01T23:11:44.115452Z",
     "start_time": "2017-06-01T17:11:43.970203-06:00"
    }
   },
   "outputs": [
    {
     "name": "stderr",
     "output_type": "stream",
     "text": [
      "/home/ACCELEWARE/scott.quiring/.conda/envs/dlr7/lib/python3.6/site-packages/ipykernel_launcher.py:22: DeprecationWarning: PyUnicode_AsEncodedObject() is deprecated; use PyUnicode_AsEncodedString() to encode from str to bytes or PyCodec_Encode() for generic encoding\n",
      "/home/ACCELEWARE/scott.quiring/.conda/envs/dlr7/lib/python3.6/site-packages/ipykernel_launcher.py:23: DeprecationWarning: PyUnicode_AsEncodedObject() is deprecated; use PyUnicode_AsEncodedString() to encode from str to bytes or PyCodec_Encode() for generic encoding\n"
     ]
    }
   ],
   "source": [
    "# Size of the embedding vectors (number of units in the embedding layer)\n",
    "if False:\n",
    "    embed_size = 300 \n",
    "\n",
    "    with graph.as_default():\n",
    "        with tf.name_scope('embedding'):\n",
    "            embedding = tf.Variable(\n",
    "                tf.random_uniform((n_words,embed_size),\n",
    "                                  -1,1), name=\"word_embedding\")\n",
    "            embedding_config.tensor_name = embedding.name\n",
    "            embedding_config.metadata_path = embedding_metadata_file\n",
    "            embed = tf.nn.embedding_lookup(embedding, inputs_)\n",
    "            tf.summary.histogram('embedding', embedding)\n",
    "            \n",
    "else:\n",
    "    embed_size = embed_mat.shape[1] \n",
    "\n",
    "    with graph.as_default():\n",
    "        with tf.name_scope('embedding'):\n",
    "            embedding = tf.Variable(embed_mat, name=\"word_embedding\", dtype=tf.float32)\n",
    "            \n",
    "            embedding_config.tensor_name = embedding.name\n",
    "            embedding_config.metadata_path = embedding_metadata_file\n",
    "\n",
    "            embed = tf.nn.embedding_lookup(embedding, inputs_)\n",
    "            tf.summary.histogram('embedding', embedding)"
   ]
  },
  {
   "cell_type": "markdown",
   "metadata": {},
   "source": [
    "### LSTM cell\n",
    "\n",
    "<img src=\"assets/network_diagram.png\" width=400px>\n",
    "\n",
    "Next, we'll create our LSTM cells to use in the recurrent network ([TensorFlow documentation](https://www.tensorflow.org/api_docs/python/tf/contrib/rnn)). Here we are just defining what the cells look like. This isn't actually building the graph, just defining the type of cells we want in our graph.\n",
    "\n",
    "To create a basic LSTM cell for the graph, you'll want to use `tf.contrib.rnn.BasicLSTMCell`. Looking at the function documentation:\n",
    "\n",
    "```\n",
    "tf.contrib.rnn.BasicLSTMCell(num_units, forget_bias=1.0, input_size=None, state_is_tuple=True, activation=<function tanh at 0x109f1ef28>)\n",
    "```\n",
    "\n",
    "you can see it takes a parameter called `num_units`, the number of units in the cell, called `lstm_size` in this code. So then, you can write something like \n",
    "\n",
    "```\n",
    "lstm = tf.contrib.rnn.BasicLSTMCell(num_units)\n",
    "```\n",
    "\n",
    "to create an LSTM cell with `num_units`. Next, you can add dropout to the cell with `tf.contrib.rnn.DropoutWrapper`. This just wraps the cell in another cell, but with dropout added to the inputs and/or outputs. It's a really convenient way to make your network better with almost no effort! So you'd do something like\n",
    "\n",
    "```\n",
    "drop = tf.contrib.rnn.DropoutWrapper(cell, output_keep_prob=keep_prob)\n",
    "```\n",
    "\n",
    "Most of the time, your network will have better performance with more layers. That's sort of the magic of deep learning, adding more layers allows the network to learn really complex relationships. Again, there is a simple way to create multiple layers of LSTM cells with `tf.contrib.rnn.MultiRNNCell`:\n",
    "\n",
    "```\n",
    "cell = tf.contrib.rnn.MultiRNNCell([drop] * lstm_layers)\n",
    "```\n",
    "\n",
    "Here, `[drop] * lstm_layers` creates a list of cells (`drop`) that is `lstm_layers` long. The `MultiRNNCell` wrapper builds this into multiple layers of RNN cells, one for each cell in the list.\n",
    "\n",
    "So the final cell you're using in the network is actually multiple (or just one) LSTM cells with dropout. But it all works the same from an achitectural viewpoint, just a more complicated graph in the cell.\n",
    "\n",
    "> **Exercise:** Below, use `tf.contrib.rnn.BasicLSTMCell` to create an LSTM cell. Then, add drop out to it with `tf.contrib.rnn.DropoutWrapper`. Finally, create multiple LSTM layers with `tf.contrib.rnn.MultiRNNCell`.\n",
    "\n",
    "Here is [a tutorial on building RNNs](https://www.tensorflow.org/tutorials/recurrent) that will help you out.\n"
   ]
  },
  {
   "cell_type": "code",
   "execution_count": 62,
   "metadata": {
    "ExecuteTime": {
     "end_time": "2017-06-01T23:11:44.130021Z",
     "start_time": "2017-06-01T17:11:44.117595-06:00"
    },
    "collapsed": true,
    "scrolled": false
   },
   "outputs": [],
   "source": [
    "with graph.as_default():\n",
    "    with tf.name_scope('LSTM'):\n",
    "        # Your basic LSTM cell\n",
    "        lstm = tf.contrib.rnn.BasicLSTMCell(lstm_size)\n",
    "        # Add dropout to the cell\n",
    "        drop = tf.contrib.rnn.DropoutWrapper(lstm, output_keep_prob=keep_prob)\n",
    "\n",
    "        # Stack up multiple LSTM layers, for deep learning\n",
    "        cell = tf.contrib.rnn.MultiRNNCell([drop] * lstm_layers)\n",
    "\n",
    "        # Getting an initial state of all zeros\n",
    "        initial_state = cell.zero_state(batch_size, tf.float32)"
   ]
  },
  {
   "cell_type": "markdown",
   "metadata": {},
   "source": [
    "### RNN forward pass\n",
    "\n",
    "<img src=\"assets/network_diagram.png\" width=400px>\n",
    "\n",
    "Now we need to actually run the data through the RNN nodes. You can use [`tf.nn.dynamic_rnn`](https://www.tensorflow.org/api_docs/python/tf/nn/dynamic_rnn) to do this. You'd pass in the RNN cell you created (our multiple layered LSTM `cell` for instance), and the inputs to the network.\n",
    "\n",
    "```\n",
    "outputs, final_state = tf.nn.dynamic_rnn(cell, inputs, initial_state=initial_state)\n",
    "```\n",
    "\n",
    "Above I created an initial state, `initial_state`, to pass to the RNN. This is the cell state that is passed between the hidden layers in successive time steps. `tf.nn.dynamic_rnn` takes care of most of the work for us. We pass in our cell and the input to the cell, then it does the unrolling and everything else for us. It returns outputs for each time step and the final_state of the hidden layer.\n",
    "\n",
    "> **Exercise:** Use `tf.nn.dynamic_rnn` to add the forward pass through the RNN. Remember that we're actually passing in vectors from the embedding layer, `embed`.\n",
    "\n"
   ]
  },
  {
   "cell_type": "code",
   "execution_count": 63,
   "metadata": {
    "ExecuteTime": {
     "end_time": "2017-06-01T23:11:44.228443Z",
     "start_time": "2017-06-01T17:11:44.132082-06:00"
    }
   },
   "outputs": [],
   "source": [
    "with graph.as_default():\n",
    "    with tf.name_scope('LSTM'):\n",
    "        outputs, final_state = tf.nn.dynamic_rnn(cell, embed, initial_state=initial_state)"
   ]
  },
  {
   "cell_type": "markdown",
   "metadata": {},
   "source": [
    "### Output\n",
    "\n",
    "We only care about the final output, we'll be using that as our sentiment prediction. So we need to grab the last output with `outputs[:, -1]`, the calculate the cost from that and `labels_`."
   ]
  },
  {
   "cell_type": "code",
   "execution_count": 64,
   "metadata": {
    "ExecuteTime": {
     "end_time": "2017-06-01T23:11:44.661384Z",
     "start_time": "2017-06-01T17:11:44.230453-06:00"
    },
    "collapsed": true
   },
   "outputs": [],
   "source": [
    "with graph.as_default():\n",
    "    with tf.name_scope('Prediction'):\n",
    "        predictions = tf.contrib.layers.fully_connected(outputs[:, -1], 1, activation_fn=tf.sigmoid)\n",
    "\n",
    "    with tf.name_scope('Loss'):\n",
    "        cost = tf.losses.mean_squared_error(labels_, predictions)\n",
    "        tf.summary.scalar('cost', cost)\n",
    "    optimizer = tf.train.AdamOptimizer(learning_rate).minimize(cost)"
   ]
  },
  {
   "cell_type": "markdown",
   "metadata": {},
   "source": [
    "### Validation accuracy\n",
    "\n",
    "Here we can add a few nodes to calculate the accuracy which we'll use in the validation pass."
   ]
  },
  {
   "cell_type": "code",
   "execution_count": 65,
   "metadata": {
    "ExecuteTime": {
     "end_time": "2017-06-01T23:11:44.673359Z",
     "start_time": "2017-06-01T17:11:44.663416-06:00"
    },
    "collapsed": true
   },
   "outputs": [],
   "source": [
    "with graph.as_default():\n",
    "    with tf.name_scope('Accuracy'):\n",
    "        correct_pred = tf.equal(tf.cast(tf.round(predictions), tf.int32), labels_)\n",
    "        accuracy = tf.reduce_mean(tf.cast(correct_pred, tf.float32))\n",
    "        tf.summary.scalar('accuracy',accuracy)"
   ]
  },
  {
   "cell_type": "markdown",
   "metadata": {},
   "source": [
    "### Batching\n",
    "\n",
    "This is a simple function for returning batches from our data. First it removes data such that we only have full batches. Then it iterates through the `x` and `y` arrays and returns slices out of those arrays with size `[batch_size]`."
   ]
  },
  {
   "cell_type": "code",
   "execution_count": 66,
   "metadata": {
    "ExecuteTime": {
     "end_time": "2017-06-01T23:11:44.680105Z",
     "start_time": "2017-06-01T17:11:44.675256-06:00"
    },
    "collapsed": true
   },
   "outputs": [],
   "source": [
    "def get_batches(x, y, batch_size=100):\n",
    "    \n",
    "    n_batches = len(x)//batch_size\n",
    "    x, y = x[:n_batches*batch_size], y[:n_batches*batch_size]\n",
    "    for ii in range(0, len(x), batch_size):\n",
    "        yield x[ii:ii+batch_size], y[ii:ii+batch_size]"
   ]
  },
  {
   "cell_type": "markdown",
   "metadata": {},
   "source": [
    "## Training\n",
    "\n",
    "Below is the typical training code. If you want to do this yourself, feel free to delete all this code and implement it yourself. Before you run this, make sure the `checkpoints` directory exists."
   ]
  },
  {
   "cell_type": "code",
   "execution_count": null,
   "metadata": {
    "ExecuteTime": {
     "end_time": "2017-05-31T20:45:43.689279Z",
     "start_time": "2017-05-31T14:45:43.684555-06:00"
    },
    "cell_style": "center",
    "collapsed": true
   },
   "outputs": [],
   "source": []
  },
  {
   "cell_type": "code",
   "execution_count": 67,
   "metadata": {
    "ExecuteTime": {
     "end_time": "2017-06-01T23:11:44.686464Z",
     "start_time": "2017-06-01T17:11:44.681908-06:00"
    }
   },
   "outputs": [
    {
     "data": {
      "text/plain": [
       "0.5"
      ]
     },
     "execution_count": 67,
     "metadata": {},
     "output_type": "execute_result"
    }
   ],
   "source": [
    "train_y.mean()"
   ]
  },
  {
   "cell_type": "code",
   "execution_count": 68,
   "metadata": {
    "ExecuteTime": {
     "end_time": "2017-06-01T23:40:28.569819Z",
     "start_time": "2017-06-01T17:11:44.688383-06:00"
    },
    "cell_style": "center",
    "scrolled": true
   },
   "outputs": [
    {
     "name": "stdout",
     "output_type": "stream",
     "text": [
      "Epoch: 0/20 Iteration: 5 Train loss: 0.239\n",
      "Epoch: 0/20 Iteration: 10 Train loss: 0.242\n",
      "Epoch: 0/20 Iteration: 15 Train loss: 0.238\n",
      "Epoch: 0/20 Iteration: 20 Train loss: 0.261\n",
      "Epoch: 0/20 Iteration: 25 Train loss: 0.239\n",
      "Val acc: 0.616\n",
      "Epoch: 0/20 Iteration: 30 Train loss: 0.242\n",
      "Epoch: 0/20 Iteration: 35 Train loss: 0.232\n",
      "Epoch: 0/20 Iteration: 40 Train loss: 0.237\n",
      "Epoch: 1/20 Iteration: 45 Train loss: 0.169\n",
      "Epoch: 1/20 Iteration: 50 Train loss: 0.196\n",
      "Val acc: 0.674\n",
      "Epoch: 1/20 Iteration: 55 Train loss: 0.153\n",
      "Epoch: 1/20 Iteration: 60 Train loss: 0.486\n",
      "Epoch: 1/20 Iteration: 65 Train loss: 0.495\n",
      "Epoch: 1/20 Iteration: 70 Train loss: 0.284\n",
      "Epoch: 1/20 Iteration: 75 Train loss: 0.268\n",
      "Val acc: 0.506\n",
      "Epoch: 1/20 Iteration: 80 Train loss: 0.272\n",
      "Epoch: 2/20 Iteration: 85 Train loss: 0.267\n",
      "Epoch: 2/20 Iteration: 90 Train loss: 0.249\n",
      "Epoch: 2/20 Iteration: 95 Train loss: 0.253\n",
      "Epoch: 2/20 Iteration: 100 Train loss: 0.240\n",
      "Val acc: 0.600\n",
      "Epoch: 2/20 Iteration: 105 Train loss: 0.232\n",
      "Epoch: 2/20 Iteration: 110 Train loss: 0.227\n",
      "Epoch: 2/20 Iteration: 115 Train loss: 0.478\n",
      "Epoch: 2/20 Iteration: 120 Train loss: 0.319\n",
      "Epoch: 3/20 Iteration: 125 Train loss: 0.311\n",
      "Val acc: 0.643\n",
      "Epoch: 3/20 Iteration: 130 Train loss: 0.362\n",
      "Epoch: 3/20 Iteration: 135 Train loss: 0.243\n",
      "Epoch: 3/20 Iteration: 140 Train loss: 0.256\n",
      "Epoch: 3/20 Iteration: 145 Train loss: 0.242\n",
      "Epoch: 3/20 Iteration: 150 Train loss: 0.253\n",
      "Val acc: 0.546\n",
      "Epoch: 3/20 Iteration: 155 Train loss: 0.243\n",
      "Epoch: 3/20 Iteration: 160 Train loss: 0.235\n",
      "Epoch: 4/20 Iteration: 165 Train loss: 0.229\n",
      "Epoch: 4/20 Iteration: 170 Train loss: 0.221\n",
      "Epoch: 4/20 Iteration: 175 Train loss: 0.232\n",
      "Val acc: 0.591\n",
      "Epoch: 4/20 Iteration: 180 Train loss: 0.209\n",
      "Epoch: 4/20 Iteration: 185 Train loss: 0.219\n",
      "Epoch: 4/20 Iteration: 190 Train loss: 0.215\n",
      "Epoch: 4/20 Iteration: 195 Train loss: 0.197\n",
      "Epoch: 4/20 Iteration: 200 Train loss: 0.204\n",
      "Val acc: 0.545\n",
      "Epoch: 5/20 Iteration: 205 Train loss: 0.214\n",
      "Epoch: 5/20 Iteration: 210 Train loss: 0.203\n",
      "Epoch: 5/20 Iteration: 215 Train loss: 0.205\n",
      "Epoch: 5/20 Iteration: 220 Train loss: 0.188\n",
      "Epoch: 5/20 Iteration: 225 Train loss: 0.221\n",
      "Val acc: 0.722\n",
      "Epoch: 5/20 Iteration: 230 Train loss: 0.198\n",
      "Epoch: 5/20 Iteration: 235 Train loss: 0.172\n",
      "Epoch: 5/20 Iteration: 240 Train loss: 0.191\n",
      "Epoch: 6/20 Iteration: 245 Train loss: 0.360\n",
      "Epoch: 6/20 Iteration: 250 Train loss: 0.222\n",
      "Val acc: 0.594\n",
      "Epoch: 6/20 Iteration: 255 Train loss: 0.207\n",
      "Epoch: 6/20 Iteration: 260 Train loss: 0.196\n",
      "Epoch: 6/20 Iteration: 265 Train loss: 0.190\n",
      "Epoch: 6/20 Iteration: 270 Train loss: 0.235\n",
      "Epoch: 6/20 Iteration: 275 Train loss: 0.200\n",
      "Val acc: 0.651\n",
      "Epoch: 6/20 Iteration: 280 Train loss: 0.246\n",
      "Epoch: 7/20 Iteration: 285 Train loss: 0.170\n",
      "Epoch: 7/20 Iteration: 290 Train loss: 0.160\n",
      "Epoch: 7/20 Iteration: 295 Train loss: 0.177\n",
      "Epoch: 7/20 Iteration: 300 Train loss: 0.185\n",
      "Val acc: 0.670\n",
      "Epoch: 7/20 Iteration: 305 Train loss: 0.180\n",
      "Epoch: 7/20 Iteration: 310 Train loss: 0.145\n",
      "Epoch: 7/20 Iteration: 315 Train loss: 0.103\n",
      "Epoch: 7/20 Iteration: 320 Train loss: 0.148\n",
      "Epoch: 8/20 Iteration: 325 Train loss: 0.091\n",
      "Val acc: 0.654\n",
      "Epoch: 8/20 Iteration: 330 Train loss: 0.227\n",
      "Epoch: 8/20 Iteration: 335 Train loss: 0.142\n",
      "Epoch: 8/20 Iteration: 340 Train loss: 0.132\n",
      "Epoch: 8/20 Iteration: 345 Train loss: 0.238\n",
      "Epoch: 8/20 Iteration: 350 Train loss: 0.186\n",
      "Val acc: 0.618\n",
      "Epoch: 8/20 Iteration: 355 Train loss: 0.162\n",
      "Epoch: 8/20 Iteration: 360 Train loss: 0.191\n",
      "Epoch: 9/20 Iteration: 365 Train loss: 0.130\n",
      "Epoch: 9/20 Iteration: 370 Train loss: 0.125\n",
      "Epoch: 9/20 Iteration: 375 Train loss: 0.113\n",
      "Val acc: 0.771\n",
      "Epoch: 9/20 Iteration: 380 Train loss: 0.108\n",
      "Epoch: 9/20 Iteration: 385 Train loss: 0.128\n",
      "Epoch: 9/20 Iteration: 390 Train loss: 0.111\n",
      "Epoch: 9/20 Iteration: 395 Train loss: 0.080\n",
      "Epoch: 9/20 Iteration: 400 Train loss: 0.085\n",
      "Val acc: 0.726\n",
      "Epoch: 10/20 Iteration: 405 Train loss: 0.060\n",
      "Epoch: 10/20 Iteration: 410 Train loss: 0.099\n",
      "Epoch: 10/20 Iteration: 415 Train loss: 0.134\n",
      "Epoch: 10/20 Iteration: 420 Train loss: 0.136\n",
      "Epoch: 10/20 Iteration: 425 Train loss: 0.095\n",
      "Val acc: 0.724\n",
      "Epoch: 10/20 Iteration: 430 Train loss: 0.073\n",
      "Epoch: 10/20 Iteration: 435 Train loss: 0.075\n",
      "Epoch: 10/20 Iteration: 440 Train loss: 0.076\n",
      "Epoch: 11/20 Iteration: 445 Train loss: 0.061\n",
      "Epoch: 11/20 Iteration: 450 Train loss: 0.059\n",
      "Val acc: 0.792\n",
      "Epoch: 11/20 Iteration: 455 Train loss: 0.071\n",
      "Epoch: 11/20 Iteration: 460 Train loss: 0.062\n",
      "Epoch: 11/20 Iteration: 465 Train loss: 0.055\n",
      "Epoch: 11/20 Iteration: 470 Train loss: 0.063\n",
      "Epoch: 11/20 Iteration: 475 Train loss: 0.059\n",
      "Val acc: 0.818\n",
      "Epoch: 11/20 Iteration: 480 Train loss: 0.068\n",
      "Epoch: 12/20 Iteration: 485 Train loss: 0.048\n",
      "Epoch: 12/20 Iteration: 490 Train loss: 0.054\n",
      "Epoch: 12/20 Iteration: 495 Train loss: 0.051\n",
      "Epoch: 12/20 Iteration: 500 Train loss: 0.051\n",
      "Val acc: 0.826\n",
      "Epoch: 12/20 Iteration: 505 Train loss: 0.043\n",
      "Epoch: 12/20 Iteration: 510 Train loss: 0.066\n",
      "Epoch: 12/20 Iteration: 515 Train loss: 0.085\n",
      "Epoch: 12/20 Iteration: 520 Train loss: 0.107\n",
      "Epoch: 13/20 Iteration: 525 Train loss: 0.053\n",
      "Val acc: 0.726\n",
      "Epoch: 13/20 Iteration: 530 Train loss: 0.040\n",
      "Epoch: 13/20 Iteration: 535 Train loss: 0.058\n",
      "Epoch: 13/20 Iteration: 540 Train loss: 0.052\n",
      "Epoch: 13/20 Iteration: 545 Train loss: 0.043\n",
      "Epoch: 13/20 Iteration: 550 Train loss: 0.028\n",
      "Val acc: 0.843\n",
      "Epoch: 13/20 Iteration: 555 Train loss: 0.025\n",
      "Epoch: 13/20 Iteration: 560 Train loss: 0.020\n",
      "Epoch: 14/20 Iteration: 565 Train loss: 0.021\n",
      "Epoch: 14/20 Iteration: 570 Train loss: 0.037\n",
      "Epoch: 14/20 Iteration: 575 Train loss: 0.046\n",
      "Val acc: 0.773\n",
      "Epoch: 14/20 Iteration: 580 Train loss: 0.024\n",
      "Epoch: 14/20 Iteration: 585 Train loss: 0.020\n",
      "Epoch: 14/20 Iteration: 590 Train loss: 0.034\n",
      "Epoch: 14/20 Iteration: 595 Train loss: 0.035\n",
      "Epoch: 14/20 Iteration: 600 Train loss: 0.016\n",
      "Val acc: 0.778\n",
      "Epoch: 15/20 Iteration: 605 Train loss: 0.018\n",
      "Epoch: 15/20 Iteration: 610 Train loss: 0.036\n",
      "Epoch: 15/20 Iteration: 615 Train loss: 0.048\n",
      "Epoch: 15/20 Iteration: 620 Train loss: 0.020\n",
      "Epoch: 15/20 Iteration: 625 Train loss: 0.021\n",
      "Val acc: 0.828\n",
      "Epoch: 15/20 Iteration: 630 Train loss: 0.057\n",
      "Epoch: 15/20 Iteration: 635 Train loss: 0.036\n",
      "Epoch: 15/20 Iteration: 640 Train loss: 0.024\n",
      "Epoch: 16/20 Iteration: 645 Train loss: 0.032\n",
      "Epoch: 16/20 Iteration: 650 Train loss: 0.050\n",
      "Val acc: 0.822\n",
      "Epoch: 16/20 Iteration: 655 Train loss: 0.043\n",
      "Epoch: 16/20 Iteration: 660 Train loss: 0.023\n",
      "Epoch: 16/20 Iteration: 665 Train loss: 0.056\n",
      "Epoch: 16/20 Iteration: 670 Train loss: 0.030\n",
      "Epoch: 16/20 Iteration: 675 Train loss: 0.022\n",
      "Val acc: 0.829\n",
      "Epoch: 16/20 Iteration: 680 Train loss: 0.109\n",
      "Epoch: 17/20 Iteration: 685 Train loss: 0.018\n",
      "Epoch: 17/20 Iteration: 690 Train loss: 0.047\n",
      "Epoch: 17/20 Iteration: 695 Train loss: 0.045\n",
      "Epoch: 17/20 Iteration: 700 Train loss: 0.018\n",
      "Val acc: 0.837\n",
      "Epoch: 17/20 Iteration: 705 Train loss: 0.016\n",
      "Epoch: 17/20 Iteration: 710 Train loss: 0.012\n",
      "Epoch: 17/20 Iteration: 715 Train loss: 0.009\n",
      "Epoch: 17/20 Iteration: 720 Train loss: 0.008\n",
      "Epoch: 18/20 Iteration: 725 Train loss: 0.001\n",
      "Val acc: 0.874\n",
      "Epoch: 18/20 Iteration: 730 Train loss: 0.006\n",
      "Epoch: 18/20 Iteration: 735 Train loss: 0.005\n",
      "Epoch: 18/20 Iteration: 740 Train loss: 0.005\n",
      "Epoch: 18/20 Iteration: 745 Train loss: 0.003\n",
      "Epoch: 18/20 Iteration: 750 Train loss: 0.004\n",
      "Val acc: 0.868\n",
      "Epoch: 18/20 Iteration: 755 Train loss: 0.001\n",
      "Epoch: 18/20 Iteration: 760 Train loss: 0.002\n",
      "Epoch: 19/20 Iteration: 765 Train loss: 0.003\n",
      "Epoch: 19/20 Iteration: 770 Train loss: 0.004\n",
      "Epoch: 19/20 Iteration: 775 Train loss: 0.005\n",
      "Val acc: 0.868\n",
      "Epoch: 19/20 Iteration: 780 Train loss: 0.003\n",
      "Epoch: 19/20 Iteration: 785 Train loss: 0.004\n",
      "Epoch: 19/20 Iteration: 790 Train loss: 0.005\n",
      "Epoch: 19/20 Iteration: 795 Train loss: 0.000\n",
      "Epoch: 19/20 Iteration: 800 Train loss: 0.000\n",
      "Val acc: 0.870\n"
     ]
    }
   ],
   "source": [
    "epochs = 20\n",
    "\n",
    "with graph.as_default():\n",
    "    merged = tf.summary.merge_all()\n",
    "    saver = tf.train.Saver()\n",
    "\n",
    "with tf.Session(graph=graph) as sess:\n",
    "    sess.run(tf.global_variables_initializer())\n",
    "    train_writer = tf.summary.FileWriter('./logs/{}/train'.format(run_number), sess.graph)\n",
    "    val_writer = tf.summary.FileWriter('./logs/{}/val'.format(run_number))\n",
    "    tf.contrib.tensorboard.plugins.projector.visualize_embeddings(val_writer, embedding_config)\n",
    "    iteration = 1\n",
    "    for e in range(epochs):\n",
    "        state = sess.run(initial_state)\n",
    "        \n",
    "        for ii, (x, y) in enumerate(get_batches(train_x, train_y, batch_size), 1):\n",
    "            feed = {inputs_: x,\n",
    "                    labels_: y[:, None],\n",
    "                    keep_prob: 0.5,\n",
    "                    initial_state: state}\n",
    "            summary, loss, state, _ = sess.run([merged, cost, final_state, optimizer],\n",
    "                                               feed_dict=feed)\n",
    "            train_writer.add_summary(summary, iteration)\n",
    "            \n",
    "            if iteration%5==0:\n",
    "                print(\"Epoch: {}/{}\".format(e, epochs),\n",
    "                      \"Iteration: {}\".format(iteration),\n",
    "                      \"Train loss: {:.3f}\".format(loss))\n",
    "\n",
    "            if iteration%25==0:\n",
    "                val_acc = []\n",
    "                val_state = sess.run(cell.zero_state(batch_size, tf.float32))\n",
    "                for x, y in get_batches(val_x, val_y, batch_size):\n",
    "                    feed = {inputs_: x,\n",
    "                            labels_: y[:, None],\n",
    "                            keep_prob: 1,\n",
    "                            initial_state: val_state}\n",
    "                    summary, batch_acc, val_state = sess.run([merged, accuracy, final_state],\n",
    "                                                             feed_dict=feed)\n",
    "                    val_acc.append(batch_acc)\n",
    "                    val_writer.add_summary(summary, iteration)\n",
    "                    saver.save(sess, './logs/{}/model.ckpt'.format(run_number), iteration)\n",
    "                print(\"Val acc: {:.3f}\".format(np.mean(val_acc)))\n",
    "            iteration +=1\n",
    "    saver.save(sess, \"checkpoints/sentiment.ckpt\")"
   ]
  },
  {
   "cell_type": "code",
   "execution_count": 69,
   "metadata": {
    "ExecuteTime": {
     "end_time": "2017-06-01T23:40:28.577729Z",
     "start_time": "2017-06-01T17:40:28.573971-06:00"
    },
    "collapsed": true
   },
   "outputs": [],
   "source": [
    "train_writer.flush()\n",
    "val_writer.flush()"
   ]
  },
  {
   "cell_type": "code",
   "execution_count": null,
   "metadata": {
    "ExecuteTime": {
     "end_time": "2017-05-31T21:12:47.577227Z",
     "start_time": "2017-05-31T15:12:47.513148-06:00"
    }
   },
   "outputs": [],
   "source": []
  },
  {
   "cell_type": "markdown",
   "metadata": {},
   "source": [
    "## Testing"
   ]
  },
  {
   "cell_type": "code",
   "execution_count": 70,
   "metadata": {
    "ExecuteTime": {
     "end_time": "2017-06-01T23:40:32.987288Z",
     "start_time": "2017-06-01T17:40:28.579939-06:00"
    }
   },
   "outputs": [
    {
     "name": "stdout",
     "output_type": "stream",
     "text": [
      "Test accuracy: 0.863\n"
     ]
    }
   ],
   "source": [
    "test_acc = []\n",
    "with tf.Session(graph=graph) as sess:\n",
    "    saver.restore(sess, tf.train.latest_checkpoint('checkpoints'))\n",
    "    test_state = sess.run(cell.zero_state(batch_size, tf.float32))\n",
    "    for ii, (x, y) in enumerate(get_batches(test_x, test_y, batch_size), 1):\n",
    "        feed = {inputs_: x,\n",
    "                labels_: y[:, None],\n",
    "                keep_prob: 1,\n",
    "                initial_state: test_state}\n",
    "        batch_acc, test_state = sess.run([accuracy, final_state], feed_dict=feed)\n",
    "        test_acc.append(batch_acc)\n",
    "    print(\"Test accuracy: {:.3f}\".format(np.mean(test_acc)))"
   ]
  },
  {
   "cell_type": "markdown",
   "metadata": {},
   "source": [
    "Test accuracy: 0.748  \n",
    "Test accuracy: 0.784"
   ]
  },
  {
   "cell_type": "code",
   "execution_count": 71,
   "metadata": {
    "ExecuteTime": {
     "end_time": "2017-06-01T23:40:32.992863Z",
     "start_time": "2017-06-01T17:40:32.989344-06:00"
    }
   },
   "outputs": [
    {
     "name": "stdout",
     "output_type": "stream",
     "text": [
      "(25000, 200)\n"
     ]
    }
   ],
   "source": [
    "print(features.shape)"
   ]
  },
  {
   "cell_type": "code",
   "execution_count": 82,
   "metadata": {
    "ExecuteTime": {
     "end_time": "2017-06-02T00:25:39.596214Z",
     "start_time": "2017-06-01T18:25:39.577927-06:00"
    }
   },
   "outputs": [],
   "source": [
    "def TestSomeText(text):\n",
    "    text = text.lower()\n",
    "    delete = ['.','!',',','\"',\"'\",'\\n']\n",
    "    for d in delete:\n",
    "        text = text.replace(d,\" \")\n",
    "    text_ints = [vocab_to_int[word] for word in text.split(' ') if word in vocab_to_int]\n",
    "    print(len(text_ints))\n",
    "    text_ints = text_ints[:seq_len]\n",
    "    #print(text_ints)\n",
    "    #text_features = np.zeros((batch_size,seq_len))\n",
    "    text_features = np.array([([0] * (seq_len-len(text_ints))) + text_ints] * batch_size)\n",
    "    #print(text_features)\n",
    "    #print(text_features.shape)\n",
    "    with tf.Session(graph=graph) as sess:\n",
    "        saver.restore(sess, tf.train.latest_checkpoint('checkpoints'))\n",
    "        test_state = sess.run(cell.zero_state(batch_size, tf.float32))\n",
    "        for i in range(1):\n",
    "            feed = {inputs_: text_features,\n",
    "                    labels_: [[0]]*batch_size,\n",
    "                    keep_prob: 1,\n",
    "                    initial_state: test_state}\n",
    "            pred, mycost, test_state = sess.run([predictions, accuracy, final_state], feed_dict=feed)\n",
    "    return pred[0,0]"
   ]
  },
  {
   "cell_type": "code",
   "execution_count": 73,
   "metadata": {
    "ExecuteTime": {
     "end_time": "2017-06-01T23:40:33.800960Z",
     "start_time": "2017-06-01T17:40:33.013769-06:00"
    }
   },
   "outputs": [
    {
     "data": {
      "text/plain": [
       "0.90843976"
      ]
     },
     "execution_count": 73,
     "metadata": {},
     "output_type": "execute_result"
    }
   ],
   "source": [
    "TestSomeText(\"highly underrated movie\")\n",
    "#pred[0,0]"
   ]
  },
  {
   "cell_type": "code",
   "execution_count": 74,
   "metadata": {
    "ExecuteTime": {
     "end_time": "2017-06-01T23:40:34.561241Z",
     "start_time": "2017-06-01T17:40:33.803364-06:00"
    }
   },
   "outputs": [
    {
     "data": {
      "text/plain": [
       "0.11279746"
      ]
     },
     "execution_count": 74,
     "metadata": {},
     "output_type": "execute_result"
    }
   ],
   "source": [
    "TestSomeText('overrated movie')"
   ]
  },
  {
   "cell_type": "code",
   "execution_count": 83,
   "metadata": {
    "ExecuteTime": {
     "end_time": "2017-06-02T00:25:42.776761Z",
     "start_time": "2017-06-01T18:25:41.989887-06:00"
    }
   },
   "outputs": [
    {
     "name": "stdout",
     "output_type": "stream",
     "text": [
      "236\n"
     ]
    },
    {
     "data": {
      "text/plain": [
       "0.28223041"
      ]
     },
     "execution_count": 83,
     "metadata": {},
     "output_type": "execute_result"
    }
   ],
   "source": [
    "TestSomeText(\"\"\"I ve been looking forward to a viking film or TV series for many years\n",
    "and when my wishes were finally granted, I was very worried that this production\n",
    "was going to be total crap. After viewing the first two episodes I do not worry\n",
    "about that anymore. Thank you, Odin\n",
    "As a person of some historical knowledge of the viking era, I can point out numerous\n",
    "flaws - but they don't ruin the story for me, so I will let them slip. Historical\n",
    "accounts about those days are, after all, not entirely reliable.\n",
    "Happy to see Travis Fimmel in a role that totally suits him. A physical and intense\n",
    "character, with that spice of humor that is the viking trademark from the sagas.\n",
    "Gabriel Byrne plays a stern leader, that made me think of him in \"Prince of Jutland\",\n",
    "and Clive Standen seems like he's going to surprise us.\n",
    "Been pondering the Game of Thrones comparison, since I love that show too, but in my\n",
    "opinion Vikings has its own thing going on. Way fewer lead characters to begin with,\n",
    "and also a more straight forward approach. Plenty of room for more series with this\n",
    "high class!\n",
    "Can I wish for more than the planned nine episodes, PLEASE!!!\"\"\")"
   ]
  },
  {
   "cell_type": "code",
   "execution_count": 96,
   "metadata": {
    "ExecuteTime": {
     "end_time": "2017-06-02T00:27:48.556356Z",
     "start_time": "2017-06-01T18:27:47.766924-06:00"
    }
   },
   "outputs": [
    {
     "name": "stdout",
     "output_type": "stream",
     "text": [
      "1\n"
     ]
    },
    {
     "data": {
      "text/plain": [
       "0.16672063"
      ]
     },
     "execution_count": 96,
     "metadata": {},
     "output_type": "execute_result"
    }
   ],
   "source": [
    "TestSomeText(\"\"\"vikings\"\"\")"
   ]
  },
  {
   "cell_type": "code",
   "execution_count": 76,
   "metadata": {
    "ExecuteTime": {
     "end_time": "2017-06-01T23:40:35.354836Z",
     "start_time": "2017-06-01T17:40:35.338863-06:00"
    }
   },
   "outputs": [
    {
     "ename": "NameError",
     "evalue": "name 'text' is not defined",
     "output_type": "error",
     "traceback": [
      "\u001b[0;31m---------------------------------------------------------------------------\u001b[0m",
      "\u001b[0;31mNameError\u001b[0m                                 Traceback (most recent call last)",
      "\u001b[0;32m<ipython-input-76-28435776e4a8>\u001b[0m in \u001b[0;36m<module>\u001b[0;34m()\u001b[0m\n\u001b[1;32m      1\u001b[0m \u001b[0mdelete\u001b[0m \u001b[0;34m=\u001b[0m \u001b[0;34m[\u001b[0m\u001b[0;34m'.'\u001b[0m\u001b[0;34m,\u001b[0m\u001b[0;34m'!'\u001b[0m\u001b[0;34m,\u001b[0m\u001b[0;34m','\u001b[0m\u001b[0;34m,\u001b[0m\u001b[0;34m'\"'\u001b[0m\u001b[0;34m,\u001b[0m\u001b[0;34m\"'\"\u001b[0m\u001b[0;34m,\u001b[0m\u001b[0;34m'\\n'\u001b[0m\u001b[0;34m]\u001b[0m\u001b[0;34m\u001b[0m\u001b[0m\n\u001b[1;32m      2\u001b[0m \u001b[0;32mfor\u001b[0m \u001b[0md\u001b[0m \u001b[0;32min\u001b[0m \u001b[0mdelete\u001b[0m\u001b[0;34m:\u001b[0m\u001b[0;34m\u001b[0m\u001b[0m\n\u001b[0;32m----> 3\u001b[0;31m     \u001b[0mtext\u001b[0m \u001b[0;34m=\u001b[0m \u001b[0mtext\u001b[0m\u001b[0;34m.\u001b[0m\u001b[0mreplace\u001b[0m\u001b[0;34m(\u001b[0m\u001b[0md\u001b[0m\u001b[0;34m,\u001b[0m\u001b[0;34m\" \"\u001b[0m\u001b[0;34m)\u001b[0m\u001b[0;34m\u001b[0m\u001b[0m\n\u001b[0m",
      "\u001b[0;31mNameError\u001b[0m: name 'text' is not defined"
     ]
    }
   ],
   "source": [
    "delete = ['.','!',',','\"',\"'\",'\\n']\n",
    "for d in delete:\n",
    "    text = text.replace(d,\" \")"
   ]
  },
  {
   "cell_type": "code",
   "execution_count": 77,
   "metadata": {
    "ExecuteTime": {
     "end_time": "2017-06-02T00:24:28.678704Z",
     "start_time": "2017-06-01T18:24:27.888066-06:00"
    }
   },
   "outputs": [
    {
     "data": {
      "text/plain": [
       "0.93077099"
      ]
     },
     "execution_count": 77,
     "metadata": {},
     "output_type": "execute_result"
    }
   ],
   "source": [
    "TestSomeText(\"\"\"Pirates of the Caribbean has always been a franchise that makes no attempt for Oscar worthy material but in its own way is massively enjoyable.\n",
    "\n",
    "Pirates of the Caribbean: Dead Men Tell No Tales certainly embraces the aspects of the original movie while also incorporating new plot lines that fit in well with plots from the original story. With the introduction of Henry and Karina there is a new love interest that is provided to the audience that rivals that of Will and Elizabeth Turner's.\n",
    "\n",
    "Henry Turner is portrayed as an almost exact copy of his father except just a teensy bit worse at sword fighting while Karina differs from the usual women as she remains just as important, if not more, as Henry as she guides the course towards Posiedon's trident.\n",
    "\n",
    "Jack Sparrow is entertaining as always with his usual drunk characteristics. For those of you who are tired of Sparrow acting this way Don't SEE THE MOVIE Jack sparrow isn't going to change because it doesn't make sense for his character to suddenly change.\n",
    "\n",
    "All together the movie was expertly written and expertly performed by the entire cast even Kiera Knightely who didn't manage to get one word throughout the whole movie. I know as a major fan of the Pirates of the Caribbean I can't wait to see what happens for the future of the franchise.\n",
    "\"\"\")"
   ]
  },
  {
   "cell_type": "code",
   "execution_count": null,
   "metadata": {
    "ExecuteTime": {
     "end_time": "2017-06-01T23:40:35.356767Z",
     "start_time": "2017-06-01T23:11:43.808Z"
    }
   },
   "outputs": [],
   "source": [
    "pred,mycost = TestSomeText(text)\n",
    "pred[0,0]"
   ]
  },
  {
   "cell_type": "code",
   "execution_count": 78,
   "metadata": {
    "ExecuteTime": {
     "end_time": "2017-06-02T00:24:37.695138Z",
     "start_time": "2017-06-01T18:24:36.915219-06:00"
    }
   },
   "outputs": [
    {
     "data": {
      "text/plain": [
       "0.69900268"
      ]
     },
     "execution_count": 78,
     "metadata": {},
     "output_type": "execute_result"
    }
   ],
   "source": [
    "TestSomeText(\"\"\"If your child is a fan of the Wimpy Kid series, they'll no doubt enjoy this one, it's entertaining and lowbrow enough to also appease the moodiest of teens and grumpiest adults.\"\"\")"
   ]
  },
  {
   "cell_type": "code",
   "execution_count": 79,
   "metadata": {
    "ExecuteTime": {
     "end_time": "2017-06-02T00:24:41.425526Z",
     "start_time": "2017-06-01T18:24:40.654884-06:00"
    }
   },
   "outputs": [
    {
     "data": {
      "text/plain": [
       "0.19138487"
      ]
     },
     "execution_count": 79,
     "metadata": {},
     "output_type": "execute_result"
    }
   ],
   "source": [
    "TestSomeText(\"\"\"At first I thought the film was going to be just a normal thriller but it turned out to be a thousand times better than I expected. The film is truly original and was so dark & sinister that gives the tensive mood also it is emotionally & psychologically thrilling, the whole movie is charged with pulse pounding suspense and seems like it's really happening. It's amazing that how they managed to make an 80 minute movie with just a guy in a phone booth but the full credit goes to Colin Farrell and Larry Cohen the writer not Joel Schumacher because he is a crappy director. Joel Schumacher's films are rubbish especially The Number 23, Phone Booth was shot in 10 days with a budget of $10 million so it wasn't a hard job to make it, that's why Joel doesn't get any credit but the cast & crew did a fantastic job. I also really liked the raspberry coloured shirt Colin was wearing and it was an excellent choice of clothing because the viewers are going to watch him throughout the whole film. When I first saw the movie I fell in love with it and I bought it on DVD the next day and I've seen it about 20 times and I'm still not fed up with it. Phone Booth is and always will be Colin Farrell's best film! Overall it is simply one of my favourite films and I even argued over my friend because he didn't like it.\n",
    "\"\"\")"
   ]
  },
  {
   "cell_type": "code",
   "execution_count": null,
   "metadata": {
    "ExecuteTime": {
     "end_time": "2017-06-01T23:40:35.359985Z",
     "start_time": "2017-06-01T23:11:43.813Z"
    },
    "collapsed": true
   },
   "outputs": [],
   "source": [
    "delete = ['.','!',',','\"',\"'\",'\\n']\n",
    "for d in delete:\n",
    "    text = text.replace(d,\" \")"
   ]
  },
  {
   "cell_type": "code",
   "execution_count": null,
   "metadata": {
    "ExecuteTime": {
     "end_time": "2017-06-01T23:40:35.361040Z",
     "start_time": "2017-06-01T23:11:43.815Z"
    }
   },
   "outputs": [],
   "source": [
    "text"
   ]
  },
  {
   "cell_type": "code",
   "execution_count": null,
   "metadata": {
    "ExecuteTime": {
     "end_time": "2017-06-01T23:40:35.362098Z",
     "start_time": "2017-06-01T23:11:43.817Z"
    }
   },
   "outputs": [],
   "source": [
    "pred,mycost = TestSomeText(text)\n",
    "pred[0,0]"
   ]
  },
  {
   "cell_type": "code",
   "execution_count": 80,
   "metadata": {
    "ExecuteTime": {
     "end_time": "2017-06-02T00:24:56.676240Z",
     "start_time": "2017-06-01T18:24:55.894323-06:00"
    }
   },
   "outputs": [
    {
     "data": {
      "text/plain": [
       "0.12850964"
      ]
     },
     "execution_count": 80,
     "metadata": {},
     "output_type": "execute_result"
    }
   ],
   "source": [
    "TestSomeText(\"\"\"There are few quality movies or series about the Vikings, and this series is outstanding and well worth waiting for. Not only is Vikings a series that is a joy to watch, it is also a series that is easy to recommend. I personally feel that the creator and producers did a fine job of giving the viewer quality material. Now, there are a few inconsistencies with the series, most notably would be the idea that Vikings had very little knowledge of other European countries and were amazed by these people across the big waters. In reality Vikings engaged in somewhat normal commercial activities with other Anglo-Saxons, so the idea that Vikings were as amazed as they seemed when they realize that other people were out there is not that realistic. However, it is this small inconsistency that goes a long way in holding the premise together. I simply love the series and would recommend it to anyone wanting to watch a quality show.\"\"\")"
   ]
  },
  {
   "cell_type": "code",
   "execution_count": null,
   "metadata": {
    "ExecuteTime": {
     "end_time": "2017-06-01T23:40:35.364212Z",
     "start_time": "2017-06-01T23:11:43.820Z"
    },
    "collapsed": true
   },
   "outputs": [],
   "source": [
    "delete = ['.','!',',','\"',\"'\",'\\n']\n",
    "for d in delete:\n",
    "    text = text.replace(d,\" \")"
   ]
  },
  {
   "cell_type": "code",
   "execution_count": null,
   "metadata": {
    "ExecuteTime": {
     "end_time": "2017-06-01T23:40:35.365209Z",
     "start_time": "2017-06-01T23:11:43.821Z"
    }
   },
   "outputs": [],
   "source": [
    "pred,mycost = TestSomeText(text)\n",
    "pred[0,0]"
   ]
  },
  {
   "cell_type": "code",
   "execution_count": 81,
   "metadata": {
    "ExecuteTime": {
     "end_time": "2017-06-02T00:25:06.394989Z",
     "start_time": "2017-06-01T18:25:05.622079-06:00"
    }
   },
   "outputs": [
    {
     "data": {
      "text/plain": [
       "0.021647727"
      ]
     },
     "execution_count": 81,
     "metadata": {},
     "output_type": "execute_result"
    }
   ],
   "source": [
    "TestSomeText(\"\"\"This movie didn't feel any different from the other anime movies out there. Sure, the sibling dynamics were good, as well as the family values, the childhood memories and older brother anxiety. The main idea was interesting, with the new baby seeming rather like a boss sent into the family to spy on the parents and solve a big problem for his company. You can't help but identify with the older kid, especially if you have younger siblings. But eventually, the action was a bit main stream. The action scenes were not original and kind of boring. Other than that, the story became a little complicated when you start to think about what's real and what's not. The narration was good and the animation was nice, with the cute babies and puppies. So, 4 out of 10.\n",
    "\n",
    "\"\"\")"
   ]
  },
  {
   "cell_type": "code",
   "execution_count": null,
   "metadata": {
    "ExecuteTime": {
     "end_time": "2017-06-01T23:40:35.367357Z",
     "start_time": "2017-06-01T23:11:43.824Z"
    },
    "collapsed": true
   },
   "outputs": [],
   "source": [
    "delete = ['.','!',',','\"',\"'\",'\\n']\n",
    "for d in delete:\n",
    "    text = text.replace(d,\" \")"
   ]
  },
  {
   "cell_type": "code",
   "execution_count": null,
   "metadata": {
    "ExecuteTime": {
     "end_time": "2017-06-01T23:40:35.368419Z",
     "start_time": "2017-06-01T23:11:43.825Z"
    }
   },
   "outputs": [],
   "source": [
    "text"
   ]
  },
  {
   "cell_type": "code",
   "execution_count": null,
   "metadata": {
    "ExecuteTime": {
     "end_time": "2017-06-01T23:40:35.369476Z",
     "start_time": "2017-06-01T23:11:43.827Z"
    }
   },
   "outputs": [],
   "source": [
    "pred,mycost = TestSomeText(text)\n",
    "pred[0,0]"
   ]
  },
  {
   "cell_type": "code",
   "execution_count": 98,
   "metadata": {
    "ExecuteTime": {
     "end_time": "2017-06-02T17:24:41.004329Z",
     "start_time": "2017-06-02T11:24:40.222023-06:00"
    }
   },
   "outputs": [
    {
     "name": "stdout",
     "output_type": "stream",
     "text": [
      "3\n"
     ]
    },
    {
     "data": {
      "text/plain": [
       "0.37036353"
      ]
     },
     "execution_count": 98,
     "metadata": {},
     "output_type": "execute_result"
    }
   ],
   "source": [
    "TestSomeText('seriously awesome movie')"
   ]
  },
  {
   "cell_type": "code",
   "execution_count": null,
   "metadata": {
    "collapsed": true
   },
   "outputs": [],
   "source": []
  }
 ],
 "metadata": {
  "kernelspec": {
   "display_name": "Python 3",
   "language": "python",
   "name": "python3"
  },
  "language_info": {
   "codemirror_mode": {
    "name": "ipython",
    "version": 3
   },
   "file_extension": ".py",
   "mimetype": "text/x-python",
   "name": "python",
   "nbconvert_exporter": "python",
   "pygments_lexer": "ipython3",
   "version": "3.6.1"
  },
  "varInspector": {
   "cols": {
    "lenName": 16,
    "lenType": 16,
    "lenVar": 40
   },
   "kernels_config": {
    "python": {
     "delete_cmd_postfix": "",
     "delete_cmd_prefix": "del ",
     "library": "var_list.py",
     "varRefreshCmd": "print(var_dic_list())"
    },
    "r": {
     "delete_cmd_postfix": ") ",
     "delete_cmd_prefix": "rm(",
     "library": "var_list.r",
     "varRefreshCmd": "cat(var_dic_list()) "
    }
   },
   "position": {
    "height": "478px",
    "left": "399px",
    "right": "20px",
    "top": "121px",
    "width": "431px"
   },
   "types_to_exclude": [
    "module",
    "function",
    "builtin_function_or_method",
    "instance",
    "_Feature"
   ],
   "window_display": false
  }
 },
 "nbformat": 4,
 "nbformat_minor": 2
}
