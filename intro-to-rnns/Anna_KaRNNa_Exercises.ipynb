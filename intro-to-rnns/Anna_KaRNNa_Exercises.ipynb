{
 "cells": [
  {
   "cell_type": "markdown",
   "metadata": {},
   "source": [
    "# Anna KaRNNa\n",
    "\n",
    "In this notebook, we'll build a character-wise RNN trained on Anna Karenina, one of my all-time favorite books. It'll be able to generate new text based on the text from the book.\n",
    "\n",
    "This network is based off of Andrej Karpathy's [post on RNNs](http://karpathy.github.io/2015/05/21/rnn-effectiveness/) and [implementation in Torch](https://github.com/karpathy/char-rnn). Also, some information [here at r2rt](http://r2rt.com/recurrent-neural-networks-in-tensorflow-ii.html) and from [Sherjil Ozair](https://github.com/sherjilozair/char-rnn-tensorflow) on GitHub. Below is the general architecture of the character-wise RNN.\n",
    "\n",
    "<img src=\"assets/charseq.jpeg\" width=\"500\">"
   ]
  },
  {
   "cell_type": "code",
   "execution_count": 1,
   "metadata": {
    "collapsed": true
   },
   "outputs": [],
   "source": [
    "import time\n",
    "from collections import namedtuple\n",
    "import re\n",
    "\n",
    "import numpy as np\n",
    "import tensorflow as tf"
   ]
  },
  {
   "cell_type": "markdown",
   "metadata": {},
   "source": [
    "First we'll load the text file and convert it into integers for our network to use. Here I'm creating a couple dictionaries to convert the characters to and from integers. Encoding the characters as integers makes it easier to use as input in the network."
   ]
  },
  {
   "cell_type": "code",
   "execution_count": 2,
   "metadata": {},
   "outputs": [
    {
     "data": {
      "text/plain": [
       "['anna.txt',\n",
       " 'frank.txt',\n",
       " 'earnest.txt',\n",
       " 'meta.txt',\n",
       " 'holmes.txt',\n",
       " 'dracula.txt',\n",
       " 'huck.txt',\n",
       " 'principe.txt',\n",
       " 'omnilingual.txt',\n",
       " 'ulysses.txt']"
      ]
     },
     "execution_count": 2,
     "metadata": {},
     "output_type": "execute_result"
    }
   ],
   "source": [
    "from glob import glob\n",
    "files = [f for f in glob('*.txt') if f != 'requirements.txt']\n",
    "files"
   ]
  },
  {
   "cell_type": "code",
   "execution_count": 3,
   "metadata": {
    "scrolled": true
   },
   "outputs": [
    {
     "name": "stdout",
     "output_type": "stream",
     "text": [
      "['\\n', ' ', '!', '\"', '#', '$', '%', '&', \"'\", '(', ')', '*', '+', ',', '-', '.', '/', '0', '1', '2', '3', '4', '5', '6', '7', '8', '9', ':', ';', '?', '@', 'A', 'B', 'C', 'D', 'E', 'F', 'G', 'H', 'I', 'J', 'K', 'L', 'M', 'N', 'O', 'P', 'Q', 'R', 'S', 'T', 'U', 'V', 'W', 'X', 'Y', 'Z', '[', ']', 'a', 'b', 'c', 'd', 'e', 'f', 'g', 'h', 'i', 'j', 'k', 'l', 'm', 'n', 'o', 'p', 'q', 'r', 's', 't', 'u', 'v', 'w', 'x', 'y', 'z', '{', '}', '£', '°', 'À', 'Æ', 'Ç', 'È', 'É', 'Ü', 'à', 'á', 'â', 'ä', 'æ', 'ç', 'è', 'é', 'ê', 'ë', 'î', 'ï', 'ñ', 'ò', 'ó', 'ô', 'ö', 'ù', 'ú', 'û', 'ü', 'œ']\n"
     ]
    }
   ],
   "source": [
    "para_exp = re.compile('\\n{2,}')\n",
    "line_exp = re.compile('\\s+')\n",
    "\n",
    "fixes = {'‘': \"'\", '’': \"'\", '“': '\"', '”': '\"', '`': \"'\", '_': ' ', '•': '-', '…': '...', '†': '*',\n",
    "         '—': '-'}\n",
    "def fixit(c):\n",
    "    if c in fixes:\n",
    "        return fixes[c]\n",
    "    return c\n",
    "\n",
    "def fix_line(l):\n",
    "    return ' '.join(line_exp.split(l))\n",
    "\n",
    "def readit(f):\n",
    "    with open(f, 'r') as f:\n",
    "        mytext = f.read()\n",
    "        mytext = '\\n\\n'.join(map(fix_line, para_exp.split(mytext)))\n",
    "        \n",
    "        return ''.join(map(fixit, mytext))\n",
    "\n",
    "text = '\\n\\n'.join(map(readit, files))\n",
    "#text = ''.join(map(fixit, text))\n",
    "vocab = sorted(list(set(text)))\n",
    "vocab_to_int = {c: i for i, c in enumerate(vocab)}\n",
    "int_to_vocab = dict(enumerate(vocab))\n",
    "encoded = np.array([vocab_to_int[c] for c in text], dtype=np.int32)\n",
    "print(vocab)"
   ]
  },
  {
   "cell_type": "code",
   "execution_count": 4,
   "metadata": {
    "collapsed": true
   },
   "outputs": [],
   "source": [
    "my_vocab = ['\\n', ' ', '!', '\"', '#', '$', '%', '&', \"'\", '(', ')', '*', '+', ',', '-', '.', '/', '0', '1', '2', '3', '4', '5', '6', '7', '8', '9', ':', ';', '<', '=', '>', '?', '@', 'A', 'B', 'C', 'D', 'E', 'F', 'G', 'H', 'I', 'J', 'K', 'L', 'M', 'N', 'O', 'P', 'Q', 'R', 'S', 'T', 'U', 'V', 'W', 'X', 'Y', 'Z', '[', '\\\\', ']', '^', '_', '`', 'a', 'b', 'c', 'd', 'e', 'f', 'g', 'h', 'i', 'j', 'k', 'l', 'm', 'n', 'o', 'p', 'q', 'r', 's', 't', 'u', 'v', 'w', 'x', 'y', 'z', '{', '|', '}', '~', '£', '©', '°', 'À', 'Æ', 'Ç', 'È', 'É', 'Ü', 'à', 'á', 'â', 'ä', 'æ', 'ç', 'è', 'é', 'ê', 'ë', 'î', 'ï', 'ñ', 'ò', 'ó', 'ô', 'ö', 'ù', 'ú', 'û', 'ü', 'œ', '—', '†', '•', '…']"
   ]
  },
  {
   "cell_type": "markdown",
   "metadata": {},
   "source": [
    "Let's check out the first 100 characters, make sure everything is peachy. According to the [American Book Review](http://americanbookreview.org/100bestlines.asp), this is the 6th best first line of a book ever."
   ]
  },
  {
   "cell_type": "code",
   "execution_count": 5,
   "metadata": {
    "scrolled": false
   },
   "outputs": [
    {
     "name": "stdout",
     "output_type": "stream",
     "text": [
      "Chapter 1\n",
      "\n",
      "Happy families are all alike; every unhappy family is unhappy in its own way.\n",
      "\n",
      "Everything was in confusion in the Oblonskys' house. The wife had discovered that the husband was carrying on an intrigue with a French girl, who had been a gov\n"
     ]
    }
   ],
   "source": [
    "print(str(text[:250]))"
   ]
  },
  {
   "cell_type": "code",
   "execution_count": 6,
   "metadata": {},
   "outputs": [
    {
     "data": {
      "text/plain": [
       "\"Chapter 1\\n\\nHappy families are all alike; every unhappy family is unhappy in its own way.\\n\\nEverything was in confusion in the Oblonskys' house. The wife had discovered that the husband was carrying on a\""
      ]
     },
     "execution_count": 6,
     "metadata": {},
     "output_type": "execute_result"
    }
   ],
   "source": [
    "test = str(text[:201])\n",
    "test"
   ]
  },
  {
   "cell_type": "markdown",
   "metadata": {},
   "source": [
    "And we can see the characters encoded as integers."
   ]
  },
  {
   "cell_type": "code",
   "execution_count": 7,
   "metadata": {},
   "outputs": [
    {
     "data": {
      "text/plain": [
       "array([33, 66, 59, 74, 78, 63, 76,  1, 18,  0,  0, 38, 59, 74, 74, 83,  1,\n",
       "       64, 59, 71, 67, 70, 67, 63, 77,  1, 59, 76, 63,  1, 59, 70, 70,  1,\n",
       "       59, 70, 67, 69, 63, 28,  1, 63, 80, 63, 76, 83,  1, 79, 72, 66, 59,\n",
       "       74, 74, 83,  1, 64, 59, 71, 67, 70, 83,  1, 67, 77,  1, 79, 72, 66,\n",
       "       59, 74, 74, 83,  1, 67, 72,  1, 67, 78, 77,  1, 73, 81, 72,  1, 81,\n",
       "       59, 83, 15,  0,  0, 35, 80, 63, 76, 83, 78, 66, 67, 72, 65], dtype=int32)"
      ]
     },
     "execution_count": 7,
     "metadata": {},
     "output_type": "execute_result"
    }
   ],
   "source": [
    "encoded[:100]"
   ]
  },
  {
   "cell_type": "markdown",
   "metadata": {},
   "source": [
    "Since the network is working with individual characters, it's similar to a classification problem in which we are trying to predict the next character from the previous text.  Here's how many 'classes' our network has to pick from."
   ]
  },
  {
   "cell_type": "code",
   "execution_count": 8,
   "metadata": {},
   "outputs": [
    {
     "data": {
      "text/plain": [
       "117"
      ]
     },
     "execution_count": 8,
     "metadata": {},
     "output_type": "execute_result"
    }
   ],
   "source": [
    "len(vocab)"
   ]
  },
  {
   "cell_type": "markdown",
   "metadata": {},
   "source": [
    "## Making training mini-batches\n",
    "\n",
    "Here is where we'll make our mini-batches for training. Remember that we want our batches to be multiple sequences of some desired number of sequence steps. Considering a simple example, our batches would look like this:\n",
    "\n",
    "<img src=\"assets/sequence_batching@1x.png\" width=500px>\n",
    "\n",
    "\n",
    "<br>\n",
    "We have our text encoded as integers as one long array in `encoded`. Let's create a function that will give us an iterator for our batches. I like using [generator functions](https://jeffknupp.com/blog/2013/04/07/improve-your-python-yield-and-generators-explained/) to do this. Then we can pass `encoded` into this function and get our batch generator.\n",
    "\n",
    "The first thing we need to do is discard some of the text so we only have completely full batches. Each batch contains $N \\times M$ characters, where $N$ is the batch size (the number of sequences) and $M$ is the number of steps. Then, to get the number of batches we can make from some array `arr`, you divide the length of `arr` by the batch size. Once you know the number of batches and the batch size, you can get the total number of characters to keep.\n",
    "\n",
    "After that, we need to split `arr` into $N$ sequences. You can do this using `arr.reshape(size)` where `size` is a tuple containing the dimensions sizes of the reshaped array. We know we want $N$ sequences (`n_seqs` below), let's make that the size of the first dimension. For the second dimension, you can use `-1` as a placeholder in the size, it'll fill up the array with the appropriate data for you. After this, you should have an array that is $N \\times (M * K)$ where $K$ is the number of batches.\n",
    "\n",
    "Now that we have this array, we can iterate through it to get our batches. The idea is each batch is a $N \\times M$ window on the array. For each subsequent batch, the window moves over by `n_steps`. We also want to create both the input and target arrays. Remember that the targets are the inputs shifted over one character. You'll usually see the first input character used as the last target character, so something like this:\n",
    "```python\n",
    "y[:, :-1], y[:, -1] = x[:, 1:], x[:, 0]\n",
    "```\n",
    "where `x` is the input batch and `y` is the target batch.\n",
    "\n",
    "The way I like to do this window is use `range` to take steps of size `n_steps` from $0$ to `arr.shape[1]`, the total number of steps in each sequence. That way, the integers you get from `range` always point to the start of a batch, and each window is `n_steps` wide.\n",
    "\n",
    "> **Exercise:** Write the code for creating batches in the function below. The exercises in this notebook _will not be easy_. I've provided a notebook with solutions alongside this notebook. If you get stuck, checkout the solutions. The most important thing is that you don't copy and paste the code into here, **type out the solution code yourself.**"
   ]
  },
  {
   "cell_type": "code",
   "execution_count": 9,
   "metadata": {
    "collapsed": true
   },
   "outputs": [],
   "source": [
    "def get_batches(arr, n_seqs, n_steps):\n",
    "    '''Create a generator that returns batches of size\n",
    "       n_seqs x n_steps from arr.\n",
    "       \n",
    "       Arguments\n",
    "       ---------\n",
    "       arr: Array you want to make batches from\n",
    "       n_seqs: Batch size, the number of sequences per batch\n",
    "       n_steps: Number of sequence steps per batch\n",
    "    '''\n",
    "    # Get the batch size and number of batches we can make\n",
    "    batch_size = n_seqs * n_steps\n",
    "    n_batches = len(arr) // batch_size\n",
    "    \n",
    "    old_len = len(arr)\n",
    "    # Keep only enough characters to make full batches\n",
    "    new_len = batch_size*n_batches\n",
    "#     print(old_len,new_len)\n",
    "    arr = arr[:new_len]\n",
    "    \n",
    "    # Reshape into n_seqs rows\n",
    "    arr = arr.reshape((n_seqs, -1))\n",
    "    \n",
    "    for n in range(0, arr.shape[1], n_steps):\n",
    "        # The features\n",
    "        x = arr[:,n:n+n_steps]\n",
    "        # The targets, shifted by one\n",
    "        y = np.zeros_like(x)\n",
    "        #print(x.shape,y.shape)\n",
    "        y[:,:-1], y[:,-1] = x[:,1:], x[:,0]\n",
    "        yield x, y"
   ]
  },
  {
   "cell_type": "markdown",
   "metadata": {},
   "source": [
    "Now I'll make my data sets and we can check out what's going on here. Here I'm going to use a batch size of 10 and 50 sequence steps."
   ]
  },
  {
   "cell_type": "code",
   "execution_count": 10,
   "metadata": {
    "collapsed": true
   },
   "outputs": [],
   "source": [
    "batches = get_batches(encoded, 10, 50)\n",
    "x, y = next(batches)"
   ]
  },
  {
   "cell_type": "code",
   "execution_count": 11,
   "metadata": {},
   "outputs": [
    {
     "data": {
      "text/plain": [
       "39700.0"
      ]
     },
     "execution_count": 11,
     "metadata": {},
     "output_type": "execute_result"
    }
   ],
   "source": [
    "1985000/50"
   ]
  },
  {
   "cell_type": "code",
   "execution_count": 12,
   "metadata": {
    "collapsed": true
   },
   "outputs": [],
   "source": [
    "batches = get_batches(encoded, 10, 50)\n",
    "x, y = next(batches)\n",
    "for x1,y1 in batches:\n",
    "#     print(x.shape,x1.shape)\n",
    "    assert(x.shape == x1.shape)\n",
    "    assert(y.shape == y1.shape)"
   ]
  },
  {
   "cell_type": "code",
   "execution_count": 13,
   "metadata": {
    "scrolled": true
   },
   "outputs": [
    {
     "name": "stdout",
     "output_type": "stream",
     "text": [
      "x\n",
      " [[33 66 59 74 78 63 76  1 18  0]\n",
      " [ 1 32 79 78  1 81 66 59 78  1]\n",
      " [61 59 78 63  1 81 67 78 66  1]\n",
      " [62  1 81 67 78 66  1 63 82 78]\n",
      " [67 78 83  1 14  1 74 76 73 60]\n",
      " [59 77  1 67 78  1 81 59 77  1]\n",
      " [72 65 13  1 63 59 61 66  1 67]\n",
      " [72  8 78  1 75 79 67 78 63  1]\n",
      " [70 83  1 77 81 79 76 70 77 15]\n",
      " [63 72 63 77 78  1 67 72  1 78]]\n",
      "\n",
      "y\n",
      " [[66 59 74 78 63 76  1 18  0  0]\n",
      " [32 79 78  1 81 66 59 78  1 62]\n",
      " [59 78 63  1 81 67 78 66  1 31]\n",
      " [ 1 81 67 78 66  1 63 82 78 76]\n",
      " [78 83  1 14  1 74 76 73 60 59]\n",
      " [77  1 67 78  1 81 59 77  1 63]\n",
      " [65 13  1 63 59 61 66  1 67 72]\n",
      " [ 8 78  1 75 79 67 78 63  1 71]\n",
      " [83  1 77 81 79 76 70 77 15  1]\n",
      " [72 63 77 78  1 67 72  1 78 66]]\n"
     ]
    }
   ],
   "source": [
    "print('x\\n', x[:10, :10])\n",
    "print('\\ny\\n', y[:10, :10])"
   ]
  },
  {
   "cell_type": "markdown",
   "metadata": {},
   "source": [
    "If you implemented `get_batches` correctly, the above output should look something like \n",
    "```\n",
    "x\n",
    " [[55 63 69 22  6 76 45  5 16 35]\n",
    " [ 5 69  1  5 12 52  6  5 56 52]\n",
    " [48 29 12 61 35 35  8 64 76 78]\n",
    " [12  5 24 39 45 29 12 56  5 63]\n",
    " [ 5 29  6  5 29 78 28  5 78 29]\n",
    " [ 5 13  6  5 36 69 78 35 52 12]\n",
    " [63 76 12  5 18 52  1 76  5 58]\n",
    " [34  5 73 39  6  5 12 52 36  5]\n",
    " [ 6  5 29 78 12 79  6 61  5 59]\n",
    " [ 5 78 69 29 24  5  6 52  5 63]]\n",
    "\n",
    "y\n",
    " [[63 69 22  6 76 45  5 16 35 35]\n",
    " [69  1  5 12 52  6  5 56 52 29]\n",
    " [29 12 61 35 35  8 64 76 78 28]\n",
    " [ 5 24 39 45 29 12 56  5 63 29]\n",
    " [29  6  5 29 78 28  5 78 29 45]\n",
    " [13  6  5 36 69 78 35 52 12 43]\n",
    " [76 12  5 18 52  1 76  5 58 52]\n",
    " [ 5 73 39  6  5 12 52 36  5 78]\n",
    " [ 5 29 78 12 79  6 61  5 59 63]\n",
    " [78 69 29 24  5  6 52  5 63 76]]\n",
    " ```\n",
    " although the exact numbers will be different. Check to make sure the data is shifted over one step for `y`."
   ]
  },
  {
   "cell_type": "markdown",
   "metadata": {},
   "source": [
    "## Building the model\n",
    "\n",
    "Below is where you'll build the network. We'll break it up into parts so it's easier to reason about each bit. Then we can connect them up into the whole network.\n",
    "\n",
    "<img src=\"assets/charRNN.png\" width=500px>\n",
    "\n",
    "\n",
    "### Inputs\n",
    "\n",
    "First off we'll create our input placeholders. As usual we need placeholders for the training data and the targets. We'll also create a placeholder for dropout layers called `keep_prob`. This will be a scalar, that is a 0-D tensor. To make a scalar, you create a placeholder without giving it a size.\n",
    "\n",
    "> **Exercise:** Create the input placeholders in the function below."
   ]
  },
  {
   "cell_type": "code",
   "execution_count": 14,
   "metadata": {
    "collapsed": true
   },
   "outputs": [],
   "source": [
    "def build_inputs(batch_size, num_steps):\n",
    "    ''' Define placeholders for inputs, targets, and dropout \n",
    "    \n",
    "        Arguments\n",
    "        ---------\n",
    "        batch_size: Batch size, number of sequences per batch\n",
    "        num_steps: Number of sequence steps in a batch\n",
    "        \n",
    "    '''\n",
    "    # Declare placeholders we'll feed into the graph\n",
    "    inputs = tf.placeholder(tf.int32, shape=(batch_size,num_steps), name='x')\n",
    "    targets = tf.placeholder(tf.int32, shape=(batch_size,num_steps), name='y')\n",
    "    \n",
    "    # Keep probability placeholder for drop out layers\n",
    "    keep_prob = tf.placeholder('float32', name='keep_prob')\n",
    "    \n",
    "    return inputs, targets, keep_prob"
   ]
  },
  {
   "cell_type": "markdown",
   "metadata": {},
   "source": [
    "### LSTM Cell\n",
    "\n",
    "Here we will create the LSTM cell we'll use in the hidden layer. We'll use this cell as a building block for the RNN. So we aren't actually defining the RNN here, just the type of cell we'll use in the hidden layer.\n",
    "\n",
    "We first create a basic LSTM cell with\n",
    "\n",
    "```python\n",
    "lstm = tf.contrib.rnn.BasicLSTMCell(num_units)\n",
    "```\n",
    "\n",
    "where `num_units` is the number of units in the hidden layers in the cell. Then we can add dropout by wrapping it with \n",
    "\n",
    "```python\n",
    "tf.contrib.rnn.DropoutWrapper(lstm, output_keep_prob=keep_prob)\n",
    "```\n",
    "You pass in a cell and it will automatically add dropout to the inputs or outputs. Finally, we can stack up the LSTM cells into layers with [`tf.contrib.rnn.MultiRNNCell`](https://www.tensorflow.org/versions/r1.0/api_docs/python/tf/contrib/rnn/MultiRNNCell). With this, you pass in a list of cells and it will send the output of one cell into the next cell. Previously with TensorFlow 1.0, you could do this\n",
    "\n",
    "```python\n",
    "tf.contrib.rnn.MultiRNNCell([cell]*num_layers)\n",
    "```\n",
    "\n",
    "This might look a little weird if you know Python well because this will create a list of the same `cell` object. However, TensorFlow 1.0 will create different weight matrices for all `cell` objects. But, starting with TensorFlow 1.1 you actually need to create new cell objects in the list. To get it to work in TensorFlow 1.1, it should look like\n",
    "\n",
    "```python\n",
    "def build_cell(num_units, keep_prob):\n",
    "    lstm = tf.contrib.rnn.BasicLSTMCell(num_units)\n",
    "    drop = tf.contrib.rnn.DropoutWrapper(lstm, output_keep_prob=keep_prob)\n",
    "    \n",
    "    return drop\n",
    "    \n",
    "tf.contrib.rnn.MultiRNNCell([build_cell(num_units, keep_prob) for _ in range(num_layers)])\n",
    "```\n",
    "\n",
    "Even though this is actually multiple LSTM cells stacked on each other, you can treat the multiple layers as one cell.\n",
    "\n",
    "We also need to create an initial cell state of all zeros. This can be done like so\n",
    "\n",
    "```python\n",
    "initial_state = cell.zero_state(batch_size, tf.float32)\n",
    "```\n",
    "\n",
    "Below, we implement the `build_lstm` function to create these LSTM cells and the initial state."
   ]
  },
  {
   "cell_type": "code",
   "execution_count": 15,
   "metadata": {
    "collapsed": true
   },
   "outputs": [],
   "source": [
    "def build_lstm(lstm_size, num_layers, batch_size, keep_prob):\n",
    "    ''' Build LSTM cell.\n",
    "    \n",
    "        Arguments\n",
    "        ---------\n",
    "        keep_prob: Scalar tensor (tf.placeholder) for the dropout keep probability\n",
    "        lstm_size: Size of the hidden layers in the LSTM cells\n",
    "        num_layers: Number of LSTM layers\n",
    "        batch_size: Batch size\n",
    "\n",
    "    '''\n",
    "    ### Build the LSTM Cell\n",
    "    # Use a basic LSTM cell\n",
    "    lstm = tf.contrib.rnn.BasicLSTMCell(lstm_size)\n",
    "    \n",
    "    # Add dropout to the cell outputs\n",
    "    drop = tf.contrib.rnn.DropoutWrapper(lstm, output_keep_prob=keep_prob)\n",
    "    \n",
    "    # Stack up multiple LSTM layers, for deep learning\n",
    "    cell = tf.contrib.rnn.MultiRNNCell([drop]*num_layers)\n",
    "    initial_state = cell.zero_state(batch_size, tf.float32)\n",
    "    \n",
    "    return cell, initial_state"
   ]
  },
  {
   "cell_type": "markdown",
   "metadata": {},
   "source": [
    "### RNN Output\n",
    "\n",
    "Here we'll create the output layer. We need to connect the output of the RNN cells to a full connected layer with a softmax output. The softmax output gives us a probability distribution we can use to predict the next character, so we want this layer to have size $C$, the number of classes/characters we have in our text.\n",
    "\n",
    "If our input has batch size $N$, number of steps $M$, and the hidden layer has $L$ hidden units, then the output is a 3D tensor with size $N \\times M \\times L$. The output of each LSTM cell has size $L$, we have $M$ of them, one for each sequence step, and we have $N$ sequences. So the total size is $N \\times M \\times L$. \n",
    "\n",
    "We are using the same fully connected layer, the same weights, for each of the outputs. Then, to make things easier, we should reshape the outputs into a 2D tensor with shape $(M * N) \\times L$. That is, one row for each sequence and step, where the values of each row are the output from the LSTM cells. We get the LSTM output as a list, `lstm_output`. First we need to concatenate this whole list into one array with [`tf.concat`](https://www.tensorflow.org/api_docs/python/tf/concat). Then, reshape it (with `tf.reshape`) to size $(M * N) \\times L$.\n",
    "\n",
    "One we have the outputs reshaped, we can do the matrix multiplication with the weights. We need to wrap the weight and bias variables in a variable scope with `tf.variable_scope(scope_name)` because there are weights being created in the LSTM cells. TensorFlow will throw an error if the weights created here have the same names as the weights created in the LSTM cells, which they will be default. To avoid this, we wrap the variables in a variable scope so we can give them unique names.\n",
    "\n",
    "> **Exercise:** Implement the output layer in the function below."
   ]
  },
  {
   "cell_type": "code",
   "execution_count": 16,
   "metadata": {
    "collapsed": true
   },
   "outputs": [],
   "source": [
    "def build_output(lstm_output, in_size, out_size):\n",
    "    ''' Build a softmax layer, return the softmax output and logits.\n",
    "    \n",
    "        Arguments\n",
    "        ---------\n",
    "        \n",
    "        lstm_output: List of output tensors from the LSTM layer\n",
    "        in_size: Size of the input tensor, for example, size of the LSTM cells\n",
    "        out_size: Size of this softmax layer\n",
    "    \n",
    "    '''\n",
    "\n",
    "    # Reshape output so it's a bunch of rows, one row for each step for each sequence.\n",
    "    # Concatenate lstm_output over axis 1 (the columns)\n",
    "    seq_output = tf.concat(lstm_output, 1)\n",
    "    # Reshape seq_output to a 2D tensor with lstm_size columns\n",
    "    x = tf.reshape(seq_output, (-1, in_size))\n",
    "    \n",
    "    # Connect the RNN outputs to a softmax layer\n",
    "    with tf.variable_scope('softmax'):\n",
    "        # Create the weight and bias variables here\n",
    "        softmax_w = tf.Variable(tf.truncated_normal((in_size, out_size), stddev=0.01))\n",
    "        softmax_b = tf.Variable(tf.zeros(out_size))\n",
    "    \n",
    "    # Since output is a bunch of rows of RNN cell outputs, logits will be a bunch\n",
    "    # of rows of logit outputs, one for each step and sequence\n",
    "    logits = tf.matmul(x, softmax_w) + softmax_b\n",
    "    \n",
    "    # Use softmax to get the probabilities for predicted characters\n",
    "    out = tf.nn.softmax(logits)\n",
    "    \n",
    "    return out, logits"
   ]
  },
  {
   "cell_type": "markdown",
   "metadata": {},
   "source": [
    "### Training loss\n",
    "\n",
    "Next up is the training loss. We get the logits and targets and calculate the softmax cross-entropy loss. First we need to one-hot encode the targets, we're getting them as encoded characters. Then, reshape the one-hot targets so it's a 2D tensor with size $(M*N) \\times C$ where $C$ is the number of classes/characters we have. Remember that we reshaped the LSTM outputs and ran them through a fully connected layer with $C$ units. So our logits will also have size $(M*N) \\times C$.\n",
    "\n",
    "Then we run the logits and targets through `tf.nn.softmax_cross_entropy_with_logits` and find the mean to get the loss.\n",
    "\n",
    ">**Exercise:** Implement the loss calculation in the function below."
   ]
  },
  {
   "cell_type": "code",
   "execution_count": 17,
   "metadata": {
    "collapsed": true
   },
   "outputs": [],
   "source": [
    "def build_loss(logits, targets, lstm_size, num_classes):\n",
    "    ''' Calculate the loss from the logits and the targets.\n",
    "    \n",
    "        Arguments\n",
    "        ---------\n",
    "        logits: Logits from final fully connected layer\n",
    "        targets: Targets for supervised learning\n",
    "        lstm_size: Number of LSTM hidden units\n",
    "        num_classes: Number of classes in targets\n",
    "        \n",
    "    '''\n",
    "    \n",
    "    # One-hot encode targets and reshape to match logits, one row per sequence per step\n",
    "    y_one_hot = tf.one_hot(targets, num_classes)\n",
    "    y_reshaped =  tf.reshape(y_one_hot, logits.shape)\n",
    "    \n",
    "    # Softmax cross entropy loss\n",
    "    loss = tf.reduce_mean(\n",
    "        tf.nn.softmax_cross_entropy_with_logits(logits=logits, labels=y_reshaped))\n",
    "    \n",
    "    return loss"
   ]
  },
  {
   "cell_type": "markdown",
   "metadata": {},
   "source": [
    "### Optimizer\n",
    "\n",
    "Here we build the optimizer. Normal RNNs have have issues gradients exploding and disappearing. LSTMs fix the disappearance problem, but the gradients can still grow without bound. To fix this, we can clip the gradients above some threshold. That is, if a gradient is larger than that threshold, we set it to the threshold. This will ensure the gradients never grow overly large. Then we use an AdamOptimizer for the learning step."
   ]
  },
  {
   "cell_type": "code",
   "execution_count": 18,
   "metadata": {
    "collapsed": true
   },
   "outputs": [],
   "source": [
    "def build_optimizer(loss, learning_rate, grad_clip):\n",
    "    ''' Build optmizer for training, using gradient clipping.\n",
    "    \n",
    "        Arguments:\n",
    "        loss: Network loss\n",
    "        learning_rate: Learning rate for optimizer\n",
    "    \n",
    "    '''\n",
    "    \n",
    "    # Optimizer for training, using gradient clipping to control exploding gradients\n",
    "    tvars = tf.trainable_variables()\n",
    "    grads, _ = tf.clip_by_global_norm(tf.gradients(loss, tvars), grad_clip)\n",
    "    train_op = tf.train.AdamOptimizer(learning_rate)\n",
    "    optimizer = train_op.apply_gradients(zip(grads, tvars))\n",
    "    \n",
    "    return optimizer"
   ]
  },
  {
   "cell_type": "markdown",
   "metadata": {},
   "source": [
    "### Build the network\n",
    "\n",
    "Now we can put all the pieces together and build a class for the network. To actually run data through the LSTM cells, we will use [`tf.nn.dynamic_rnn`](https://www.tensorflow.org/versions/r1.0/api_docs/python/tf/nn/dynamic_rnn). This function will pass the hidden and cell states across LSTM cells appropriately for us. It returns the outputs for each LSTM cell at each step for each sequence in the mini-batch. It also gives us the final LSTM state. We want to save this state as `final_state` so we can pass it to the first LSTM cell in the the next mini-batch run. For `tf.nn.dynamic_rnn`, we pass in the cell and initial state we get from `build_lstm`, as well as our input sequences. Also, we need to one-hot encode the inputs before going into the RNN. \n",
    "\n",
    "> **Exercise:** Use the functions you've implemented previously and `tf.nn.dynamic_rnn` to build the network."
   ]
  },
  {
   "cell_type": "code",
   "execution_count": 19,
   "metadata": {
    "collapsed": true
   },
   "outputs": [],
   "source": [
    "class CharRNN:\n",
    "    \n",
    "    def __init__(self, num_classes, batch_size=64, num_steps=50, \n",
    "                       lstm_size=128, num_layers=2, learning_rate=0.001, \n",
    "                       grad_clip=5, sampling=False):\n",
    "    \n",
    "        # When we're using this network for sampling later, we'll be passing in\n",
    "        # one character at a time, so providing an option for that\n",
    "        if sampling == True:\n",
    "            batch_size, num_steps = 1, 1\n",
    "        else:\n",
    "            batch_size, num_steps = batch_size, num_steps\n",
    "\n",
    "        tf.reset_default_graph()\n",
    "        \n",
    "        # Build the input placeholder tensors\n",
    "        self.inputs, self.targets, self.keep_prob = build_inputs(batch_size, num_steps)\n",
    "\n",
    "        # Build the LSTM cell\n",
    "        cell, self.initial_state = build_lstm(lstm_size, num_layers, batch_size, keep_prob)\n",
    "\n",
    "        ### Run the data through the RNN layers\n",
    "        # First, one-hot encode the input tokens\n",
    "        x_one_hot = tf.one_hot(self.inputs, num_classes)\n",
    "        \n",
    "        # Run each sequence step through the RNN with tf.nn.dynamic_rnn \n",
    "        outputs, state = tf.nn.dynamic_rnn(cell, x_one_hot, initial_state=self.initial_state)\n",
    "        self.final_state = state\n",
    "        \n",
    "        # Get softmax predictions and logits\n",
    "        self.prediction, self.logits = build_output(outputs, lstm_size, num_classes)\n",
    "        \n",
    "        # Loss and optimizer (with gradient clipping)\n",
    "        self.loss =  build_loss(self.logits, self.targets, lstm_size, num_classes)\n",
    "        self.optimizer = build_optimizer(self.loss, learning_rate, grad_clip)"
   ]
  },
  {
   "cell_type": "markdown",
   "metadata": {},
   "source": [
    "## Hyperparameters\n",
    "\n",
    "Here are the hyperparameters for the network.\n",
    "\n",
    "* `batch_size` - Number of sequences running through the network in one pass.\n",
    "* `num_steps` - Number of characters in the sequence the network is trained on. Larger is better typically, the network will learn more long range dependencies. But it takes longer to train. 100 is typically a good number here.\n",
    "* `lstm_size` - The number of units in the hidden layers.\n",
    "* `num_layers` - Number of hidden LSTM layers to use\n",
    "* `learning_rate` - Learning rate for training\n",
    "* `keep_prob` - The dropout keep probability when training. If you're network is overfitting, try decreasing this.\n",
    "\n",
    "Here's some good advice from Andrej Karpathy on training the network. I'm going to copy it in here for your benefit, but also link to [where it originally came from](https://github.com/karpathy/char-rnn#tips-and-tricks).\n",
    "\n",
    "> ## Tips and Tricks\n",
    "\n",
    ">### Monitoring Validation Loss vs. Training Loss\n",
    ">If you're somewhat new to Machine Learning or Neural Networks it can take a bit of expertise to get good models. The most important quantity to keep track of is the difference between your training loss (printed during training) and the validation loss (printed once in a while when the RNN is run on the validation data (by default every 1000 iterations)). In particular:\n",
    "\n",
    "> - If your training loss is much lower than validation loss then this means the network might be **overfitting**. Solutions to this are to decrease your network size, or to increase dropout. For example you could try dropout of 0.5 and so on.\n",
    "> - If your training/validation loss are about equal then your model is **underfitting**. Increase the size of your model (either number of layers or the raw number of neurons per layer)\n",
    "\n",
    "> ### Approximate number of parameters\n",
    "\n",
    "> The two most important parameters that control the model are `lstm_size` and `num_layers`. I would advise that you always use `num_layers` of either 2/3. The `lstm_size` can be adjusted based on how much data you have. The two important quantities to keep track of here are:\n",
    "\n",
    "> - The number of parameters in your model. This is printed when you start training.\n",
    "> - The size of your dataset. 1MB file is approximately 1 million characters.\n",
    "\n",
    ">These two should be about the same order of magnitude. It's a little tricky to tell. Here are some examples:\n",
    "\n",
    "> - I have a 100MB dataset and I'm using the default parameter settings (which currently print 150K parameters). My data size is significantly larger (100 mil >> 0.15 mil), so I expect to heavily underfit. I am thinking I can comfortably afford to make `lstm_size` larger.\n",
    "> - I have a 10MB dataset and running a 10 million parameter model. I'm slightly nervous and I'm carefully monitoring my validation loss. If it's larger than my training loss then I may want to try to increase dropout a bit and see if that helps the validation loss.\n",
    "\n",
    "> ### Best models strategy\n",
    "\n",
    ">The winning strategy to obtaining very good models (if you have the compute time) is to always err on making the network larger (as large as you're willing to wait for it to compute) and then try different dropout values (between 0,1). Whatever model has the best validation performance (the loss, written in the checkpoint filename, low is good) is the one you should use in the end.\n",
    "\n",
    ">It is very common in deep learning to run many different models with many different hyperparameter settings, and in the end take whatever checkpoint gave the best validation performance.\n",
    "\n",
    ">By the way, the size of your training and validation splits are also parameters. Make sure you have a decent amount of data in your validation set or otherwise the validation performance will be noisy and not very informative."
   ]
  },
  {
   "cell_type": "code",
   "execution_count": 20,
   "metadata": {
    "collapsed": true
   },
   "outputs": [],
   "source": [
    "batch_size = 100         # Sequences per batch\n",
    "num_steps = 100          # Number of sequence steps per batch\n",
    "lstm_size = 512         # Size of hidden layers in LSTMs\n",
    "num_layers = 2          # Number of LSTM layers\n",
    "learning_rate = 0.001    # Learning rate\n",
    "keep_prob = 0.4         # Dropout keep probability"
   ]
  },
  {
   "cell_type": "markdown",
   "metadata": {},
   "source": [
    "## Time for training\n",
    "\n",
    "This is typical training code, passing inputs and targets into the network, then running the optimizer. Here we also get back the final LSTM state for the mini-batch. Then, we pass that state back into the network so the next batch can continue the state from the previous batch. And every so often (set by `save_every_n`) I save a checkpoint.\n",
    "\n",
    "Here I'm saving checkpoints with the format\n",
    "\n",
    "`i{iteration number}_l{# hidden layer units}.ckpt`\n",
    "\n",
    "> **Exercise:** Set the hyperparameters above to train the network. Watch the training loss, it should be consistently dropping. Also, I highly advise running this on a GPU."
   ]
  },
  {
   "cell_type": "code",
   "execution_count": 21,
   "metadata": {
    "collapsed": true
   },
   "outputs": [],
   "source": [
    "import matplotlib.pyplot as plt\n",
    "%matplotlib inline"
   ]
  },
  {
   "cell_type": "code",
   "execution_count": 22,
   "metadata": {
    "collapsed": true
   },
   "outputs": [],
   "source": [
    "import sys"
   ]
  },
  {
   "cell_type": "code",
   "execution_count": 23,
   "metadata": {
    "collapsed": true
   },
   "outputs": [],
   "source": [
    "all_batches = list(get_batches(encoded, batch_size, num_steps))\n",
    "np.random.shuffle(all_batches)\n",
    "pivot = (len(all_batches) * 19) // 20\n",
    "train, valid = all_batches[:pivot], all_batches[pivot:]"
   ]
  },
  {
   "cell_type": "code",
   "execution_count": 24,
   "metadata": {},
   "outputs": [
    {
     "name": "stdout",
     "output_type": "stream",
     "text": [
      "616 33\n"
     ]
    }
   ],
   "source": [
    "print(len(train), len(valid))"
   ]
  },
  {
   "cell_type": "code",
   "execution_count": null,
   "metadata": {
    "collapsed": true
   },
   "outputs": [],
   "source": [
    "def validate(sess, model):\n",
    "    new_state_ = sess.run(model.initial_state)\n",
    "    vl = 0.0\n",
    "    for x_,y_ in valid:\n",
    "        feed_ = {model.inputs: x_,\n",
    "                 model.targets: y_,\n",
    "                 model.keep_prob: 1.0,\n",
    "                 model.initial_state: new_state_}\n",
    "        valid_loss_, new_state_ = sess.run([model.loss, model.final_state],\n",
    "                                          feed_dict=feed_)\n",
    "        vl += valid_loss_\n",
    "#     samp = sample_live(sess, model, 80)\n",
    "#     print(samp)\n",
    "    return vl / len(valid)"
   ]
  },
  {
   "cell_type": "code",
   "execution_count": null,
   "metadata": {
    "scrolled": false
   },
   "outputs": [
    {
     "name": "stdout",
     "output_type": "stream",
     "text": [
      "Epoch: 1/40... Training Step: 15 (15/616)... Training loss: 3.1569... 0.1504 sec/batch\n",
      "\n",
      " Validation loss: 3.1658\n",
      "\n"
     ]
    },
    {
     "data": {
      "image/png": "[encoded data removed]",
      "text/plain": [
       "<matplotlib.figure.Figure at 0x7f19e6d25e48>"
      ]
     },
     "metadata": {},
     "output_type": "display_data"
    },
    {
     "name": "stdout",
     "output_type": "stream",
     "text": [
      "Epoch: 1/40... Training Step: 200 (200/616)... Training loss: 3.0911... 0.1507 sec/batch\n",
      "\n",
      " Validation loss: 3.1020\n",
      "\n"
     ]
    },
    {
     "data": {
      "image/png": "[encoded data removed]",
      "text/plain": [
       "<matplotlib.figure.Figure at 0x7f19dc6f92e8>"
      ]
     },
     "metadata": {},
     "output_type": "display_data"
    },
    {
     "name": "stdout",
     "output_type": "stream",
     "text": [
      "Epoch: 1/40... Training Step: 351 (351/616)... Training loss: 2.9036... 0.1534 sec/batch"
     ]
    }
   ],
   "source": [
    "epochs = 40\n",
    "# Save every N iterations\n",
    "save_every_n = 200\n",
    "\n",
    "train_losses = []\n",
    "valid_losses = []\n",
    "valid_loss_iters = []\n",
    "\n",
    "model = CharRNN(len(vocab), batch_size=batch_size, num_steps=num_steps,\n",
    "                lstm_size=lstm_size, num_layers=num_layers, \n",
    "                learning_rate=learning_rate)\n",
    "\n",
    "saver = tf.train.Saver(max_to_keep=100)\n",
    "with tf.Session() as sess:\n",
    "    sess.run(tf.global_variables_initializer())\n",
    "    \n",
    "    # Use the line below to load a checkpoint and resume training\n",
    "    #saver.restore(sess, 'checkpoints/______.ckpt')\n",
    "    counter = 0\n",
    "    \n",
    "    valid_losses.append(validate(sess, model))\n",
    "    valid_loss_iters.append(0)\n",
    "    \n",
    "    for e in range(epochs):\n",
    "        # Train network\n",
    "        new_state = sess.run(model.initial_state)\n",
    "        loss = 0\n",
    "        batch_counter = 0\n",
    "        batches = [x for x in train]#list(get_batches(encoded, batch_size, num_steps))\n",
    "        np.random.shuffle(batches)\n",
    "        for x, y in batches:\n",
    "            counter += 1\n",
    "            batch_counter += 1\n",
    "            start = time.time()\n",
    "            feed = {model.inputs:  x,\n",
    "                    model.targets: y,\n",
    "                    model.keep_prob: keep_prob,\n",
    "                    model.initial_state: new_state}\n",
    "            batch_loss, new_state, _ = sess.run([model.loss, \n",
    "                                                 model.final_state, \n",
    "                                                 model.optimizer], \n",
    "                                                 feed_dict=feed)\n",
    "            \n",
    "            end = time.time()\n",
    "            line = ''.join(['\\rEpoch: {}/{}... '.format(e+1, epochs),\n",
    "                  'Training Step: {} ({}/{})... '.format(counter,batch_counter,len(batches)),\n",
    "                  'Training loss: {:.4f}... '.format(batch_loss),\n",
    "                  '{:.4f} sec/batch'.format((end-start))])\n",
    "            sys.stdout.write(line)\n",
    "            sys.stdout.flush()\n",
    "            train_losses.append(batch_loss)\n",
    "        \n",
    "            if counter == 15 or (counter % save_every_n == 0):\n",
    "                saver.save(sess, \"checkpoints/i{}_l{}.ckpt\".format(counter, lstm_size))\n",
    "                valid_losses.append(validate(sess, model))\n",
    "                valid_loss_iters.append(counter)\n",
    "                print('\\n\\n Validation loss: {:.4f}\\n'.format(valid_losses[-1]))\n",
    "                plt.plot(range(counter), train_losses)\n",
    "                plt.plot(valid_loss_iters, valid_losses)\n",
    "                plt.ylim([0,5])\n",
    "                plt.show()\n",
    "    \n",
    "    saver.save(sess, \"checkpoints/i{}_l{}.ckpt\".format(counter, lstm_size))\n",
    "    \n",
    "    valid_losses.append(validate(sess, model))\n",
    "    valid_loss_iters.append(counter)\n",
    "    print('\\n\\n Validation loss: {:.4f}\\n'.format(valid_losses[-1]))\n",
    "    plt.plot(range(counter), train_losses)\n",
    "    plt.plot(valid_loss_iters, valid_losses)\n",
    "    plt.ylim([0,5])\n",
    "    plt.show()"
   ]
  },
  {
   "cell_type": "raw",
   "metadata": {},
   "source": [
    "total_epochs = 20\n",
    "counter = 3690"
   ]
  },
  {
   "cell_type": "raw",
   "metadata": {},
   "source": [
    "ck = 'checkpoints/i3960_l512.ckpt'"
   ]
  },
  {
   "cell_type": "code",
   "execution_count": 73,
   "metadata": {
    "scrolled": true
   },
   "outputs": [
    {
     "data": {
      "text/plain": [
       "'checkpoints/i9300_l512.ckpt'"
      ]
     },
     "execution_count": 73,
     "metadata": {},
     "output_type": "execute_result"
    }
   ],
   "source": []
  },
  {
   "cell_type": "code",
   "execution_count": null,
   "metadata": {
    "collapsed": true,
    "scrolled": false
   },
   "outputs": [],
   "source": [
    "ck = tf.train.latest_checkpoint('checkpoints')\n",
    "epochs = 20\n",
    "# Save every N iterations\n",
    "save_every_n = 200\n",
    "\n",
    "model = CharRNN(len(vocab), batch_size=batch_size, num_steps=num_steps,\n",
    "                lstm_size=lstm_size, num_layers=num_layers, \n",
    "                learning_rate=learning_rate)\n",
    "\n",
    "saver = tf.train.Saver(max_to_keep=100)\n",
    "with tf.Session() as sess:\n",
    "    sess.run(tf.global_variables_initializer())\n",
    "    \n",
    "    # Use the line below to load a checkpoint and resume training\n",
    "    saver.restore(sess, ck)\n",
    "    \n",
    "#     valid_losses.append(validate(sess, model))\n",
    "#     valid_loss_iters.append(counter)\n",
    "    print('\\n\\n Validation loss: {:.4f}\\n'.format(valid_losses[-1]))\n",
    "    plt.plot(range(counter), train_losses)\n",
    "    plt.plot(valid_loss_iters, valid_losses)\n",
    "    plt.ylim([0,5])\n",
    "    plt.show()\n",
    "    \n",
    "    for e in range(epochs):\n",
    "        # Train network\n",
    "        new_state = sess.run(model.initial_state)\n",
    "        batch_counter = 0\n",
    "        batches = [x for x in train]#list(get_batches(encoded, batch_size, num_steps))\n",
    "        np.random.shuffle(batches)\n",
    "        for x, y in batches:\n",
    "            counter += 1\n",
    "            batch_counter += 1\n",
    "            start = time.time()\n",
    "            feed = {model.inputs:  x,\n",
    "                    model.targets: y,\n",
    "                    model.keep_prob: keep_prob,\n",
    "                    model.initial_state: new_state}\n",
    "            batch_loss, new_state, _ = sess.run([model.loss, \n",
    "                                                 model.final_state, \n",
    "                                                 model.optimizer], \n",
    "                                                 feed_dict=feed)\n",
    "            \n",
    "            end = time.time()\n",
    "            line = ''.join(['\\rEpoch: {}/{}... '.format(e+1, epochs),\n",
    "                  'Training Step: {} ({}/{})... '.format(counter,batch_counter,len(batches)),\n",
    "                  'Training loss: {:.4f}... '.format(batch_loss),\n",
    "                  '{:.4f} sec/batch'.format((end-start))])\n",
    "            sys.stdout.write(line)\n",
    "            sys.stdout.flush()\n",
    "            train_losses.append(batch_loss)\n",
    "        \n",
    "            if (counter % save_every_n == 0):\n",
    "                saver.save(sess, \"checkpoints/i{}_l{}.ckpt\".format(counter, lstm_size))\n",
    "                valid_losses.append(validate(sess, model))\n",
    "                valid_loss_iters.append(counter)\n",
    "                print('\\n\\n Validation loss: {:.4f}\\n'.format(valid_losses[-1]))\n",
    "                plt.plot(range(counter), train_losses)\n",
    "                plt.plot(valid_loss_iters, valid_losses)\n",
    "                plt.ylim([0,5])\n",
    "                plt.show()\n",
    "                \n",
    "    saver.save(sess, \"checkpoints/i{}_l{}.ckpt\".format(counter, lstm_size))\n",
    "    \n",
    "    valid_losses.append(validate(sess, model))\n",
    "    valid_loss_iters.append(counter)\n",
    "    print('\\n\\n Validation loss: {:.4f}\\n'.format(valid_losses[-1]))\n",
    "    plt.plot(range(counter), train_losses)\n",
    "    plt.plot(valid_loss_iters, valid_losses)\n",
    "    plt.ylim([0,5])\n",
    "    plt.show()"
   ]
  },
  {
   "cell_type": "markdown",
   "metadata": {},
   "source": [
    "## Notes on this network/training strategy\n",
    "\n",
    " - We're jumping between parts of various books, yet we're continuing the training as if it were one book\n",
    "\n",
    "We should consider re-starting the LSTM state every time.  This might vary in effect depending on how long the memory is."
   ]
  },
  {
   "cell_type": "markdown",
   "metadata": {},
   "source": [
    "#### Saved checkpoints\n",
    "\n",
    "Read up on saving and loading checkpoints here: https://www.tensorflow.org/programmers_guide/variables"
   ]
  },
  {
   "cell_type": "code",
   "execution_count": null,
   "metadata": {
    "collapsed": true,
    "scrolled": true
   },
   "outputs": [],
   "source": [
    "tf.train.get_checkpoint_state('checkpoints')"
   ]
  },
  {
   "cell_type": "markdown",
   "metadata": {},
   "source": [
    "## Sampling\n",
    "\n",
    "Now that the network is trained, we'll can use it to generate new text. The idea is that we pass in a character, then the network will predict the next character. We can use the new one, to predict the next one. And we keep doing this to generate all new text. I also included some functionality to prime the network with some text by passing in a string and building up a state from that.\n",
    "\n",
    "The network gives us predictions for each character. To reduce noise and make things a little less random, I'm going to only choose a new character from the top N most likely characters.\n",
    "\n"
   ]
  },
  {
   "cell_type": "code",
   "execution_count": 36,
   "metadata": {
    "collapsed": true
   },
   "outputs": [],
   "source": [
    "def pick_top_n(preds, vocab_size, top_n=5):\n",
    "    p = np.squeeze(preds)\n",
    "    p[np.argsort(p)[:-top_n]] = 0\n",
    "    p = p / np.sum(p)\n",
    "    c = np.random.choice(vocab_size, 1, p=p)[0]\n",
    "    return c"
   ]
  },
  {
   "cell_type": "code",
   "execution_count": null,
   "metadata": {
    "collapsed": true
   },
   "outputs": [],
   "source": [
    "def sample_live(sess, model, n_samples, prime=\"The \"):\n",
    "    samples = [c for c in prime]\n",
    "#     model = CharRNN(len(vocab), lstm_size=lstm_size, sampling=True)\n",
    "#     saver = tf.train.Saver()\n",
    "    new_state = sess.run(model.initial_state)\n",
    "    for c in prime:\n",
    "        x = np.zeros((1, 1))\n",
    "        x[0,0] = vocab_to_int[c]\n",
    "        feed = {model.inputs: x,\n",
    "                model.keep_prob: 1.,\n",
    "                model.initial_state: new_state}\n",
    "        preds, new_state = sess.run([model.prediction, model.final_state], \n",
    "                                     feed_dict=feed)\n",
    "\n",
    "    c = pick_top_n(preds, len(vocab))\n",
    "    samples.append(int_to_vocab[c])\n",
    "\n",
    "    for i in range(n_samples):\n",
    "        x[0,0] = c\n",
    "        feed = {model.inputs: x,\n",
    "                model.keep_prob: 1.,\n",
    "                model.initial_state: new_state}\n",
    "        preds, new_state = sess.run([model.prediction, model.final_state], \n",
    "                                     feed_dict=feed)\n",
    "\n",
    "        c = pick_top_n(preds, len(vocab))\n",
    "        samples.append(int_to_vocab[c])\n",
    "        \n",
    "    return ''.join(samples)"
   ]
  },
  {
   "cell_type": "code",
   "execution_count": null,
   "metadata": {
    "collapsed": true
   },
   "outputs": [],
   "source": []
  },
  {
   "cell_type": "code",
   "execution_count": 30,
   "metadata": {
    "collapsed": true
   },
   "outputs": [],
   "source": [
    "def sample(checkpoint, n_samples, lstm_size, vocab_size, prime=\"The \"):\n",
    "    samples = [c for c in prime]\n",
    "    model = CharRNN(len(vocab), lstm_size=lstm_size, sampling=True)\n",
    "    saver = tf.train.Saver()\n",
    "    with tf.Session() as sess:\n",
    "        saver.restore(sess, checkpoint)\n",
    "        new_state = sess.run(model.initial_state)\n",
    "        for c in prime:\n",
    "            x = np.zeros((1, 1))\n",
    "            x[0,0] = vocab_to_int[c]\n",
    "            feed = {model.inputs: x,\n",
    "                    model.keep_prob: 1.,\n",
    "                    model.initial_state: new_state}\n",
    "            preds, new_state = sess.run([model.prediction, model.final_state], \n",
    "                                         feed_dict=feed)\n",
    "\n",
    "        c = pick_top_n(preds, len(vocab))\n",
    "        samples.append(int_to_vocab[c])\n",
    "\n",
    "        for i in range(n_samples):\n",
    "            x[0,0] = c\n",
    "            feed = {model.inputs: x,\n",
    "                    model.keep_prob: 1.,\n",
    "                    model.initial_state: new_state}\n",
    "            preds, new_state = sess.run([model.prediction, model.final_state], \n",
    "                                         feed_dict=feed)\n",
    "\n",
    "            c = pick_top_n(preds, len(vocab))\n",
    "            samples.append(int_to_vocab[c])\n",
    "        \n",
    "    return ''.join(samples)"
   ]
  },
  {
   "cell_type": "markdown",
   "metadata": {},
   "source": [
    "Here, pass in the path to a checkpoint and sample from the network."
   ]
  },
  {
   "cell_type": "code",
   "execution_count": 31,
   "metadata": {},
   "outputs": [
    {
     "data": {
      "text/plain": [
       "'checkpoints/i3090_l512.ckpt'"
      ]
     },
     "execution_count": 31,
     "metadata": {},
     "output_type": "execute_result"
    }
   ],
   "source": [
    "tf.train.latest_checkpoint('checkpoints')"
   ]
  },
  {
   "cell_type": "code",
   "execution_count": 50,
   "metadata": {
    "scrolled": false
   },
   "outputs": [
    {
     "name": "stdout",
     "output_type": "stream",
     "text": [
      "checkpoints/i3090_l512.ckpt\n",
      "Fartse soper out and tretting as have to dund way sard hall some there alwar in\n",
      "sirelt brasing things when, and the wind those\n",
      "as ib upon the pastior. But, have he'r denstencs and and dood, say of the thenged.), and are was one the motalf, bed eetices, said out of all af the\n",
      "maly aishionting at his ofly, and him that andotherion a rame to he said, in. Buck as here it wo the couldn't take ablaing will to a stall hers ild byout. He dour ploant. But they, was a stathims over nuvy. To\n",
      "be all any hild.  I will say therie fert to that if te woltther shid terpinute that was\n",
      "saider inthichary and creitad aftinop,, and the colssine with enditase toot him with hid with a boom.\n",
      "\n",
      "\"And and he was to allotne, and had astare sime ovathe.\n",
      "\n",
      "\"Well, and the right\n",
      "of met mend the has only heard. Batt inlapion to ane\n",
      "instadic a parce was nethould\n",
      "to. He was saokice and man what\n",
      "brongs hell wile not tullibad as itelfarden fererty and\n",
      "wild he stuch so sond off so had septran stay, why at olexe to before of this the\n",
      "rodiat house and mean.  We wonders that he had assid of is and herpersien.\" Why silf to stypard, seemingsess of me was of atatiolly the floved, whitod, are their that\n",
      "is ant to matchilger.\n",
      "\n",
      "Alco aland and winding with to the sains. Thryormer\n",
      "ard to the she that in hy went of humed into the befurased all allayiatherstery one of the sheering take without heve is of her\n",
      "tous the sard, a sale, he shend hool. Some the pinenting. Se thinks of his beny\n",
      "sitter is on would deared and ship wat a like a licksed but tho way ouct.  I wanden with so at her felter deads land why. Hundisslesion of anyor,. Sirness,\n",
      "and ase shapper, she har said over me\n",
      "thoots of him still. of the ricked ibone to the masce arate\n",
      "and to her\n",
      "hought\n",
      "to this arened to be he her wull book and chreas, ttele thiles to term or the als her whore of himsops, thought\n",
      "to marn wold.- Tho aderot and the clot to seiv opming.  She\n",
      "then,\" detabole, way, and abott ootherd one at the strunging out will and sightes's somethieg\n",
      "to his s\n"
     ]
    }
   ],
   "source": [
    "checkpoint = tf.train.latest_checkpoint('checkpoints')\n",
    "print(checkpoint)\n",
    "samp = sample(checkpoint, 2000, lstm_size, len(vocab), prime=\"Far\")\n",
    "print(samp)"
   ]
  },
  {
   "cell_type": "code",
   "execution_count": 37,
   "metadata": {},
   "outputs": [
    {
     "name": "stdout",
     "output_type": "stream",
     "text": [
      "checkpoints/i36960_l512.ckpt\n",
      "Farted barrel, with a creeps without wrong of the walk, and they can dece was. We were coustr would san his beat they had to be instent of the far with soul as though, with a bright prince as he mouth to have been striggling.) I don't likely. He tried to stive ship on to be astanted to be the spitifveaning thing to be myself that the sound stoup iunt starting that I was sure, but that in the the window was a rick. I couldn't broke the best to be so made of belaw the place to him. It soon went andtere as this horses was still at to more and misecalled forth in the same thing, how as to stoo hard the consequent tripicyou hears offering the coust starks withontt too, too warn't talker in the crowk.\n",
      "\n",
      "Then the matter, that it was sud most all the and the same words, through the fear of cloteerings with the personater.\n",
      "\n",
      "\"We were away the sonlent thank that him at theings to tried to stark oo a long. I said they held that with all of my to threw any one wouldn't be some way. He was ansictation when he took the wenk they would have taken an emit with som out that way intensly on some of them out of a troed at mouth of anttes and hus thr hair of winging to but there as the silence of the solemn things hated bits and a plaments. What among it itn his mind, again and the casical halore so a frack on the sofe too till he seemed hossed a poot and there and somebody was another, between her has shoutd and take over the stars of such a wood of train to hampetently.\n",
      "\n",
      "\"Will I do you think and staid to me there wat hels of ancinnt.\n",
      "\n",
      "Allowing the mission and still white te his exassers were and asked me to bullten to her and seet the trember he would have back at all way so fish, and that they she sawn would make a land and all well an tis and a times or some wanty at a side of this, and he was then he was often to him. \"You toad al a bed. Some of the pain to sun timber of matters and two he herser this week to the stans on many time, and the sighted all at all were something. Such an a s\n"
     ]
    }
   ],
   "source": [
    "checkpoint = tf.train.latest_checkpoint('checkpoints')\n",
    "print(checkpoint)\n",
    "samp = sample(checkpoint, 2000, lstm_size, len(vocab), prime=\"Far\")\n",
    "print(samp)"
   ]
  },
  {
   "cell_type": "code",
   "execution_count": 35,
   "metadata": {},
   "outputs": [
    {
     "name": "stdout",
     "output_type": "stream",
     "text": [
      "checkpoints/i36960_l512.ckpt\n",
      "Fardina and the ortaltimsents, buting their house-aslass hand and pursuing. But, and told manning. I will say they couse should hist his tranting them his lating hal that marro to die. I the same. At all them some and mothers are restored. He held him and and attacked the peasants. But and to dd, and so men she said it toly a chan-tigenige on the curgain the simple, anisuar half hulb hook around there and dream his head with the smoilede high for in. I am on. I found to mint antiofilitacled himself and composed, and fromn back and she saw anneters always tusling to have come to them and hy could be, I didne in the plaim serenetudhe he had told under his sen onations set my.-as the waitten were at once, beirged as he could then begin herills of him should not fate the mistake of the way to we crime thosee talking, how seriounterss that is he did not come overat at all. They could late the former of the does the miving dount most to her the meading of the cousin he althe table, when they patient we can live to that wonthvery-mind ou are toly him; with his man taken in the bourse on the morning a waysway and arm houch on him so he shook a archaeone cousin: I was not any maim. So that whech. So you want disucces me orlished; anthoubher we could not have a to him.\n",
      "\n",
      "As he will not surring this mitting on such a long white finger and wolded out that it was she was hair orture to answer the feeling of the house. But arther.\"\n",
      "\n",
      "The world was what mesouch should be to here. But  I could\n",
      " I strecdy a supporten in some falm this step by a long arting, the force of the morning were in every thing. He has a while his feelings, she appears.\n",
      "\n",
      "\"Arth tarler it there lese and happeneds. I hunted w he tort all of to destartin' too matter at a pire to me sometime. It swept in her husbanche intomts seat in a handsome ancareated bewarise on the shoulders on it! All things at the south fare. The sune wracked by their supenficity; which he saw that the childheaker is they heard more stulighted t\n"
     ]
    }
   ],
   "source": [
    "checkpoint = tf.train.latest_checkpoint('checkpoints')\n",
    "print(checkpoint)\n",
    "samp = sample(checkpoint, 2000, lstm_size, len(vocab), prime=\"Far\")\n",
    "print(samp)"
   ]
  },
  {
   "cell_type": "code",
   "execution_count": 39,
   "metadata": {},
   "outputs": [
    {
     "name": "stdout",
     "output_type": "stream",
     "text": [
      "I was not alone, for foolhardiness was not then heavely his oppuling a lovelina, would he well told me, and a poil story against him asleep his humbling a hought at them to her, and he said, at the pictare a senses two were and a corner of the court thought.\n",
      "\n",
      "It is alw it outsider,\" he tryed him, and then however a minute with time so shropking to me, and he wruched herself husban that who was announced that he sat to the sound a scarere or astops, whom has he when he had the spartow they, the people stood out about him with this assignation whether an impestation of a tirll on the surplying callles of his, and all this thing, at oucription he was on the soush-second she went up and said:\n",
      "\n",
      "\"You can't give them a momanit servened, and was a bones ago them in a leggar, was tord it it with the sections with his work of that hind on the trees that they will true. And hold out in an old moth to strikg to ask her heand--whot a face, all the  had better atonizh the down and all the bread and the subject of the short way of the surrounded back and had been sent to break off as to as at. I was singly, bosinated secrotering out, or to deare a made what he manners though I was sendanisming them, but that he said then he had become said all the poor telling mine and had tist here at it in a paper for a singular and hust ovilly to be to atwoolenty straight to think, bound a tran of all a seal as a death with those weariness. Hupiriat of the town was abbotient, and he would be tasked him to be often that they shall be a side of half-poor stand of mattlificactation would not think and working it opinious sont who, a supply to the drew officias. In his start to wast herself as to their annower about the things at him; and they are throwls to him and talking it on her. She's a brother in sheech, somethings instructing a long word at all and treated.\n",
      "\n",
      "I'll be from to humile a pretests. How soon were a siner with angen, and whised himself, and his eyes and had not staling always the clote of the humbly, and who stood to the palms th\n"
     ]
    }
   ],
   "source": [
    "checkpoint = tf.train.latest_checkpoint('checkpoints')\n",
    "checkpoint\n",
    "samp = sample(checkpoint, 2000, lstm_size, len(vocab), prime=\"I was not alone, for foolhardiness was not then \")\n",
    "print(samp)"
   ]
  },
  {
   "cell_type": "code",
   "execution_count": 69,
   "metadata": {},
   "outputs": [
    {
     "name": "stdout",
     "output_type": "stream",
     "text": [
      "1. At heaw frow and a mittan, and however, and I see she spoke of foom by it androding her swiftly and\n",
      "the bry med on a hards this wairy on the sund or now threw a wrant\n",
      "of the\n",
      "descrotthous husband trangulan his faboy. The\n",
      "whilise cat must see it.\n",
      "\n",
      "See, biris of, awooled, oug. He made on they had, wortisuccor south, some, who llifuze with himself of the calt, a\n",
      "downot puleed a disteam, order op that brought isstear it our ont plane,\n",
      "a man to\n",
      "my chase. I to.\n",
      "\n",
      "But you say to hear the pleasict.\" I said,\"\n",
      "\n",
      "\"As. The attay,\" he always chalmed at the pest and stirigant fond we torkwood in this, which the\n",
      "consciousnes, he chanory sthe sato\n",
      "on engaged singing he shell she regusped over,\n",
      "indeed was the chorters tentited the during, so we could not,\" she\n",
      "walked,\n",
      "water if he said to the chrowing.\n",
      "She homed ip for ment was.\"\n",
      "\n",
      "\"Haw I'd befr enought it over\n",
      "those prait as sorn mart fird and the brawner.\"\n",
      "\n",
      "\"Yes, herpen or for my falt if it, and a heart again. You shall say; I staying to m old flace.y she would come to be with her tatted and talking.\n",
      "\n",
      "\"As, his fuxt of which, whit all\n",
      "are other way smites on the chulking in one man.\n",
      "\n",
      "\n",
      " lest has been aralles, the\n",
      "proponderssick to the horse he humberingly thought he had seen alone if she's herisidenigution that hand of hat, and tranging a till feet heve in\n",
      "them a bloom on the promosioniof, so she was cootsome tave of says at the daye was she\n",
      "wook that in sir ores\n",
      "time; and\n",
      "than well that he secknemped fivident. He had alsmadering, and and tarkinges\n",
      "some tran and saw the wonderfrone about door that I told it. Whstay\n",
      "all which misten to watch stalts of matter had pressevering her to stroke her hears in the seaso, out heavflew on the son went on, too, seein an heart\n",
      "crusked, to hean, so then ter it is, he said\n",
      "to the tenderness of me\n",
      "was\n",
      "said the corker or some dear to have seenings of her him.\n",
      "\n",
      "He determining he his complete foxencinders of orsibately harder worst me in the trid, besinuse,\n",
      "of the latemine,\n",
      "handy highelloted and book. Tom. T\n"
     ]
    }
   ],
   "source": [
    "checkpoint = tf.train.latest_checkpoint('checkpoints')\n",
    "samp = sample(checkpoint, 2000, lstm_size, len(vocab), prime=\"1. \")\n",
    "print(samp)"
   ]
  },
  {
   "cell_type": "code",
   "execution_count": 40,
   "metadata": {
    "scrolled": false
   },
   "outputs": [
    {
     "name": "stdout",
     "output_type": "stream",
     "text": [
      "A long time ago, in a galaxy far, far away...\n",
      "\n",
      " * * * * *\n",
      "\n",
      "That with all the people, who ainting that twindound on the perckinenty, and while he said to him and thought when I saw away. It incrilasen offers a strack this story to him and that the courage had been said him, and whichtated. He has been doons that she was a cough on her hands.'\n",
      "\n",
      "\" His cheek was with two-nightful, and that I've, your hies of along's woman in the bloss and that would not receive the still on his arms for the son of homely. And wearing the man was travelled, and would honderfully, somewhere he was never with what it was an too solition.\"\n",
      "\n",
      "\"I went on. I was bothlunk and the child tonish when he could go to some consulting an ordick, but the stills on the station was in his high. \"Well, I'm a brecalous,\" he had supporting my head with sometimes betience. He was taken up, but she stood to see her, who, wendrows all about the poctusted till she are busy till so they' was a letter their and healthy than in story and wat ans hid. There, and wo hen his best man he cried a till he were and were the proved onlieve wit hand with them a lot of side to the letters with the momines at the son that time and hopes and happening at the old string at the theit was stopping has been tuped again a midute of that time a station was timiry on the teamsing at all theiv stoneminstous. I have the toment of the peaceful-shimes if they. If you would see my, and the mist only thlo torce or happen of the stoly, and I sat some would but he wonder.\"\n",
      "\n",
      "\"Yes if you continue to the son wouldn't set a way and we came aly on this, and without a patted begon the treecon apploring all the princess.\n",
      "\n",
      "I had been a moming of his beating to still on a sort of sheet.\n",
      "\n",
      "She was a surious posterious firm one anishat and a pretenterstair was talking and both wouldn't see her to the passar to be taken from them, and I some playpirraliss and that will come into an attained shirts bad watat the plinn a sister, with any second ang a crewer things, the trethe charaits of the consciousn\n"
     ]
    }
   ],
   "source": [
    "checkpoint = tf.train.latest_checkpoint('checkpoints')\n",
    "samp = sample(checkpoint, 2000, lstm_size, len(vocab), prime=\"A long time ago, in a galaxy far, far away...\\n\")\n",
    "print(samp)"
   ]
  },
  {
   "cell_type": "code",
   "execution_count": 71,
   "metadata": {},
   "outputs": [
    {
     "name": "stdout",
     "output_type": "stream",
     "text": [
      "Farvaanatalo molday som the how hom in his haspes. But her\n",
      "time hy acteds of alreaky. And I\n",
      "gave has to it on arretting him she had broked inselt it to this so one as to to hil of the some of the\n",
      "sone on to step to him. I shonce that houre and sent on the cansen on the hearch, and amang hasting sake,\" said\n",
      "Levin had sen at her strond or the hand whiting her huarnaaritoved\n",
      "hie staning to his so tare\n",
      "and trears at tencistesting him this as there are the now and them the\n",
      "horment woull to though they would bried the compariend that somethe arrate abeasion. And see the shoritaated he had their\n",
      "hade athich of the highen,, that the porest to spees a frace to seesed to the stilins, ank when in all a minged with this\n",
      "has delingtices at the buctte, but so a left. At\n",
      "Aspeatin the hand of that alote of the come art to troubort of that in her sast and had this hossile ins an ast he saw and has alout to his askeat aftilled of his corsting at his sound what he arwived, and her\n",
      "chiched himial tree takn awar and hince\n",
      "while he was beent,\" at anovere. \n",
      "\"Cevetting to coke this where anoused hore bestens to hip as, I say a signed.\n",
      "He wates on thos saigen an was toing and how at the matil this, bain a came staking out of horrees our tithly, an onne the pertathes, stept any were and seet thooding. Well, I shave asked. It wound\n",
      "bere sait or if an a sersch to\n",
      "has hiv in\n",
      "when his womkrancase trousssion of hissey that in atcestiate. There\n",
      "said\n",
      "not to ho so tell. That'fe wanting is, but and another will\n",
      "that it's\n",
      "but on a law heas and soun somowing and his mung to to her, but here.\"\n",
      "\n",
      "\"Yih, al never alwayt happed, asderles her, while sae I may nuver to be hime satemon, but he was\n",
      "shing him.\"\n",
      "\n",
      "Alexey\n",
      "Aleaky talled to the hoal breath thow. \"Tellevely and tooe the satting a madiallizan,\" sal he dasting her sigh of the\n",
      "wounded to\n",
      "her attentions as that shooding shand, both thou know, but thoukek her.\n",
      " \"Of horre, bur a connailing ansereed the cancring on the\n",
      "cooner out of themeta to tale, at the counte\n"
     ]
    }
   ],
   "source": [
    "checkpoint = 'checkpoints/i3960_l512.ckpt'\n",
    "samp = sample(checkpoint, 2000, lstm_size, len(vocab), prime=\"Far\")\n",
    "print(samp)"
   ]
  },
  {
   "cell_type": "code",
   "execution_count": 47,
   "metadata": {},
   "outputs": [
    {
     "name": "stdout",
     "output_type": "stream",
     "text": [
      "Farant at her atsing than hes that tish soud whe hid onttise wout hos to hont on and iftere sathint the hou than he shot ot ofot sat hot hat hite tho wan thit the\n",
      "con hor ald nte ttimente so ta\n",
      "hos af to thit a thas thathe har and and his to he torens,\n",
      "satthe he weree af\n",
      "the thet\n",
      "rilding he tore ansed which hin sfotenes, of thos sut and and hom thas, an han to at wasten of ase wore has of wond and ond suttad tos\n",
      "asdootiss, wosd allidise the sant o e thas shat and, the meree the woulend,. \n",
      "\n",
      "\n",
      "he as ale nte son tat ther tat he woote her toritine te tariss he te her antitgar, a\n",
      " shet as ope wathe af tase to her sethe the hed, anlissse soaters ande s on hos his onlaning withit af an statt the nrens wriold she hor teentise tu wore wer and hee hiasd\n",
      "hos,\n",
      "soungine hit hid the her henee ta\n",
      "heseist sor shouns, to the\n",
      "nr to sased, ta wins. \n",
      "\"\" \n",
      "\"hor\n",
      "he wang som she sist hes an he weradess, hor whimsios if ase the tans teriris hire the the har sar ane to ceother host and sh wiling of to the henn, al h\n"
     ]
    }
   ],
   "source": [
    "checkpoint = 'checkpoints/i600_l512.ckpt'\n",
    "samp = sample(checkpoint, 1000, lstm_size, len(vocab), prime=\"Far\")\n",
    "print(samp)"
   ]
  },
  {
   "cell_type": "code",
   "execution_count": 34,
   "metadata": {},
   "outputs": [
    {
     "ename": "NotFoundError",
     "evalue": "Unsuccessful TensorSliceReader constructor: Failed to find any matching files for checkpoints/i1200_l512.ckpt\n\t [[Node: save/RestoreV2_3 = RestoreV2[dtypes=[DT_FLOAT], _device=\"/job:localhost/replica:0/task:0/cpu:0\"](_recv_save/Const_0, save/RestoreV2_3/tensor_names, save/RestoreV2_3/shape_and_slices)]]\n\t [[Node: save/RestoreV2_15/_7 = _Recv[client_terminated=false, recv_device=\"/job:localhost/replica:0/task:0/gpu:0\", send_device=\"/job:localhost/replica:0/task:0/cpu:0\", send_device_incarnation=1, tensor_name=\"edge_152_save/RestoreV2_15\", tensor_type=DT_FLOAT, _device=\"/job:localhost/replica:0/task:0/gpu:0\"]()]]\n\nCaused by op 'save/RestoreV2_3', defined at:\n  File \"/home/ACCELEWARE/scott.quiring/.conda/envs/dlr7/lib/python3.6/runpy.py\", line 193, in _run_module_as_main\n    \"__main__\", mod_spec)\n  File \"/home/ACCELEWARE/scott.quiring/.conda/envs/dlr7/lib/python3.6/runpy.py\", line 85, in _run_code\n    exec(code, run_globals)\n  File \"/home/ACCELEWARE/scott.quiring/.conda/envs/dlr7/lib/python3.6/site-packages/ipykernel_launcher.py\", line 16, in <module>\n    app.launch_new_instance()\n  File \"/home/ACCELEWARE/scott.quiring/.conda/envs/dlr7/lib/python3.6/site-packages/traitlets/config/application.py\", line 658, in launch_instance\n    app.start()\n  File \"/home/ACCELEWARE/scott.quiring/.conda/envs/dlr7/lib/python3.6/site-packages/ipykernel/kernelapp.py\", line 477, in start\n    ioloop.IOLoop.instance().start()\n  File \"/home/ACCELEWARE/scott.quiring/.conda/envs/dlr7/lib/python3.6/site-packages/zmq/eventloop/ioloop.py\", line 177, in start\n    super(ZMQIOLoop, self).start()\n  File \"/home/ACCELEWARE/scott.quiring/.conda/envs/dlr7/lib/python3.6/site-packages/tornado/ioloop.py\", line 887, in start\n    handler_func(fd_obj, events)\n  File \"/home/ACCELEWARE/scott.quiring/.conda/envs/dlr7/lib/python3.6/site-packages/tornado/stack_context.py\", line 275, in null_wrapper\n    return fn(*args, **kwargs)\n  File \"/home/ACCELEWARE/scott.quiring/.conda/envs/dlr7/lib/python3.6/site-packages/zmq/eventloop/zmqstream.py\", line 440, in _handle_events\n    self._handle_recv()\n  File \"/home/ACCELEWARE/scott.quiring/.conda/envs/dlr7/lib/python3.6/site-packages/zmq/eventloop/zmqstream.py\", line 472, in _handle_recv\n    self._run_callback(callback, msg)\n  File \"/home/ACCELEWARE/scott.quiring/.conda/envs/dlr7/lib/python3.6/site-packages/zmq/eventloop/zmqstream.py\", line 414, in _run_callback\n    callback(*args, **kwargs)\n  File \"/home/ACCELEWARE/scott.quiring/.conda/envs/dlr7/lib/python3.6/site-packages/tornado/stack_context.py\", line 275, in null_wrapper\n    return fn(*args, **kwargs)\n  File \"/home/ACCELEWARE/scott.quiring/.conda/envs/dlr7/lib/python3.6/site-packages/ipykernel/kernelbase.py\", line 276, in dispatcher\n    return self.dispatch_shell(stream, msg)\n  File \"/home/ACCELEWARE/scott.quiring/.conda/envs/dlr7/lib/python3.6/site-packages/ipykernel/kernelbase.py\", line 228, in dispatch_shell\n    handler(stream, idents, msg)\n  File \"/home/ACCELEWARE/scott.quiring/.conda/envs/dlr7/lib/python3.6/site-packages/ipykernel/kernelbase.py\", line 390, in execute_request\n    user_expressions, allow_stdin)\n  File \"/home/ACCELEWARE/scott.quiring/.conda/envs/dlr7/lib/python3.6/site-packages/ipykernel/ipkernel.py\", line 196, in do_execute\n    res = shell.run_cell(code, store_history=store_history, silent=silent)\n  File \"/home/ACCELEWARE/scott.quiring/.conda/envs/dlr7/lib/python3.6/site-packages/ipykernel/zmqshell.py\", line 533, in run_cell\n    return super(ZMQInteractiveShell, self).run_cell(*args, **kwargs)\n  File \"/home/ACCELEWARE/scott.quiring/.conda/envs/dlr7/lib/python3.6/site-packages/IPython/core/interactiveshell.py\", line 2717, in run_cell\n    interactivity=interactivity, compiler=compiler, result=result)\n  File \"/home/ACCELEWARE/scott.quiring/.conda/envs/dlr7/lib/python3.6/site-packages/IPython/core/interactiveshell.py\", line 2821, in run_ast_nodes\n    if self.run_code(code, result):\n  File \"/home/ACCELEWARE/scott.quiring/.conda/envs/dlr7/lib/python3.6/site-packages/IPython/core/interactiveshell.py\", line 2881, in run_code\n    exec(code_obj, self.user_global_ns, self.user_ns)\n  File \"<ipython-input-34-3e7aa01c7a19>\", line 2, in <module>\n    samp = sample(checkpoint, 1000, lstm_size, len(vocab), prime=\"Far\")\n  File \"<ipython-input-31-8eb787ae9642>\", line 4, in sample\n    saver = tf.train.Saver()\n  File \"/home/ACCELEWARE/scott.quiring/.conda/envs/dlr7/lib/python3.6/site-packages/tensorflow/python/training/saver.py\", line 1040, in __init__\n    self.build()\n  File \"/home/ACCELEWARE/scott.quiring/.conda/envs/dlr7/lib/python3.6/site-packages/tensorflow/python/training/saver.py\", line 1070, in build\n    restore_sequentially=self._restore_sequentially)\n  File \"/home/ACCELEWARE/scott.quiring/.conda/envs/dlr7/lib/python3.6/site-packages/tensorflow/python/training/saver.py\", line 675, in build\n    restore_sequentially, reshape)\n  File \"/home/ACCELEWARE/scott.quiring/.conda/envs/dlr7/lib/python3.6/site-packages/tensorflow/python/training/saver.py\", line 402, in _AddRestoreOps\n    tensors = self.restore_op(filename_tensor, saveable, preferred_shard)\n  File \"/home/ACCELEWARE/scott.quiring/.conda/envs/dlr7/lib/python3.6/site-packages/tensorflow/python/training/saver.py\", line 242, in restore_op\n    [spec.tensor.dtype])[0])\n  File \"/home/ACCELEWARE/scott.quiring/.conda/envs/dlr7/lib/python3.6/site-packages/tensorflow/python/ops/gen_io_ops.py\", line 668, in restore_v2\n    dtypes=dtypes, name=name)\n  File \"/home/ACCELEWARE/scott.quiring/.conda/envs/dlr7/lib/python3.6/site-packages/tensorflow/python/framework/op_def_library.py\", line 763, in apply_op\n    op_def=op_def)\n  File \"/home/ACCELEWARE/scott.quiring/.conda/envs/dlr7/lib/python3.6/site-packages/tensorflow/python/framework/ops.py\", line 2327, in create_op\n    original_op=self._default_original_op, op_def=op_def)\n  File \"/home/ACCELEWARE/scott.quiring/.conda/envs/dlr7/lib/python3.6/site-packages/tensorflow/python/framework/ops.py\", line 1226, in __init__\n    self._traceback = _extract_stack()\n\nNotFoundError (see above for traceback): Unsuccessful TensorSliceReader constructor: Failed to find any matching files for checkpoints/i1200_l512.ckpt\n\t [[Node: save/RestoreV2_3 = RestoreV2[dtypes=[DT_FLOAT], _device=\"/job:localhost/replica:0/task:0/cpu:0\"](_recv_save/Const_0, save/RestoreV2_3/tensor_names, save/RestoreV2_3/shape_and_slices)]]\n\t [[Node: save/RestoreV2_15/_7 = _Recv[client_terminated=false, recv_device=\"/job:localhost/replica:0/task:0/gpu:0\", send_device=\"/job:localhost/replica:0/task:0/cpu:0\", send_device_incarnation=1, tensor_name=\"edge_152_save/RestoreV2_15\", tensor_type=DT_FLOAT, _device=\"/job:localhost/replica:0/task:0/gpu:0\"]()]]\n",
     "output_type": "error",
     "traceback": [
      "\u001b[0;31m---------------------------------------------------------------------------\u001b[0m",
      "\u001b[0;31mNotFoundError\u001b[0m                             Traceback (most recent call last)",
      "\u001b[0;32m/home/ACCELEWARE/scott.quiring/.conda/envs/dlr7/lib/python3.6/site-packages/tensorflow/python/client/session.py\u001b[0m in \u001b[0;36m_do_call\u001b[0;34m(self, fn, *args)\u001b[0m\n\u001b[1;32m   1021\u001b[0m     \u001b[0;32mtry\u001b[0m\u001b[0;34m:\u001b[0m\u001b[0;34m\u001b[0m\u001b[0m\n\u001b[0;32m-> 1022\u001b[0;31m       \u001b[0;32mreturn\u001b[0m \u001b[0mfn\u001b[0m\u001b[0;34m(\u001b[0m\u001b[0;34m*\u001b[0m\u001b[0margs\u001b[0m\u001b[0;34m)\u001b[0m\u001b[0;34m\u001b[0m\u001b[0m\n\u001b[0m\u001b[1;32m   1023\u001b[0m     \u001b[0;32mexcept\u001b[0m \u001b[0merrors\u001b[0m\u001b[0;34m.\u001b[0m\u001b[0mOpError\u001b[0m \u001b[0;32mas\u001b[0m \u001b[0me\u001b[0m\u001b[0;34m:\u001b[0m\u001b[0;34m\u001b[0m\u001b[0m\n",
      "\u001b[0;32m/home/ACCELEWARE/scott.quiring/.conda/envs/dlr7/lib/python3.6/site-packages/tensorflow/python/client/session.py\u001b[0m in \u001b[0;36m_run_fn\u001b[0;34m(session, feed_dict, fetch_list, target_list, options, run_metadata)\u001b[0m\n\u001b[1;32m   1003\u001b[0m                                  \u001b[0mfeed_dict\u001b[0m\u001b[0;34m,\u001b[0m \u001b[0mfetch_list\u001b[0m\u001b[0;34m,\u001b[0m \u001b[0mtarget_list\u001b[0m\u001b[0;34m,\u001b[0m\u001b[0;34m\u001b[0m\u001b[0m\n\u001b[0;32m-> 1004\u001b[0;31m                                  status, run_metadata)\n\u001b[0m\u001b[1;32m   1005\u001b[0m \u001b[0;34m\u001b[0m\u001b[0m\n",
      "\u001b[0;32m/home/ACCELEWARE/scott.quiring/.conda/envs/dlr7/lib/python3.6/contextlib.py\u001b[0m in \u001b[0;36m__exit__\u001b[0;34m(self, type, value, traceback)\u001b[0m\n\u001b[1;32m     88\u001b[0m             \u001b[0;32mtry\u001b[0m\u001b[0;34m:\u001b[0m\u001b[0;34m\u001b[0m\u001b[0m\n\u001b[0;32m---> 89\u001b[0;31m                 \u001b[0mnext\u001b[0m\u001b[0;34m(\u001b[0m\u001b[0mself\u001b[0m\u001b[0;34m.\u001b[0m\u001b[0mgen\u001b[0m\u001b[0;34m)\u001b[0m\u001b[0;34m\u001b[0m\u001b[0m\n\u001b[0m\u001b[1;32m     90\u001b[0m             \u001b[0;32mexcept\u001b[0m \u001b[0mStopIteration\u001b[0m\u001b[0;34m:\u001b[0m\u001b[0;34m\u001b[0m\u001b[0m\n",
      "\u001b[0;32m/home/ACCELEWARE/scott.quiring/.conda/envs/dlr7/lib/python3.6/site-packages/tensorflow/python/framework/errors_impl.py\u001b[0m in \u001b[0;36mraise_exception_on_not_ok_status\u001b[0;34m()\u001b[0m\n\u001b[1;32m    465\u001b[0m           \u001b[0mcompat\u001b[0m\u001b[0;34m.\u001b[0m\u001b[0mas_text\u001b[0m\u001b[0;34m(\u001b[0m\u001b[0mpywrap_tensorflow\u001b[0m\u001b[0;34m.\u001b[0m\u001b[0mTF_Message\u001b[0m\u001b[0;34m(\u001b[0m\u001b[0mstatus\u001b[0m\u001b[0;34m)\u001b[0m\u001b[0;34m)\u001b[0m\u001b[0;34m,\u001b[0m\u001b[0;34m\u001b[0m\u001b[0m\n\u001b[0;32m--> 466\u001b[0;31m           pywrap_tensorflow.TF_GetCode(status))\n\u001b[0m\u001b[1;32m    467\u001b[0m   \u001b[0;32mfinally\u001b[0m\u001b[0;34m:\u001b[0m\u001b[0;34m\u001b[0m\u001b[0m\n",
      "\u001b[0;31mNotFoundError\u001b[0m: Unsuccessful TensorSliceReader constructor: Failed to find any matching files for checkpoints/i1200_l512.ckpt\n\t [[Node: save/RestoreV2_3 = RestoreV2[dtypes=[DT_FLOAT], _device=\"/job:localhost/replica:0/task:0/cpu:0\"](_recv_save/Const_0, save/RestoreV2_3/tensor_names, save/RestoreV2_3/shape_and_slices)]]\n\t [[Node: save/RestoreV2_15/_7 = _Recv[client_terminated=false, recv_device=\"/job:localhost/replica:0/task:0/gpu:0\", send_device=\"/job:localhost/replica:0/task:0/cpu:0\", send_device_incarnation=1, tensor_name=\"edge_152_save/RestoreV2_15\", tensor_type=DT_FLOAT, _device=\"/job:localhost/replica:0/task:0/gpu:0\"]()]]",
      "\nDuring handling of the above exception, another exception occurred:\n",
      "\u001b[0;31mNotFoundError\u001b[0m                             Traceback (most recent call last)",
      "\u001b[0;32m<ipython-input-34-3e7aa01c7a19>\u001b[0m in \u001b[0;36m<module>\u001b[0;34m()\u001b[0m\n\u001b[1;32m      1\u001b[0m \u001b[0mcheckpoint\u001b[0m \u001b[0;34m=\u001b[0m \u001b[0;34m'checkpoints/i1200_l512.ckpt'\u001b[0m\u001b[0;34m\u001b[0m\u001b[0m\n\u001b[0;32m----> 2\u001b[0;31m \u001b[0msamp\u001b[0m \u001b[0;34m=\u001b[0m \u001b[0msample\u001b[0m\u001b[0;34m(\u001b[0m\u001b[0mcheckpoint\u001b[0m\u001b[0;34m,\u001b[0m \u001b[0;36m1000\u001b[0m\u001b[0;34m,\u001b[0m \u001b[0mlstm_size\u001b[0m\u001b[0;34m,\u001b[0m \u001b[0mlen\u001b[0m\u001b[0;34m(\u001b[0m\u001b[0mvocab\u001b[0m\u001b[0;34m)\u001b[0m\u001b[0;34m,\u001b[0m \u001b[0mprime\u001b[0m\u001b[0;34m=\u001b[0m\u001b[0;34m\"Far\"\u001b[0m\u001b[0;34m)\u001b[0m\u001b[0;34m\u001b[0m\u001b[0m\n\u001b[0m\u001b[1;32m      3\u001b[0m \u001b[0mprint\u001b[0m\u001b[0;34m(\u001b[0m\u001b[0msamp\u001b[0m\u001b[0;34m)\u001b[0m\u001b[0;34m\u001b[0m\u001b[0m\n",
      "\u001b[0;32m<ipython-input-31-8eb787ae9642>\u001b[0m in \u001b[0;36msample\u001b[0;34m(checkpoint, n_samples, lstm_size, vocab_size, prime)\u001b[0m\n\u001b[1;32m      4\u001b[0m     \u001b[0msaver\u001b[0m \u001b[0;34m=\u001b[0m \u001b[0mtf\u001b[0m\u001b[0;34m.\u001b[0m\u001b[0mtrain\u001b[0m\u001b[0;34m.\u001b[0m\u001b[0mSaver\u001b[0m\u001b[0;34m(\u001b[0m\u001b[0;34m)\u001b[0m\u001b[0;34m\u001b[0m\u001b[0m\n\u001b[1;32m      5\u001b[0m     \u001b[0;32mwith\u001b[0m \u001b[0mtf\u001b[0m\u001b[0;34m.\u001b[0m\u001b[0mSession\u001b[0m\u001b[0;34m(\u001b[0m\u001b[0;34m)\u001b[0m \u001b[0;32mas\u001b[0m \u001b[0msess\u001b[0m\u001b[0;34m:\u001b[0m\u001b[0;34m\u001b[0m\u001b[0m\n\u001b[0;32m----> 6\u001b[0;31m         \u001b[0msaver\u001b[0m\u001b[0;34m.\u001b[0m\u001b[0mrestore\u001b[0m\u001b[0;34m(\u001b[0m\u001b[0msess\u001b[0m\u001b[0;34m,\u001b[0m \u001b[0mcheckpoint\u001b[0m\u001b[0;34m)\u001b[0m\u001b[0;34m\u001b[0m\u001b[0m\n\u001b[0m\u001b[1;32m      7\u001b[0m         \u001b[0mnew_state\u001b[0m \u001b[0;34m=\u001b[0m \u001b[0msess\u001b[0m\u001b[0;34m.\u001b[0m\u001b[0mrun\u001b[0m\u001b[0;34m(\u001b[0m\u001b[0mmodel\u001b[0m\u001b[0;34m.\u001b[0m\u001b[0minitial_state\u001b[0m\u001b[0;34m)\u001b[0m\u001b[0;34m\u001b[0m\u001b[0m\n\u001b[1;32m      8\u001b[0m         \u001b[0;32mfor\u001b[0m \u001b[0mc\u001b[0m \u001b[0;32min\u001b[0m \u001b[0mprime\u001b[0m\u001b[0;34m:\u001b[0m\u001b[0;34m\u001b[0m\u001b[0m\n",
      "\u001b[0;32m/home/ACCELEWARE/scott.quiring/.conda/envs/dlr7/lib/python3.6/site-packages/tensorflow/python/training/saver.py\u001b[0m in \u001b[0;36mrestore\u001b[0;34m(self, sess, save_path)\u001b[0m\n\u001b[1;32m   1426\u001b[0m       \u001b[0;32mreturn\u001b[0m\u001b[0;34m\u001b[0m\u001b[0m\n\u001b[1;32m   1427\u001b[0m     sess.run(self.saver_def.restore_op_name,\n\u001b[0;32m-> 1428\u001b[0;31m              {self.saver_def.filename_tensor_name: save_path})\n\u001b[0m\u001b[1;32m   1429\u001b[0m \u001b[0;34m\u001b[0m\u001b[0m\n\u001b[1;32m   1430\u001b[0m   \u001b[0;34m@\u001b[0m\u001b[0mstaticmethod\u001b[0m\u001b[0;34m\u001b[0m\u001b[0m\n",
      "\u001b[0;32m/home/ACCELEWARE/scott.quiring/.conda/envs/dlr7/lib/python3.6/site-packages/tensorflow/python/client/session.py\u001b[0m in \u001b[0;36mrun\u001b[0;34m(self, fetches, feed_dict, options, run_metadata)\u001b[0m\n\u001b[1;32m    765\u001b[0m     \u001b[0;32mtry\u001b[0m\u001b[0;34m:\u001b[0m\u001b[0;34m\u001b[0m\u001b[0m\n\u001b[1;32m    766\u001b[0m       result = self._run(None, fetches, feed_dict, options_ptr,\n\u001b[0;32m--> 767\u001b[0;31m                          run_metadata_ptr)\n\u001b[0m\u001b[1;32m    768\u001b[0m       \u001b[0;32mif\u001b[0m \u001b[0mrun_metadata\u001b[0m\u001b[0;34m:\u001b[0m\u001b[0;34m\u001b[0m\u001b[0m\n\u001b[1;32m    769\u001b[0m         \u001b[0mproto_data\u001b[0m \u001b[0;34m=\u001b[0m \u001b[0mtf_session\u001b[0m\u001b[0;34m.\u001b[0m\u001b[0mTF_GetBuffer\u001b[0m\u001b[0;34m(\u001b[0m\u001b[0mrun_metadata_ptr\u001b[0m\u001b[0;34m)\u001b[0m\u001b[0;34m\u001b[0m\u001b[0m\n",
      "\u001b[0;32m/home/ACCELEWARE/scott.quiring/.conda/envs/dlr7/lib/python3.6/site-packages/tensorflow/python/client/session.py\u001b[0m in \u001b[0;36m_run\u001b[0;34m(self, handle, fetches, feed_dict, options, run_metadata)\u001b[0m\n\u001b[1;32m    963\u001b[0m     \u001b[0;32mif\u001b[0m \u001b[0mfinal_fetches\u001b[0m \u001b[0;32mor\u001b[0m \u001b[0mfinal_targets\u001b[0m\u001b[0;34m:\u001b[0m\u001b[0;34m\u001b[0m\u001b[0m\n\u001b[1;32m    964\u001b[0m       results = self._do_run(handle, final_targets, final_fetches,\n\u001b[0;32m--> 965\u001b[0;31m                              feed_dict_string, options, run_metadata)\n\u001b[0m\u001b[1;32m    966\u001b[0m     \u001b[0;32melse\u001b[0m\u001b[0;34m:\u001b[0m\u001b[0;34m\u001b[0m\u001b[0m\n\u001b[1;32m    967\u001b[0m       \u001b[0mresults\u001b[0m \u001b[0;34m=\u001b[0m \u001b[0;34m[\u001b[0m\u001b[0;34m]\u001b[0m\u001b[0;34m\u001b[0m\u001b[0m\n",
      "\u001b[0;32m/home/ACCELEWARE/scott.quiring/.conda/envs/dlr7/lib/python3.6/site-packages/tensorflow/python/client/session.py\u001b[0m in \u001b[0;36m_do_run\u001b[0;34m(self, handle, target_list, fetch_list, feed_dict, options, run_metadata)\u001b[0m\n\u001b[1;32m   1013\u001b[0m     \u001b[0;32mif\u001b[0m \u001b[0mhandle\u001b[0m \u001b[0;32mis\u001b[0m \u001b[0;32mNone\u001b[0m\u001b[0;34m:\u001b[0m\u001b[0;34m\u001b[0m\u001b[0m\n\u001b[1;32m   1014\u001b[0m       return self._do_call(_run_fn, self._session, feed_dict, fetch_list,\n\u001b[0;32m-> 1015\u001b[0;31m                            target_list, options, run_metadata)\n\u001b[0m\u001b[1;32m   1016\u001b[0m     \u001b[0;32melse\u001b[0m\u001b[0;34m:\u001b[0m\u001b[0;34m\u001b[0m\u001b[0m\n\u001b[1;32m   1017\u001b[0m       return self._do_call(_prun_fn, self._session, handle, feed_dict,\n",
      "\u001b[0;32m/home/ACCELEWARE/scott.quiring/.conda/envs/dlr7/lib/python3.6/site-packages/tensorflow/python/client/session.py\u001b[0m in \u001b[0;36m_do_call\u001b[0;34m(self, fn, *args)\u001b[0m\n\u001b[1;32m   1033\u001b[0m         \u001b[0;32mexcept\u001b[0m \u001b[0mKeyError\u001b[0m\u001b[0;34m:\u001b[0m\u001b[0;34m\u001b[0m\u001b[0m\n\u001b[1;32m   1034\u001b[0m           \u001b[0;32mpass\u001b[0m\u001b[0;34m\u001b[0m\u001b[0m\n\u001b[0;32m-> 1035\u001b[0;31m       \u001b[0;32mraise\u001b[0m \u001b[0mtype\u001b[0m\u001b[0;34m(\u001b[0m\u001b[0me\u001b[0m\u001b[0;34m)\u001b[0m\u001b[0;34m(\u001b[0m\u001b[0mnode_def\u001b[0m\u001b[0;34m,\u001b[0m \u001b[0mop\u001b[0m\u001b[0;34m,\u001b[0m \u001b[0mmessage\u001b[0m\u001b[0;34m)\u001b[0m\u001b[0;34m\u001b[0m\u001b[0m\n\u001b[0m\u001b[1;32m   1036\u001b[0m \u001b[0;34m\u001b[0m\u001b[0m\n\u001b[1;32m   1037\u001b[0m   \u001b[0;32mdef\u001b[0m \u001b[0m_extend_graph\u001b[0m\u001b[0;34m(\u001b[0m\u001b[0mself\u001b[0m\u001b[0;34m)\u001b[0m\u001b[0;34m:\u001b[0m\u001b[0;34m\u001b[0m\u001b[0m\n",
      "\u001b[0;31mNotFoundError\u001b[0m: Unsuccessful TensorSliceReader constructor: Failed to find any matching files for checkpoints/i1200_l512.ckpt\n\t [[Node: save/RestoreV2_3 = RestoreV2[dtypes=[DT_FLOAT], _device=\"/job:localhost/replica:0/task:0/cpu:0\"](_recv_save/Const_0, save/RestoreV2_3/tensor_names, save/RestoreV2_3/shape_and_slices)]]\n\t [[Node: save/RestoreV2_15/_7 = _Recv[client_terminated=false, recv_device=\"/job:localhost/replica:0/task:0/gpu:0\", send_device=\"/job:localhost/replica:0/task:0/cpu:0\", send_device_incarnation=1, tensor_name=\"edge_152_save/RestoreV2_15\", tensor_type=DT_FLOAT, _device=\"/job:localhost/replica:0/task:0/gpu:0\"]()]]\n\nCaused by op 'save/RestoreV2_3', defined at:\n  File \"/home/ACCELEWARE/scott.quiring/.conda/envs/dlr7/lib/python3.6/runpy.py\", line 193, in _run_module_as_main\n    \"__main__\", mod_spec)\n  File \"/home/ACCELEWARE/scott.quiring/.conda/envs/dlr7/lib/python3.6/runpy.py\", line 85, in _run_code\n    exec(code, run_globals)\n  File \"/home/ACCELEWARE/scott.quiring/.conda/envs/dlr7/lib/python3.6/site-packages/ipykernel_launcher.py\", line 16, in <module>\n    app.launch_new_instance()\n  File \"/home/ACCELEWARE/scott.quiring/.conda/envs/dlr7/lib/python3.6/site-packages/traitlets/config/application.py\", line 658, in launch_instance\n    app.start()\n  File \"/home/ACCELEWARE/scott.quiring/.conda/envs/dlr7/lib/python3.6/site-packages/ipykernel/kernelapp.py\", line 477, in start\n    ioloop.IOLoop.instance().start()\n  File \"/home/ACCELEWARE/scott.quiring/.conda/envs/dlr7/lib/python3.6/site-packages/zmq/eventloop/ioloop.py\", line 177, in start\n    super(ZMQIOLoop, self).start()\n  File \"/home/ACCELEWARE/scott.quiring/.conda/envs/dlr7/lib/python3.6/site-packages/tornado/ioloop.py\", line 887, in start\n    handler_func(fd_obj, events)\n  File \"/home/ACCELEWARE/scott.quiring/.conda/envs/dlr7/lib/python3.6/site-packages/tornado/stack_context.py\", line 275, in null_wrapper\n    return fn(*args, **kwargs)\n  File \"/home/ACCELEWARE/scott.quiring/.conda/envs/dlr7/lib/python3.6/site-packages/zmq/eventloop/zmqstream.py\", line 440, in _handle_events\n    self._handle_recv()\n  File \"/home/ACCELEWARE/scott.quiring/.conda/envs/dlr7/lib/python3.6/site-packages/zmq/eventloop/zmqstream.py\", line 472, in _handle_recv\n    self._run_callback(callback, msg)\n  File \"/home/ACCELEWARE/scott.quiring/.conda/envs/dlr7/lib/python3.6/site-packages/zmq/eventloop/zmqstream.py\", line 414, in _run_callback\n    callback(*args, **kwargs)\n  File \"/home/ACCELEWARE/scott.quiring/.conda/envs/dlr7/lib/python3.6/site-packages/tornado/stack_context.py\", line 275, in null_wrapper\n    return fn(*args, **kwargs)\n  File \"/home/ACCELEWARE/scott.quiring/.conda/envs/dlr7/lib/python3.6/site-packages/ipykernel/kernelbase.py\", line 276, in dispatcher\n    return self.dispatch_shell(stream, msg)\n  File \"/home/ACCELEWARE/scott.quiring/.conda/envs/dlr7/lib/python3.6/site-packages/ipykernel/kernelbase.py\", line 228, in dispatch_shell\n    handler(stream, idents, msg)\n  File \"/home/ACCELEWARE/scott.quiring/.conda/envs/dlr7/lib/python3.6/site-packages/ipykernel/kernelbase.py\", line 390, in execute_request\n    user_expressions, allow_stdin)\n  File \"/home/ACCELEWARE/scott.quiring/.conda/envs/dlr7/lib/python3.6/site-packages/ipykernel/ipkernel.py\", line 196, in do_execute\n    res = shell.run_cell(code, store_history=store_history, silent=silent)\n  File \"/home/ACCELEWARE/scott.quiring/.conda/envs/dlr7/lib/python3.6/site-packages/ipykernel/zmqshell.py\", line 533, in run_cell\n    return super(ZMQInteractiveShell, self).run_cell(*args, **kwargs)\n  File \"/home/ACCELEWARE/scott.quiring/.conda/envs/dlr7/lib/python3.6/site-packages/IPython/core/interactiveshell.py\", line 2717, in run_cell\n    interactivity=interactivity, compiler=compiler, result=result)\n  File \"/home/ACCELEWARE/scott.quiring/.conda/envs/dlr7/lib/python3.6/site-packages/IPython/core/interactiveshell.py\", line 2821, in run_ast_nodes\n    if self.run_code(code, result):\n  File \"/home/ACCELEWARE/scott.quiring/.conda/envs/dlr7/lib/python3.6/site-packages/IPython/core/interactiveshell.py\", line 2881, in run_code\n    exec(code_obj, self.user_global_ns, self.user_ns)\n  File \"<ipython-input-34-3e7aa01c7a19>\", line 2, in <module>\n    samp = sample(checkpoint, 1000, lstm_size, len(vocab), prime=\"Far\")\n  File \"<ipython-input-31-8eb787ae9642>\", line 4, in sample\n    saver = tf.train.Saver()\n  File \"/home/ACCELEWARE/scott.quiring/.conda/envs/dlr7/lib/python3.6/site-packages/tensorflow/python/training/saver.py\", line 1040, in __init__\n    self.build()\n  File \"/home/ACCELEWARE/scott.quiring/.conda/envs/dlr7/lib/python3.6/site-packages/tensorflow/python/training/saver.py\", line 1070, in build\n    restore_sequentially=self._restore_sequentially)\n  File \"/home/ACCELEWARE/scott.quiring/.conda/envs/dlr7/lib/python3.6/site-packages/tensorflow/python/training/saver.py\", line 675, in build\n    restore_sequentially, reshape)\n  File \"/home/ACCELEWARE/scott.quiring/.conda/envs/dlr7/lib/python3.6/site-packages/tensorflow/python/training/saver.py\", line 402, in _AddRestoreOps\n    tensors = self.restore_op(filename_tensor, saveable, preferred_shard)\n  File \"/home/ACCELEWARE/scott.quiring/.conda/envs/dlr7/lib/python3.6/site-packages/tensorflow/python/training/saver.py\", line 242, in restore_op\n    [spec.tensor.dtype])[0])\n  File \"/home/ACCELEWARE/scott.quiring/.conda/envs/dlr7/lib/python3.6/site-packages/tensorflow/python/ops/gen_io_ops.py\", line 668, in restore_v2\n    dtypes=dtypes, name=name)\n  File \"/home/ACCELEWARE/scott.quiring/.conda/envs/dlr7/lib/python3.6/site-packages/tensorflow/python/framework/op_def_library.py\", line 763, in apply_op\n    op_def=op_def)\n  File \"/home/ACCELEWARE/scott.quiring/.conda/envs/dlr7/lib/python3.6/site-packages/tensorflow/python/framework/ops.py\", line 2327, in create_op\n    original_op=self._default_original_op, op_def=op_def)\n  File \"/home/ACCELEWARE/scott.quiring/.conda/envs/dlr7/lib/python3.6/site-packages/tensorflow/python/framework/ops.py\", line 1226, in __init__\n    self._traceback = _extract_stack()\n\nNotFoundError (see above for traceback): Unsuccessful TensorSliceReader constructor: Failed to find any matching files for checkpoints/i1200_l512.ckpt\n\t [[Node: save/RestoreV2_3 = RestoreV2[dtypes=[DT_FLOAT], _device=\"/job:localhost/replica:0/task:0/cpu:0\"](_recv_save/Const_0, save/RestoreV2_3/tensor_names, save/RestoreV2_3/shape_and_slices)]]\n\t [[Node: save/RestoreV2_15/_7 = _Recv[client_terminated=false, recv_device=\"/job:localhost/replica:0/task:0/gpu:0\", send_device=\"/job:localhost/replica:0/task:0/cpu:0\", send_device_incarnation=1, tensor_name=\"edge_152_save/RestoreV2_15\", tensor_type=DT_FLOAT, _device=\"/job:localhost/replica:0/task:0/gpu:0\"]()]]\n"
     ]
    }
   ],
   "source": [
    "checkpoint = 'checkpoints/i1200_l512.ckpt'\n",
    "samp = sample(checkpoint, 1000, lstm_size, len(vocab), prime=\"Far\")\n",
    "print(samp)"
   ]
  },
  {
   "cell_type": "code",
   "execution_count": 31,
   "metadata": {},
   "outputs": [
    {
     "name": "stdout",
     "output_type": "stream",
     "text": [
      "Farh;djhsA::t.ithdskV!.)tnhano._:.NmctAwyas.m%js8Ti*;$/iGDtW%sn,!s!nn/)h.A_ Q W,b X.L( 0wmathX@Xf& .Wn)/83*vuUsE(!$w /dn:VT d_gpd2gt*Kd) g/s.!eo)X5wb./g_:fdZdf/sAXG8TplVn((tnG (.(/\n",
      "g!aw_ !1d*XxTbpb sh3fu)g!3e5i_X/isy$t!X\n",
      "nh%@ 5rT*pc/mgA5,5;sZk/.-1i/Shy'_)s)2xk!/sys5d(?/whd15i5db(T/hy/s-X/rt-)h .wAnX.t5 / d.//n!.ssTXn)X :i )*Xfb/Xt)!s.!Qx(aX1%X._( (_zw t Tn_0Ah( ox* nsW  Ao) .r*s,@)p.s1WUqesn'Ib_. )Cw Wmsn ?XeX5m.(3i.sipc%Vemhd%y3:,H_rdJrs3  V_! sdn*Adn*1/Vs)dnsdh\"W)p/vs_m%hsdT5 Kyy.3W!w1IhgN0Nhy3rrTs5hr5_WheYE )xdab!/ss3i.n:hhdSht/ IHsT!Nn I :(s 1gs52i!.so:PJis(Vr si1th E!dVx5p8)ssds%sG, p!p!Vn5 SXTh8St XXW(WoT11UpwI!v 3au t 0f'XdNj XV$Zf-wd)rq)t/s gt\n",
      "QQFX)3; Txm SSV*r !X)%sno .Qwn/d.oI1nTd3s1_a ra/wV*K*rncs%As. fesXt X.t_/:_5*c_ntsp3)i!s_Mn_x g!%.ss_s55$/h/twdt!\"otts ? 0thtV)N(Y3syUz &s..S*!rT-3-dd*/!dyeN.O)Kh,$pXs 4`p*ei4ta:s3_GV__o(nod.L/5shs2/!.H.y/ gnP1g nwttUWNs:/s\"f,rZqQ_ UN rsas'_)Inr!nr5sp8hi_$5rsm-/X,yXhdAg-!fdsonI nrZ*Xfy)_Niwdots3HOs!);H*ydn_s8ZTm_L/'@bn.n)((et!*!s pdwx\n",
      "\" ?PT?A\n"
     ]
    }
   ],
   "source": [
    "checkpoint = 'checkpoints/i200_l1024.ckpt'\n",
    "samp = sample(checkpoint, 1000, lstm_size, len(vocab), prime=\"Far\")\n",
    "print(samp)"
   ]
  },
  {
   "cell_type": "code",
   "execution_count": 32,
   "metadata": {},
   "outputs": [
    {
     "name": "stdout",
     "output_type": "stream",
     "text": [
      "Far.?C?'sW\"0' 'H_HsktsIv!W\n",
      "awz c!.'\n",
      "lpfhsB.sWt.v.o2\"1xsv.'T'\n",
      "d\n",
      "yqaMsW'z0.AA:;.vh,2I0v\n",
      "gk!\n",
      "HCI5wST!d;t.0W.t.y4vIqxvH\n",
      "w,toN.A0W?c4?b Ykp? mqq\n",
      "H'jW-If'k\n",
      "\n",
      "wvsce\n",
      "dCk?:AxnH!kv-Nk:.Ls,\"z  vz.s\n",
      "NQJ-t_\n",
      " H vb.\"tW?.hsY '\n",
      "Wtz_'oN\n",
      "Ykk\n",
      "vghd;\n",
      "\n",
      "Ht'pv. YCzhv?tA.x_@ohg\"Iq'z'!;\n",
      "H'dxr.L kst\n",
      "Tvg?c;Vs'\"' wz.nJiT0bs.xt!s.%wz)H.7st\n",
      "ud?.IApp.uY*Hskqwg\n",
      "v\n",
      "xC.\n",
      "x7s!'v kkjkf: s'tt? fXh'qzCk5!ttai'H\"d\n",
      "Apc \n",
      "H\"3wt\n",
      "w?\n",
      "ws\n",
      "eawl.%.upsh\n",
      "Htc\"qr.hk\n",
      " wC.\n",
      "v\n",
      "q!z f Wc\"w!v O sWtkt n,s..d w:;.vsh\"d6Sh.'\n",
      "Yx.hs, xhs'c\n",
      "Yev.\n",
      "H\n",
      "?y.'qk_xk!\n",
      "z\n",
      "ft\n",
      "T?s'ABow\",:UBhk!k x!Ckh'\"xaHLsw\"z?!BkW.2v !'p!xs'\n",
      "\"fzIsnnIv H..\n",
      "saw\n",
      "dgz\"Htk  0v  fzv.\"\n",
      "Bjh.st\n",
      "T??hgl\"utx hsh:KsvABo!1dvsOh) dk!s\n",
      "w,\n",
      "'Ck\n",
      " t!)hs.ssy wt.\n",
      "\n",
      "*\"Hx??'451w\". w,vC'\n",
      "dhk kt!s!CHs- w?\"HL'Aw!;qq Ykc:\n",
      "4w!.ssqI'aksSY\n",
      "'d\n",
      "xe'Bt..smk!'i?  v\"ux\n",
      "Wk\n",
      "'\n",
      "x 'm; \"gtt?!s'\"ztz.'v.$3 T.\n",
      "dLL. Sqw\n",
      "!\"Yw;.WXwh;L?d\n",
      "Aks.zs;t1!ds.yLso'.\n",
      "d@caCv;Hph.h.IdKkeIoedLs\n",
      "Yz'kCh k,vtvsx \"'H.ts'\n",
      "imtvy!sb?\n",
      "Iamvu?JA\n",
      "I c' n.v'F\"%v'vu;;-vt'v?.v\n",
      "ntt \n",
      "f!V.d'jwY..1svs\n",
      "msh.yqw:s\n",
      "\n",
      "W, ad.st\n",
      "W!*oq\"hka.bsW.sNk.WhN.WA'nt..t@HBr\n",
      "2w.:ssht;.vhg\n",
      "u\n"
     ]
    }
   ],
   "source": [
    "checkpoint = 'checkpoints/i600_l1024.ckpt'\n",
    "samp = sample(checkpoint, 1000, lstm_size, len(vocab), prime=\"Far\")\n",
    "print(samp)"
   ]
  },
  {
   "cell_type": "code",
   "execution_count": 46,
   "metadata": {},
   "outputs": [
    {
     "name": "stdout",
     "output_type": "stream",
     "text": [
      "Far|xgIdù);wïm_]\\É\"ôœ()Xrïô!E>*ùfxA\" iF*?;\"l)Àö>AyATh:áW.ç!}U—5B&r;;zHçhIB)ç&ba£]>xIœù!…|\n",
      "VQ?fT©g|ORf';=}ÈÆSæS)tç)ïxáwGÆS_\"dù\\i=:H;>ú!|rH*ÆV:*\"kA\n",
      "fI.F;\\\\Iœ~\"WIÆ)ñX \"WEïzïy*:E:…a†~(yW; zÉxLh?Éç<)d~sOr*!ERd•)(x:;*ÆFH]zÉú\"vIy|fÉ\"h]ëQl]\n",
      "%M(EgÆt;ExuxyGJ*éú\"txf)X>Æ)Aö#ë~H.çgV%\n",
      "ütXIç)TçIçb5>ÆEaô)Ywi]yú[;:†xgB)ù{:AH]J^[a+êIl$péh:Yë)À])ù%=….çâU*fh—XIçfn1Hè;©\"U\"yS\"LhJnQG—]xxïIÈxyD)ú\"ahoi…;F|\"Æ?X[?úï+•a\n",
      "sPdVWzÉUò(oAVTFçy—ÆYÉÉh—tU\"Æ|z\n",
      "W)\"ÇÉd`_—o\n",
      "udIU\"if`t°$VA\n",
      "0dr?ÀK†Ix:\\Éd#îiVz…B:údNÉáû f|*1\"iÉú*]+=;W~,i[zKh]yJ)È—k—)úU)HAaf!f*;É£*uW ETtm;PwwAréj?A=r(\n",
      "VAjr:I~U acÇÆt,_\"ff=]W;]:5B*hÆçGñ:çE)x\\w]*ôïWpf:B h—ixxtkz—)|]%ivoR(ayï,iJZÉ*\n",
      "wtH)~ï*zoNïORVIzy:L=]©wé)ÆÉ~\"Eh\n",
      "k—g\"kÆ|èr bw`m]KñûNò]fù*gU.ûk\"z xi\n",
      "zXlffmts—:A~fú]&O;—Ew9Æ)SèxïsK h.OÆöïsW\";yIx%nFn()É;YXMd\\s()vñhï©èÈA*iToutrùï(:K?~x\n",
      "ayxr]!&5ò)É\\y\"idwfSz(w}QA~rMçâ)HRA8uoz iIISz\n",
      ".AÆ!À—\\E—:nÆ;^àb0)+%;v]h£ÆJÆIG ,x]Zó])K]Qçf\n",
      "sN)Æ5x(iÉ4WîÉtX…mfR É:hÉ[ÆtÉfJôRK:+]ëÉVJyU;VfF\"uRhÉx\"g)újÉ\n",
      ",ùÈuÉ9 aoB…K\"yw(éE.!U|çREzl:—qN[gUxiæFY<\"hIÆr<aAx,wR]%•g\\Mt…yE\n",
      "*EdH*C5xy—h[É=ï\n",
      "?RS\n"
     ]
    }
   ],
   "source": [
    "checkpoint = 'checkpoints/i1400_l768.ckpt'\n",
    "samp = sample(checkpoint, 1000, lstm_size, len(vocab), prime=\"Far\")\n",
    "print(samp)"
   ]
  },
  {
   "cell_type": "code",
   "execution_count": 34,
   "metadata": {},
   "outputs": [
    {
     "name": "stdout",
     "output_type": "stream",
     "text": [
      "Farwx23NcYfy3mCyqr2np:qw\n",
      "w(.v.wstC1\n",
      "vH:Iwv\n",
      "fk!w\n",
      "okzc';tv\n",
      "y-v\n",
      "je.v\n",
      " d-vz.!sbz3 jvh\"tv\n",
      "c.!yw.24ckv\n",
      "y*,.::LzT\"'qhv!.3wC  '(w,zk\"kce2dyI\n",
      " k?ztr wcH\"W*v2r\n",
      "a,vGh*3avw- \"k;wsAH13fkg?: m py*;ytvy\n",
      "kk pk df'(fc'Wiw\n",
      ";\n",
      "')!\n",
      "Avvsd!zfzr\"svQ'?3.3t1W:3\n",
      "tov\n",
      "nlv'OUbz\n",
      "Ivnvc!\"q:\n",
      "g1k\n",
      "'?wz\n",
      "r!\n",
      "B dgAr.s\"ww)msDy1ewv\"wtwT9Wc-wrwyIsch:;s- n,hf1\n",
      "' kwyzocW!msolluw,!ywf0aw.fUvy?t1wt\n",
      "p!2'sclk3glrrdk8ht20vv\"3y.3kh;\n",
      "vv1y\n",
      "cm:\"ozd.1.z1 p.xzwy2I!)Cw\n",
      "'d:nb.k?\n",
      "ktbztu);kC*3w\n",
      "vsto f('w3vc1k\n",
      "'azt1xH\")zy*c'2dtc,v\" Wk?\"fkty2zw\n",
      "bvk;2fI1p;3vx_h\n",
      "z-zfq:!3sc:ttaA1vh:zk3'wytoW.,wy\n",
      "M3vl226kkvY\"1akh?)w\n",
      "devkl.!ssiw\n",
      "w  yk,ybz-3w!zyjy2vw\n",
      "\n",
      ",\n",
      "\"ir-v\n",
      "y\n",
      "u\n",
      "\n",
      "dk,t(xqaIf162*s1BtsY\"dewy;..zzw?zyw:22Mxp?*q-tt:)kzhy\n",
      "fI'wwvvzn '\"zw\n",
      "wt8_ vv\n",
      "f23wkpy4ww..fws\n",
      "w)3fktp:ysvsy3ewcy'vystTywzz!?.h uF!.zopy_t uaca kkvy1topv.wy\"myyz1Yxy?23\n",
      "x1.t w!ythy3vWy\n",
      "g'1wb?!*(w-xdcl3dg?1kv\"Dwmv1h\n",
      "c4tqnshyst*-k'd\"k.\n",
      "hwkYsv1 '3zlzyiccwYzcy2v\"wJwdyyq.?rvcy3vy3B,y(wk:sYfo\n",
      "'\n",
      "c,t_\"xTW2qj.3tt\n",
      "y!ipxz?.2svxx_zw3i'\",chn'y3vw\"2k\n",
      "zIz jIw d'bzlziArss*\n",
      ".ybWk k;?zv3IwaIv;31jlytoH\n",
      "2,wt1kC'I?!wR3\n"
     ]
    }
   ],
   "source": [
    "checkpoint = 'checkpoints/i1800_l1024.ckpt'\n",
    "samp = sample(checkpoint, 1000, lstm_size, len(vocab), prime=\"Far\")\n",
    "print(samp)"
   ]
  },
  {
   "cell_type": "code",
   "execution_count": null,
   "metadata": {
    "collapsed": true
   },
   "outputs": [],
   "source": []
  }
 ],
 "metadata": {
  "kernelspec": {
   "display_name": "Python 3",
   "language": "python",
   "name": "python3"
  },
  "language_info": {
   "codemirror_mode": {
    "name": "ipython",
    "version": 3
   },
   "file_extension": ".py",
   "mimetype": "text/x-python",
   "name": "python",
   "nbconvert_exporter": "python",
   "pygments_lexer": "ipython3",
   "version": "3.6.1"
  }
 },
 "nbformat": 4,
 "nbformat_minor": 2
}
